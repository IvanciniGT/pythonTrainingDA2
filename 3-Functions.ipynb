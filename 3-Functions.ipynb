{
 "cells": [
  {
   "cell_type": "markdown",
   "id": "db118976-379c-4fdf-a409-53a83654cbb1",
   "metadata": {},
   "source": [
    "# Function\n",
    "\n",
    "A funciton is a piece of code that we can executa, as many times as we need.\n",
    "\n",
    "Python comes with abunch of integrated functions.\n",
    "\n",
    "Python allows me to create my custom functions."
   ]
  },
  {
   "cell_type": "code",
   "execution_count": 6,
   "id": "c654661f-479f-4578-911b-974ea1bcf623",
   "metadata": {},
   "outputs": [
    {
     "name": "stdout",
     "output_type": "stream",
     "text": [
      "Good morning Ivan\n",
      "Good morning Sean\n",
      "Good morning Malachy\n",
      "Good morning Helena\n"
     ]
    }
   ],
   "source": [
    "def sayHello():\n",
    "    print(\"Good morning \")\n",
    "\n",
    "def sayHello(person):\n",
    "    print(\"Good morning \" + person)\n",
    "    \n",
    "sayHello(\"Ivan\")\n",
    "sayHello(\"Sean\")\n",
    "sayHello(\"Malachy\")\n",
    "sayHello(\"Helena\")\n"
   ]
  },
  {
   "cell_type": "code",
   "execution_count": 8,
   "id": "ea8ef2f4-7f6d-4012-9a28-aa6e2b0978f9",
   "metadata": {},
   "outputs": [
    {
     "name": "stdout",
     "output_type": "stream",
     "text": [
      "Good morning buddy\n",
      "Good morning Juliana\n"
     ]
    }
   ],
   "source": [
    "def sayHello(person = \"buddy\"):\n",
    "    print(\"Good morning \" + person)\n",
    "    \n",
    "sayHello()\n",
    "sayHello(\"Juliana\")"
   ]
  },
  {
   "cell_type": "code",
   "execution_count": 11,
   "id": "447c31a2-c5fe-40b0-b871-69a91ad36563",
   "metadata": {},
   "outputs": [
    {
     "name": "stdout",
     "output_type": "stream",
     "text": [
      "Good morning Francisco\n",
      "Hey Francisca !!!\n"
     ]
    }
   ],
   "source": [
    "def sayHello(polite, person = \"buddy\"):\n",
    "    if polite:\n",
    "        print(\"Good morning \" + person)\n",
    "    else:\n",
    "        print(\"Hey \" + person +\" !!!\")\n",
    "\n",
    "sayHello(True, \"Francisco\")\n",
    "sayHello(False, \"Francisca\")\n",
    "        "
   ]
  },
  {
   "cell_type": "code",
   "execution_count": 12,
   "id": "1951851c-28fd-453b-883f-c5e6147c76a3",
   "metadata": {},
   "outputs": [
    {
     "ename": "SyntaxError",
     "evalue": "non-default argument follows default argument (3379232316.py, line 1)",
     "output_type": "error",
     "traceback": [
      "\u001b[0;36m  Input \u001b[0;32mIn [12]\u001b[0;36m\u001b[0m\n\u001b[0;31m    def sayHello( person = \"buddy\", polite):\u001b[0m\n\u001b[0m                                          ^\u001b[0m\n\u001b[0;31mSyntaxError\u001b[0m\u001b[0;31m:\u001b[0m non-default argument follows default argument\n"
     ]
    }
   ],
   "source": [
    "# You cannot define an argument without a default value, after arguments which have default values already.\n",
    "def sayHello( person = \"buddy\", polite):\n",
    "    if polite:\n",
    "        print(\"Good morning \" + person)\n",
    "    else:\n",
    "        print(\"Hey \" + person +\" !!!\")\n",
    "\n",
    "sayHello(\"Francisco\", True)\n",
    "sayHello(\"Francisca\", False)"
   ]
  },
  {
   "cell_type": "code",
   "execution_count": 27,
   "id": "99a00fcd-87ea-4025-947b-f0ec327c7ea5",
   "metadata": {},
   "outputs": [
    {
     "name": "stdout",
     "output_type": "stream",
     "text": [
      "Hey buddy !!!\n",
      "Good morning buddy\n",
      "Good morning Çigdem\n",
      "Hey Çigdem !!!\n"
     ]
    }
   ],
   "source": [
    "def sayHello(polite = True, person = \"buddy\"):\n",
    "    if polite:\n",
    "        print(\"Good morning \" + person)\n",
    "    else:\n",
    "        print(\"Hey \" + person +\" !!!\")\n",
    "\n",
    "sayHello(False)\n",
    "\n",
    "sayHello(\"Çigdem\")\n",
    "\n",
    "# In this case, as polite does not refer to a boolean value, but a text...\n",
    "# Python is just checking if the var is assigned or not.\n",
    "\n",
    "# I can leave a var unassigned in python... Just using the 'None' keyword\n",
    "\n",
    "sayHello(person = \"Çigdem\")\n",
    "sayHello(person = \"Çigdem\", polite = False)\n"
   ]
  },
  {
   "cell_type": "code",
   "execution_count": 28,
   "id": "fa67c19f-ac7f-404a-945d-560af3bdf31a",
   "metadata": {},
   "outputs": [
    {
     "name": "stdout",
     "output_type": "stream",
     "text": [
      "It is raining\n"
     ]
    }
   ],
   "source": [
    "rain = \"Hello\"\n",
    "\n",
    "if rain:                   # Is the rain var assigned?\n",
    "    print(\"It is raining\")\n",
    "else:\n",
    "    print(\"It is NOT raining\")\n",
    "    \n",
    "# In this case, as rain does not contain a Boolean... \n",
    "# Python is just checking if the var is assigned."
   ]
  },
  {
   "cell_type": "code",
   "execution_count": 29,
   "id": "7b78d2dd-2ead-4713-aeaf-18a62146207e",
   "metadata": {},
   "outputs": [],
   "source": [
    "def composeGreeting(polite = True, person = \"buddy\"):\n",
    "    if polite:\n",
    "        return \"Good morning \" + person\n",
    "    else:\n",
    "        return \"Hey \" + person +\" !!!\"\n",
    "        \n",
    "my_greeting = composeGreeting(False, \"Anne\")\n"
   ]
  },
  {
   "cell_type": "code",
   "execution_count": 31,
   "id": "5737f102-d97a-4dbd-bd80-e8d8ee537a4f",
   "metadata": {},
   "outputs": [
    {
     "name": "stdout",
     "output_type": "stream",
     "text": [
      "Hey Anne !!!\n"
     ]
    }
   ],
   "source": [
    "print(my_greeting)"
   ]
  },
  {
   "cell_type": "markdown",
   "id": "9b71ffb7-b45f-457e-9c54-4413fc862673",
   "metadata": {},
   "source": [
    "A function can receive none or a bunch of arguments.\n",
    "\n",
    "A function can return none or 1 value.\n",
    "\n",
    "Can a function in Python return more than 1 value?\n",
    "\n",
    "Actually NO.... But ... there is a trick!\n",
    "\n",
    "We can return a tuple (collection of values)"
   ]
  },
  {
   "cell_type": "code",
   "execution_count": 35,
   "id": "07a64e40-7a35-4496-b386-1793b9416138",
   "metadata": {},
   "outputs": [
    {
     "name": "stdout",
     "output_type": "stream",
     "text": [
      "Hey Anne !!!\n",
      "Hi Anne ;)\n"
     ]
    }
   ],
   "source": [
    "def composeGreetings(polite = True, person = \"buddy\"):\n",
    "    if polite:\n",
    "        return ( \"Good morning \" + person , \"Hello \" + person )\n",
    "        #return \"Good morning \" + person , \"Hello \" + person\n",
    "    else:\n",
    "        return ( \"Hey \" + person + \" !!!\" , \"Hi \" + person + \" ;)\" ) \n",
    "        #return  \"Hey \" + person + \" !!!\" , \"Hi \" + person + \" ;)\"\n",
    "        \n",
    "my_greetings = composeGreetings(False, \"Anne\")\n",
    "\n",
    "\n",
    "print(my_greetings[0])\n",
    "print(my_greetings[1])"
   ]
  },
  {
   "cell_type": "code",
   "execution_count": 38,
   "id": "8e763d9f-65df-45eb-8d6e-61dd8066ae91",
   "metadata": {},
   "outputs": [
    {
     "name": "stdout",
     "output_type": "stream",
     "text": [
      "B\n",
      "B\n",
      "C\n"
     ]
    }
   ],
   "source": [
    "# Python has a weird feature called 'destructuration of tuples'.\n",
    "\n",
    "my_tuple = ( \"A\", \"B\", \"C\" )\n",
    "\n",
    "print( my_tuple[1] )\n",
    "\n",
    "\n",
    "(first_value, second_value, third_value) = ( \"A\", \"B\", \"C\" )\n",
    "\n",
    "print(second_value)\n",
    "\n",
    "first_value, second_value, third_value = ( \"A\", \"B\", \"C\" )\n",
    "\n",
    "print(third_value)"
   ]
  },
  {
   "cell_type": "code",
   "execution_count": 40,
   "id": "3c01b30f-f852-4265-916b-b5d9ed5cac73",
   "metadata": {},
   "outputs": [
    {
     "name": "stdout",
     "output_type": "stream",
     "text": [
      "Hey Anne !!!\n",
      "Hi Anne ;)\n"
     ]
    }
   ],
   "source": [
    "def composeGreetings(polite = True, person = \"buddy\"):\n",
    "    if polite:\n",
    "        return ( \"Good morning \" + person , \"Hello \" + person )\n",
    "        #return \"Good morning \" + person , \"Hello \" + person\n",
    "    else:\n",
    "        return ( \"Hey \" + person + \" !!!\" , \"Hi \" + person + \" ;)\" ) \n",
    "        #return  \"Hey \" + person + \" !!!\" , \"Hi \" + person + \" ;)\"\n",
    "        \n",
    "(first_greeting, second_greeting) = composeGreetings(False, \"Anne\")\n",
    "first_greeting, second_greeting = composeGreetings(False, \"Anne\")\n",
    "print(first_greeting)\n",
    "print(second_greeting)"
   ]
  },
  {
   "cell_type": "code",
   "execution_count": 41,
   "id": "b95d16f0-9d49-4408-a0be-d1475422b6d9",
   "metadata": {},
   "outputs": [
    {
     "name": "stdout",
     "output_type": "stream",
     "text": [
      "Hello Sean\n"
     ]
    }
   ],
   "source": [
    "_ , second_greeting = composeGreetings(True, \"Sean\")\n",
    "print(second_greeting)\n",
    "# This underscore means: Throw this argumento to the trashcan... we don't need it"
   ]
  },
  {
   "cell_type": "code",
   "execution_count": 43,
   "id": "2d815a92-a2ba-4bb6-9c5e-70187ac7da00",
   "metadata": {},
   "outputs": [
    {
     "name": "stdout",
     "output_type": "stream",
     "text": [
      "100\n"
     ]
    }
   ],
   "source": [
    "# Practice 1\n",
    "\n",
    "# greater (number1, number2)\n",
    "# This function should return the bigger one of them... If they are the same... whichever\n",
    "\n",
    "def greater(number1=0, number2=0):\n",
    "    if number1 == number2:\n",
    "        return number1\n",
    "    elif number1 > number2:\n",
    "        return number1\n",
    "    else:\n",
    "        return number2\n",
    "\n",
    "def greater(number1 = 0, number2 = 0):\n",
    "    if number1 >= number2:\n",
    "        return number1\n",
    "    else:\n",
    "        return number2\n",
    "\n",
    "def greater(number1 = 0, number2 = 0):\n",
    "    if number1 == number2 or number1 > number2:\n",
    "        return number1\n",
    "    else:\n",
    "        return number2\n",
    "\n",
    "def greater(number1 = 0, number2 = 0):\n",
    "    if number1 > number2:\n",
    "        return number1\n",
    "    else:\n",
    "        return number2\n",
    "\n",
    "def greater(number1 = 0, number2 = 0):\n",
    "    if number1 > number2:\n",
    "        return number1\n",
    "    return number2\n",
    "\n",
    "\n",
    "def greater(number1 = 0, number2 = 0):\n",
    "    value_to_be_returned = None\n",
    "    \n",
    "    if number1 > number2:\n",
    "        value_to_be_returned = number1\n",
    "    else:\n",
    "        value_to_be_returned = number2\n",
    "    \n",
    "    return value_to_be_returned\n",
    "\n",
    "def greater(number1 = 0, number2 = 0):\n",
    "    value_to_be_returned = number1\n",
    "    \n",
    "    if number2 > number1:\n",
    "        value_to_be_returned = number2\n",
    "    \n",
    "    return value_to_be_returned\n",
    "\n",
    "result = greater(4,100)\n",
    "print(result)\n"
   ]
  },
  {
   "cell_type": "code",
   "execution_count": 44,
   "id": "3169ec7f-74da-4c84-b1b3-3811cb97029b",
   "metadata": {},
   "outputs": [
    {
     "name": "stdout",
     "output_type": "stream",
     "text": [
      "50\n"
     ]
    }
   ],
   "source": [
    "# Practice 2\n",
    "\n",
    "def greatestAmongThree (number1, number2, number3):\n",
    "    return greater( greater(number1,number2) , number3)\n",
    "\n",
    "\n",
    "result = greatestAmongThree(1, -100, 50)\n",
    "print(result)\n"
   ]
  },
  {
   "cell_type": "code",
   "execution_count": 47,
   "id": "4112325b-8a8d-46b5-948d-6cb73b5f7e0d",
   "metadata": {},
   "outputs": [
    {
     "name": "stdout",
     "output_type": "stream",
     "text": [
      "120\n",
      "1\n",
      "120\n",
      "1\n",
      "120\n",
      "1\n"
     ]
    }
   ],
   "source": [
    "# Practice 3\n",
    "\n",
    "# factorial 5 = 5! = 5 x 4 x 3 x 2 x 1\n",
    "\n",
    "\n",
    "def factorial1(number):\n",
    "    # - collection based loop (for)\n",
    "    running = 1\n",
    "    \n",
    "    for number in range(number,1, -1):     # range (5,1,-1) -> (5, 4, 3, 2)\n",
    "        running *= number\n",
    "    \n",
    "    return running\n",
    "    \n",
    "    \n",
    "def factorial2(number):   # 5\n",
    "    # - condicional based loop (while)\n",
    "    running_total = 1\n",
    "    current_number=number  # 5\n",
    "    \n",
    "    while current_number > 1:\n",
    "        running_total *= current_number # 1 * 5 * 4 * 3 * 2\n",
    "        current_number -= 1   # 1\n",
    "    \n",
    "    return running_total\n",
    "    \n",
    "    \n",
    "def factorial3(number):\n",
    "    # This approach is called: RECURSIVITY\n",
    "    # We should try to AVOID RECURSITIVY < Stack Overflow\n",
    "    # - without using any kind of loop\n",
    "    # factorial 5 = 5! = 5 x 4!\n",
    "    # factorial 0 = 0! = 1\n",
    "    result = 1\n",
    "\n",
    "    if number>1:\n",
    "        result = number * factorial3(number - 1)\n",
    "    \n",
    "    return result\n",
    "\n",
    " \n",
    "    \n",
    "print(factorial1(5)) # 120\n",
    "print(factorial1(0)) # 0\n",
    "\n",
    "print(factorial2(5)) # 120\n",
    "print(factorial2(0)) # 0\n",
    "\n",
    "print(factorial3(5)) # 120\n",
    "print(factorial3(0)) # 0"
   ]
  },
  {
   "cell_type": "code",
   "execution_count": null,
   "id": "82247104-0fdf-48b6-b21d-dc96cf414495",
   "metadata": {},
   "outputs": [],
   "source": []
  }
 ],
 "metadata": {
  "kernelspec": {
   "display_name": "Python 3 (ipykernel)",
   "language": "python",
   "name": "python3"
  },
  "language_info": {
   "codemirror_mode": {
    "name": "ipython",
    "version": 3
   },
   "file_extension": ".py",
   "mimetype": "text/x-python",
   "name": "python",
   "nbconvert_exporter": "python",
   "pygments_lexer": "ipython3",
   "version": "3.9.10"
  }
 },
 "nbformat": 4,
 "nbformat_minor": 5
}
