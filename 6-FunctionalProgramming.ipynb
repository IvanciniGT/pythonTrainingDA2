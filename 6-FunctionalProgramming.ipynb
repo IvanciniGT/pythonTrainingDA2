{
 "cells": [
  {
   "cell_type": "markdown",
   "id": "b51368a7-9463-4df8-84e1-e4c0f2604c27",
   "metadata": {},
   "source": [
    "# Functional Programming \n",
    "\n",
    "It is a software development paradigm.\n",
    "\n",
    "When we write code, and we use a language, we can use the language in several ways.\n",
    "\n",
    "Imperative language: Place this chair below the window!\n",
    "\n",
    "Declarative language: This chair must be placed below the window.\n",
    "\n",
    "## Functional programming.\n",
    "\n",
    "We have been placing things (data) in the computer's memory.\n",
    "\n",
    "We can use vars to recover things from the computer's memory.\n",
    "\n",
    "When we use functional programming, we place functions in the computer's memory.\n",
    "\n",
    "If a function is placed in my computer's memory... I can use a var to access a function.\n",
    "\n",
    "That means that I can supply a function as an argument to another function."
   ]
  },
  {
   "cell_type": "code",
   "execution_count": 2,
   "id": "cf6f0f1d-8713-4a75-a1b1-cd55837a2bcd",
   "metadata": {},
   "outputs": [
    {
     "name": "stdout",
     "output_type": "stream",
     "text": [
      "[2, 6, 10, 14, 18]\n"
     ]
    }
   ],
   "source": [
    "my_list = [1, 3, 5, 7, 9]\n",
    "\n",
    "# I want to create a new list... with the same amount of values than my_list.\n",
    "# Each value in my_new_list is going to be calculated from each value of the original list...\n",
    "# We are just going to double the original values.\n",
    "\n",
    "my_new_list = []\n",
    "\n",
    "def double (number):\n",
    "    return number * 2\n",
    "\n",
    "for each_number in my_list:\n",
    "    my_new_list.append( double(each_number) )\n",
    "    \n",
    "print(my_new_list)"
   ]
  },
  {
   "cell_type": "code",
   "execution_count": 4,
   "id": "10d913d5-921c-409f-8ada-c9cb761981a0",
   "metadata": {},
   "outputs": [
    {
     "data": {
      "text/plain": [
       "[2, 6, 10, 14, 18]"
      ]
     },
     "execution_count": 4,
     "metadata": {},
     "output_type": "execute_result"
    }
   ],
   "source": [
    "my_list = [1, 3, 5, 7, 9]\n",
    "        #  1 < double > 2\n",
    "        #  3 < double > 6\n",
    "        #  5 < double > 10\n",
    "        #  7 < double > 14\n",
    "        #  9 < double > 18\n",
    "\n",
    "list(map(double, my_list))"
   ]
  },
  {
   "cell_type": "code",
   "execution_count": 5,
   "id": "760e349e-8430-41b4-8376-6ec4b9eb3396",
   "metadata": {},
   "outputs": [
    {
     "data": {
      "text/plain": [
       "[('1265', '$'),\n",
       " ('1587.9', '€'),\n",
       " ('1587.9', '€'),\n",
       " ('587.6', '£'),\n",
       " ('587.6', '£')]"
      ]
     },
     "execution_count": 5,
     "metadata": {},
     "output_type": "execute_result"
    }
   ],
   "source": [
    "AMOUNT_TEXT_DATA = ( \"$1265\" , \"1587.9€\" , \" 1587.9 €\" , \"£587.6\", \"£ 587.6\")\n",
    "\n",
    "import re # Please, let me use this RE library\n",
    "\n",
    "def splitAmount(amount_as_a_text):\n",
    "    NUMERIC_PATTERN = \"[0-9.]+\"\n",
    "    CURRENCY_PATTERN = \"[$€£]\"\n",
    "    number=re.search(NUMERIC_PATTERN, amount_as_a_text).group()\n",
    "    currency=re.search(CURRENCY_PATTERN, amount_as_a_text).group()\n",
    "    return (number, currency)\n",
    "    \n",
    "#for each_text in AMOUNT_TEXT_DATA:\n",
    "#    quantity, currency = splitAmount(each_text)\n",
    "#    print(quantity)\n",
    "#    print(currency)\n",
    "\n",
    "list(map(splitAmount, AMOUNT_TEXT_DATA))"
   ]
  },
  {
   "cell_type": "code",
   "execution_count": 8,
   "id": "6e15f247-cf9c-4722-bc6e-d1fbde9947fe",
   "metadata": {},
   "outputs": [
    {
     "data": {
      "text/plain": [
       "[7, 9]"
      ]
     },
     "execution_count": 8,
     "metadata": {},
     "output_type": "execute_result"
    }
   ],
   "source": [
    "my_list = [1, 3, 5, 7, 9]\n",
    "\n",
    "def greaterThan5(number):\n",
    "    return number > 5\n",
    "\n",
    "list(filter(greaterThan5, my_list))"
   ]
  },
  {
   "cell_type": "markdown",
   "id": "f3726825-4609-45e6-8151-9824984429d6",
   "metadata": {},
   "source": [
    "# Anonymous functions\n",
    "\n",
    "They are just functions without a name.\n"
   ]
  },
  {
   "cell_type": "code",
   "execution_count": 9,
   "id": "69249741-77fa-4942-b878-aa66743da4ce",
   "metadata": {},
   "outputs": [
    {
     "data": {
      "text/plain": [
       "[7, 9]"
      ]
     },
     "execution_count": 9,
     "metadata": {},
     "output_type": "execute_result"
    }
   ],
   "source": [
    "my_list = [1, 3, 5, 7, 9]\n",
    "\n",
    "#my_function = lambda my_number: my_number > 5\n",
    "#list(filter( my_function , my_list))\n",
    "\n",
    "list(filter( lambda my_number: my_number > 5 , my_list))"
   ]
  },
  {
   "cell_type": "code",
   "execution_count": 10,
   "id": "8e0c04bc-bf7f-4629-955e-c1fd50583798",
   "metadata": {},
   "outputs": [
    {
     "data": {
      "text/plain": [
       "[False, False, False, True, True]"
      ]
     },
     "execution_count": 10,
     "metadata": {},
     "output_type": "execute_result"
    }
   ],
   "source": [
    "my_list = [1, 3, 5, 7, 9]\n",
    "\n",
    "def greaterThan5(number):\n",
    "    return number > 5\n",
    "\n",
    "list(map(greaterThan5, my_list))"
   ]
  },
  {
   "cell_type": "code",
   "execution_count": 11,
   "id": "e104d8aa-1371-471d-ac98-c6e1cef8f043",
   "metadata": {},
   "outputs": [
    {
     "data": {
      "text/plain": [
       "[1, 3, 5, 7, 9]"
      ]
     },
     "execution_count": 11,
     "metadata": {},
     "output_type": "execute_result"
    }
   ],
   "source": [
    "my_list"
   ]
  },
  {
   "cell_type": "code",
   "execution_count": null,
   "id": "7bfb9a91-3df1-4b19-a399-cd6d05f9a843",
   "metadata": {},
   "outputs": [],
   "source": []
  }
 ],
 "metadata": {
  "kernelspec": {
   "display_name": "Python 3 (ipykernel)",
   "language": "python",
   "name": "python3"
  },
  "language_info": {
   "codemirror_mode": {
    "name": "ipython",
    "version": 3
   },
   "file_extension": ".py",
   "mimetype": "text/x-python",
   "name": "python",
   "nbconvert_exporter": "python",
   "pygments_lexer": "ipython3",
   "version": "3.9.10"
  }
 },
 "nbformat": 4,
 "nbformat_minor": 5
}
