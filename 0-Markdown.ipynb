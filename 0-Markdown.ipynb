{
 "cells": [
  {
   "cell_type": "markdown",
   "id": "74b5db25-b4c5-4142-b4c0-3bf36e2a8416",
   "metadata": {},
   "source": [
    "Markdown is just another syntax for documentation.\n",
    "\n",
    "We have special tokens that we can use to format (style) our documentation.\n",
    "\n",
    "# This is my main title\n",
    "\n",
    "## This is a subtitle\n",
    "\n",
    "### This is a third level header\n",
    "\n",
    "#### This is a fourth level header\n",
    "\n",
    "##### This is a fifth level header\n",
    "\n",
    "###### This is the smallest level header that we can use\n",
    "\n",
    "\n",
    "\n",
    "\n",
    "\n"
   ]
  },
  {
   "cell_type": "markdown",
   "id": "8a20abc3-2479-4bef-a4bf-bd2bbd6ca59c",
   "metadata": {},
   "source": [
    "# Lists\n",
    "\n",
    "## Unordered lists\n",
    "\n",
    "- item1\n",
    "- item2 \n",
    "- This is another item. \n",
    "\n",
    "  This item has a bunch of text.\n",
    "\n",
    "  + item 1 of the second list\n",
    "  + item 2\n",
    "\n",
    "    * item1 third list\n",
    "    * item 2\n",
    "\n"
   ]
  },
  {
   "cell_type": "markdown",
   "id": "cf6e2b8f-393d-4d29-9530-9beb639d4c57",
   "metadata": {},
   "source": [
    "## Ordered lists\n",
    "\n",
    "1. item 1\n",
    "1. item 2\n",
    "1. item 3\n",
    "\n",
    "1) item 1\n",
    "2) item 2\n",
    "\n",
    "   1. item1\n",
    "   1. item 1"
   ]
  },
  {
   "cell_type": "markdown",
   "id": "8f2a3e4f-51c2-4f76-8637-34d079b315b3",
   "metadata": {},
   "source": [
    "## Styling text\n",
    "\n",
    "I have this line of text right here... And I what **THIS** word to be bold.\n",
    "\n",
    "Maybe I want to *emphasize* a word.\n",
    "\n",
    "This is a really important ***word or sentence***.\n",
    "\n",
    "Imagine I have a piece of code (let's say SQL).\n",
    "\n",
    "```\n",
    "SELECT \n",
    "    column1, column2\n",
    "FROM \n",
    "    mytable;\n",
    "```\n",
    "\n",
    "I'm going to execute this query: `SELECT column1, column2 FROM mytable;` against my database.\n",
    "\n",
    "That is going to look like this line\n",
    "\n"
   ]
  },
  {
   "cell_type": "markdown",
   "id": "c21c0a4c-1868-4b47-ac71-4c9b39034f94",
   "metadata": {},
   "source": [
    "## Tables\n",
    "\n",
    "| Column 1 | Column 2. With a really long title          | Column 3 |\n",
    "| -------- | :---:                                       | --------: |\n",
    "| Row 1    | Second cell row 1                           | 3a       |\n",
    "| Row 2    | Second cell row 2                           | 3b       |"
   ]
  },
  {
   "cell_type": "markdown",
   "id": "0754f846-fa64-41f3-883f-376905c8bde2",
   "metadata": {},
   "source": [
    "## Links\n",
    "\n",
    "I have downloaded this code from this site right here: [Google](http://google.com)"
   ]
  },
  {
   "cell_type": "markdown",
   "id": "710284a0-5ca6-4e89-a9a3-9557d0bccc4f",
   "metadata": {},
   "source": [
    "## Image\n",
    "\n",
    "![Alternative text](https://openwhisk.apache.org/images/runtimes/icon-docker-notext-color.png)\n",
    "![Alternative text](icon-docker-notext-color.png)"
   ]
  },
  {
   "cell_type": "code",
   "execution_count": null,
   "id": "9ad17d0f-cdeb-413f-ba4b-6b1aef1e5535",
   "metadata": {},
   "outputs": [],
   "source": []
  }
 ],
 "metadata": {
  "kernelspec": {
   "display_name": "Python 3 (ipykernel)",
   "language": "python",
   "name": "python3"
  },
  "language_info": {
   "codemirror_mode": {
    "name": "ipython",
    "version": 3
   },
   "file_extension": ".py",
   "mimetype": "text/x-python",
   "name": "python",
   "nbconvert_exporter": "python",
   "pygments_lexer": "ipython3",
   "version": "3.9.10"
  }
 },
 "nbformat": 4,
 "nbformat_minor": 5
}
