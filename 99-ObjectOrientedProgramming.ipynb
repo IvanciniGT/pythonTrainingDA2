{
 "cells": [
  {
   "cell_type": "code",
   "execution_count": 10,
   "id": "b34199f8-7823-42f3-a9f5-73a59e694f8f",
   "metadata": {},
   "outputs": [
    {
     "name": "stdout",
     "output_type": "stream",
     "text": [
      "Ivan\n",
      "Osuna\n",
      "43\n",
      "ivan@gmail.com\n",
      "None\n",
      "Ivan Osuna\n"
     ]
    }
   ],
   "source": [
    "my_number = 10\n",
    "my_text = \"Hi\"\n",
    "my_boolean = True\n",
    "\n",
    "my_tuple = (1,2,3)\n",
    "my_list = [\"a\",\"b\",\"c\"]\n",
    "\n",
    "my_list.append(\"d\")\n",
    "my_text.upper()\n",
    "\n",
    "\n",
    "class Person:\n",
    "    \n",
    "    def __init__(self):\n",
    "        self.surname=None\n",
    "        self.lastname=None\n",
    "        self.age=None\n",
    "        self.email=None\n",
    "        self.phoneNumber=None\n",
    "    \n",
    "    def fullName(self):\n",
    "        return self.surname + \" \" + self.lastname\n",
    "\n",
    "personA = Person()\n",
    "personB = Person()\n",
    "\n",
    "personA.surname = \"Ivan\"\n",
    "personA.lastname = \"Osuna\"\n",
    "personA.age = 43\n",
    "personA.email = \"ivan@gmail.com\"\n",
    "\n",
    "print(personA.surname)\n",
    "print(personA.lastname)\n",
    "print(personA.age)\n",
    "print(personA.email)\n",
    "print(personA.phoneNumber)\n",
    "print(personA.fullName())\n",
    "\n",
    "    \n"
   ]
  },
  {
   "cell_type": "code",
   "execution_count": null,
   "id": "d9607062-b992-4944-bae4-a95c349388c6",
   "metadata": {},
   "outputs": [],
   "source": []
  }
 ],
 "metadata": {
  "kernelspec": {
   "display_name": "Python 3 (ipykernel)",
   "language": "python",
   "name": "python3"
  },
  "language_info": {
   "codemirror_mode": {
    "name": "ipython",
    "version": 3
   },
   "file_extension": ".py",
   "mimetype": "text/x-python",
   "name": "python",
   "nbconvert_exporter": "python",
   "pygments_lexer": "ipython3",
   "version": "3.9.10"
  }
 },
 "nbformat": 4,
 "nbformat_minor": 5
}
