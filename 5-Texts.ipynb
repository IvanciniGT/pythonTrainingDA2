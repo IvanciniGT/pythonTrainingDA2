{
 "cells": [
  {
   "cell_type": "code",
   "execution_count": 11,
   "id": "14eb0dee-12d9-4f71-b5d0-417784c18757",
   "metadata": {},
   "outputs": [],
   "source": [
    "my_text = \"hi Everybody. How are you doing?\""
   ]
  },
  {
   "cell_type": "code",
   "execution_count": 12,
   "id": "eaa43312-2ad0-4991-8784-898e63c104dd",
   "metadata": {},
   "outputs": [
    {
     "name": "stdout",
     "output_type": "stream",
     "text": [
      "hi Everybody. How are you doing?\n"
     ]
    }
   ],
   "source": [
    "print(my_text)"
   ]
  },
  {
   "cell_type": "code",
   "execution_count": 13,
   "id": "a82e5d68-872c-4f77-8ec7-fc15324070c9",
   "metadata": {},
   "outputs": [],
   "source": [
    "# As texts are just tuples of chars...\n",
    "# We can:\n",
    "# - Get the number of chars inside my text\n",
    "# - Access to one single char\n",
    "# - Slice the text - create a substring"
   ]
  },
  {
   "cell_type": "code",
   "execution_count": 14,
   "id": "daa6d8ce-f4b0-4c8d-a1e5-414b0596206d",
   "metadata": {},
   "outputs": [
    {
     "name": "stdout",
     "output_type": "stream",
     "text": [
      "HI EVERYBODY. HOW ARE YOU DOING?\n",
      "hi everybody. how are you doing?\n",
      "Hi everybody. how are you doing?\n",
      "Hi Everybody. How Are You Doing?\n",
      "HI eVERYBODY. hOW ARE YOU DOING?\n"
     ]
    }
   ],
   "source": [
    "# Functions for controlling the case\n",
    "\n",
    "my_capitalized_text = my_text.upper()\n",
    "\n",
    "print( my_text.upper() )  # Return a copy of the text\n",
    "print( my_text.lower() )\n",
    "print( my_text.capitalize() )\n",
    "print( my_text.title() )\n",
    "print( my_text.swapcase() )\n"
   ]
  },
  {
   "cell_type": "code",
   "execution_count": 15,
   "id": "485247e9-0a52-44b8-af22-13fce5ec87c0",
   "metadata": {},
   "outputs": [
    {
     "data": {
      "text/plain": [
       "'hi Everybody. How are you doing?'"
      ]
     },
     "execution_count": 15,
     "metadata": {},
     "output_type": "execute_result"
    }
   ],
   "source": [
    "my_text"
   ]
  },
  {
   "cell_type": "code",
   "execution_count": 16,
   "id": "637f5684-2dc7-4ec3-82de-63d0d7af9883",
   "metadata": {},
   "outputs": [
    {
     "name": "stdout",
     "output_type": "stream",
     "text": [
      "\n",
      "hi Everybody. \n",
      "How are you doing?    \n"
     ]
    }
   ],
   "source": [
    "# Functions for controlling whitespaces\n",
    "\n",
    "my_text = \"\"\"\n",
    "hi Everybody. \n",
    "How are you doing?    \"\"\"\n",
    "\n",
    "print(my_text)"
   ]
  },
  {
   "cell_type": "code",
   "execution_count": 17,
   "id": "3aac53b9-2864-4216-85ed-94fb1df46d75",
   "metadata": {},
   "outputs": [
    {
     "data": {
      "text/plain": [
       "'\\nhi Everybody. \\nHow are you doing?    '"
      ]
     },
     "execution_count": 17,
     "metadata": {},
     "output_type": "execute_result"
    }
   ],
   "source": [
    "my_text"
   ]
  },
  {
   "cell_type": "code",
   "execution_count": 18,
   "id": "8e555055-afa0-4c93-9bff-728415d7be66",
   "metadata": {},
   "outputs": [
    {
     "data": {
      "text/plain": [
       "'hi Everybody. \\nHow are you doing?'"
      ]
     },
     "execution_count": 18,
     "metadata": {},
     "output_type": "execute_result"
    }
   ],
   "source": [
    "my_text.strip()  # Is going to remove the whitespaces\n",
    "                 # (Tabs, New lines, spaces) from the beggining and the end of the text."
   ]
  },
  {
   "cell_type": "code",
   "execution_count": 19,
   "id": "dbccd73e-ff7e-4d70-94bc-8abb030aec00",
   "metadata": {},
   "outputs": [
    {
     "data": {
      "text/plain": [
       "'hi Everybody. \\nHow are you doing?    '"
      ]
     },
     "execution_count": 19,
     "metadata": {},
     "output_type": "execute_result"
    }
   ],
   "source": [
    "my_text.lstrip()  "
   ]
  },
  {
   "cell_type": "code",
   "execution_count": 20,
   "id": "4e4f13b0-8ae7-455c-a200-601282d974d3",
   "metadata": {},
   "outputs": [
    {
     "data": {
      "text/plain": [
       "'\\nhi Everybody. \\nHow are you doing?'"
      ]
     },
     "execution_count": 20,
     "metadata": {},
     "output_type": "execute_result"
    }
   ],
   "source": [
    "my_text.rstrip()  "
   ]
  },
  {
   "cell_type": "code",
   "execution_count": 22,
   "id": "b15fad22-c0af-4054-9fe0-57d71bc5825e",
   "metadata": {},
   "outputs": [
    {
     "name": "stdout",
     "output_type": "stream",
     "text": [
      "This\n",
      "is\n",
      "a\n",
      "nice\n",
      "text\n"
     ]
    }
   ],
   "source": [
    "## Text splitting\n",
    "my_text = \"This is a nice text\"\n",
    "my_text.split()  # Pythion is going to return a tuple, containing substrings. \n",
    "                 # It's going to split the text by whitespaces\n",
    "    \n",
    "for each_word in my_text.split():\n",
    "    print(each_word)"
   ]
  },
  {
   "cell_type": "code",
   "execution_count": 23,
   "id": "81929f74-4759-4e16-91c7-7e02b1138cf7",
   "metadata": {},
   "outputs": [
    {
     "data": {
      "text/plain": [
       "['Th', 's ', 's a n', 'ce text']"
      ]
     },
     "execution_count": 23,
     "metadata": {},
     "output_type": "execute_result"
    }
   ],
   "source": [
    "my_text.split('i') "
   ]
  },
  {
   "cell_type": "code",
   "execution_count": null,
   "id": "3c4aa608-17b6-423f-9fa5-d2e44b4b7aad",
   "metadata": {},
   "outputs": [],
   "source": [
    "# Regular expressions"
   ]
  }
 ],
 "metadata": {
  "kernelspec": {
   "display_name": "Python 3 (ipykernel)",
   "language": "python",
   "name": "python3"
  },
  "language_info": {
   "codemirror_mode": {
    "name": "ipython",
    "version": 3
   },
   "file_extension": ".py",
   "mimetype": "text/x-python",
   "name": "python",
   "nbconvert_exporter": "python",
   "pygments_lexer": "ipython3",
   "version": "3.9.10"
  }
 },
 "nbformat": 4,
 "nbformat_minor": 5
}
