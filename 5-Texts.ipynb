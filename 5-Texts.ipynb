{
 "cells": [
  {
   "cell_type": "code",
   "execution_count": 11,
   "id": "14eb0dee-12d9-4f71-b5d0-417784c18757",
   "metadata": {},
   "outputs": [],
   "source": [
    "my_text = \"hi Everybody. How are you doing?\""
   ]
  },
  {
   "cell_type": "code",
   "execution_count": 12,
   "id": "eaa43312-2ad0-4991-8784-898e63c104dd",
   "metadata": {},
   "outputs": [
    {
     "name": "stdout",
     "output_type": "stream",
     "text": [
      "hi Everybody. How are you doing?\n"
     ]
    }
   ],
   "source": [
    "print(my_text)"
   ]
  },
  {
   "cell_type": "code",
   "execution_count": 13,
   "id": "a82e5d68-872c-4f77-8ec7-fc15324070c9",
   "metadata": {},
   "outputs": [],
   "source": [
    "# As texts are just tuples of chars...\n",
    "# We can:\n",
    "# - Get the number of chars inside my text\n",
    "# - Access to one single char\n",
    "# - Slice the text - create a substring"
   ]
  },
  {
   "cell_type": "code",
   "execution_count": 14,
   "id": "daa6d8ce-f4b0-4c8d-a1e5-414b0596206d",
   "metadata": {},
   "outputs": [
    {
     "name": "stdout",
     "output_type": "stream",
     "text": [
      "HI EVERYBODY. HOW ARE YOU DOING?\n",
      "hi everybody. how are you doing?\n",
      "Hi everybody. how are you doing?\n",
      "Hi Everybody. How Are You Doing?\n",
      "HI eVERYBODY. hOW ARE YOU DOING?\n"
     ]
    }
   ],
   "source": [
    "# Functions for controlling the case\n",
    "\n",
    "my_capitalized_text = my_text.upper()\n",
    "\n",
    "print( my_text.upper() )  # Return a copy of the text\n",
    "print( my_text.lower() )\n",
    "print( my_text.capitalize() )\n",
    "print( my_text.title() )\n",
    "print( my_text.swapcase() )\n"
   ]
  },
  {
   "cell_type": "code",
   "execution_count": 15,
   "id": "485247e9-0a52-44b8-af22-13fce5ec87c0",
   "metadata": {},
   "outputs": [
    {
     "data": {
      "text/plain": [
       "'hi Everybody. How are you doing?'"
      ]
     },
     "execution_count": 15,
     "metadata": {},
     "output_type": "execute_result"
    }
   ],
   "source": [
    "my_text"
   ]
  },
  {
   "cell_type": "code",
   "execution_count": 16,
   "id": "637f5684-2dc7-4ec3-82de-63d0d7af9883",
   "metadata": {},
   "outputs": [
    {
     "name": "stdout",
     "output_type": "stream",
     "text": [
      "\n",
      "hi Everybody. \n",
      "How are you doing?    \n"
     ]
    }
   ],
   "source": [
    "# Functions for controlling whitespaces\n",
    "\n",
    "my_text = \"\"\"\n",
    "hi Everybody. \n",
    "How are you doing?    \"\"\"\n",
    "\n",
    "print(my_text)"
   ]
  },
  {
   "cell_type": "code",
   "execution_count": 17,
   "id": "3aac53b9-2864-4216-85ed-94fb1df46d75",
   "metadata": {},
   "outputs": [
    {
     "data": {
      "text/plain": [
       "'\\nhi Everybody. \\nHow are you doing?    '"
      ]
     },
     "execution_count": 17,
     "metadata": {},
     "output_type": "execute_result"
    }
   ],
   "source": [
    "my_text"
   ]
  },
  {
   "cell_type": "code",
   "execution_count": 18,
   "id": "8e555055-afa0-4c93-9bff-728415d7be66",
   "metadata": {},
   "outputs": [
    {
     "data": {
      "text/plain": [
       "'hi Everybody. \\nHow are you doing?'"
      ]
     },
     "execution_count": 18,
     "metadata": {},
     "output_type": "execute_result"
    }
   ],
   "source": [
    "my_text.strip()  # Is going to remove the whitespaces\n",
    "                 # (Tabs, New lines, spaces) from the beggining and the end of the text."
   ]
  },
  {
   "cell_type": "code",
   "execution_count": 19,
   "id": "dbccd73e-ff7e-4d70-94bc-8abb030aec00",
   "metadata": {},
   "outputs": [
    {
     "data": {
      "text/plain": [
       "'hi Everybody. \\nHow are you doing?    '"
      ]
     },
     "execution_count": 19,
     "metadata": {},
     "output_type": "execute_result"
    }
   ],
   "source": [
    "my_text.lstrip()  "
   ]
  },
  {
   "cell_type": "code",
   "execution_count": 20,
   "id": "4e4f13b0-8ae7-455c-a200-601282d974d3",
   "metadata": {},
   "outputs": [
    {
     "data": {
      "text/plain": [
       "'\\nhi Everybody. \\nHow are you doing?'"
      ]
     },
     "execution_count": 20,
     "metadata": {},
     "output_type": "execute_result"
    }
   ],
   "source": [
    "my_text.rstrip()  "
   ]
  },
  {
   "cell_type": "code",
   "execution_count": 22,
   "id": "b15fad22-c0af-4054-9fe0-57d71bc5825e",
   "metadata": {},
   "outputs": [
    {
     "name": "stdout",
     "output_type": "stream",
     "text": [
      "This\n",
      "is\n",
      "a\n",
      "nice\n",
      "text\n"
     ]
    }
   ],
   "source": [
    "## Text splitting\n",
    "my_text = \"This is a nice text\"\n",
    "my_text.split()  # Pythion is going to return a tuple, containing substrings. \n",
    "                 # It's going to split the text by whitespaces\n",
    "    \n",
    "for each_word in my_text.split():\n",
    "    print(each_word)"
   ]
  },
  {
   "cell_type": "code",
   "execution_count": 23,
   "id": "81929f74-4759-4e16-91c7-7e02b1138cf7",
   "metadata": {},
   "outputs": [
    {
     "data": {
      "text/plain": [
       "['Th', 's ', 's a n', 'ce text']"
      ]
     },
     "execution_count": 23,
     "metadata": {},
     "output_type": "execute_result"
    }
   ],
   "source": [
    "my_text.split('i') "
   ]
  },
  {
   "cell_type": "markdown",
   "id": "2edcf1c7-7c14-4458-bdcb-b2acda9ee482",
   "metadata": {},
   "source": [
    "# Regular expressions"
   ]
  },
  {
   "cell_type": "markdown",
   "id": "1323a752-a11c-482f-a3eb-8fda0870ebc2",
   "metadata": {},
   "source": [
    "Pattern: Is a group of rules that a text may match.\n",
    "\n",
    "TEXT : \"Hi my friend\"\n",
    "\n",
    "PATTERN1: Ends with the word \"friend\"\n",
    "\n",
    "PATTERN2: Starts with the char \"H\"\n",
    "\n",
    "PATTERN3: Contains the word \"my\"        -   \"my\"\n",
    "\n",
    "Does my TEXT match PATTERN1? YES\n",
    "\n",
    "Does my TEXT match PATTERN2? YES\n",
    "\n",
    "Does my TEXT match PATTERN3? YES\n",
    "\n",
    "How are we going to define these patterns? We are going to use a special syntax: PERL\n",
    "\n",
    "## PERL syntax for Regular Expressions\n",
    "\n",
    "We are going to define PATTERNS.\n",
    "\n",
    "A pattern is a combination (a sequence) of subpatterns.\n",
    "\n",
    "A SUBPATTERN is a combination of:\n",
    "\n",
    "- A sequence of chars\n",
    "  - \"abc\"   : My text must contain this word.\n",
    "  - \"[abc]\" : My text must contain one of these chars.\n",
    "  - \"[a-z]\" : My text must contain any lower case char.\n",
    "  - \"[A-Z]\" : My text must contain any upper case char.\n",
    "  - \"[0-9]\" : My text must contain any digit... from 0 to 9.\n",
    "  - \"[a-zA-Z0-9ñç]\" \n",
    "  - \".\"     : My text must contain ANY char.\n",
    "  \n",
    "- The amount of times that sequence should appear in our text.\n",
    "  - If we say nothing... Means once\n",
    "  - If we type a ?...... Means it can appear or not... it is fine if it is not.\n",
    "  - If we type a +...... Means it has to appear at least once\n",
    "  - If we type a *...... Means it can appear even multiple times... or not.\n",
    "  - If we type a {3}.... The sequence has to appear 3 times\n",
    "  - If we type a {3,5}.. The sequence has to appear 3, 4 or 5 times.\n",
    "  \n",
    "- Special chars in PERL:\n",
    "  - \"^\"  : Starts with\n",
    "  - \"$\"  : Ends with\n",
    "  - \"()\" : For grouping subpatterns\n",
    "  - \"|\"  : OR\n",
    "\n",
    "Whenever you need to deal with regex (regular expressions), visit <regex101.com>"
   ]
  },
  {
   "cell_type": "code",
   "execution_count": 18,
   "id": "fab7cb65-ad74-4fdb-a3b3-80efcdfdee22",
   "metadata": {},
   "outputs": [
    {
     "name": "stdout",
     "output_type": "stream",
     "text": [
      "you have to pay 126.5€ for all this stuff\n",
      "126.5\n",
      "(16, 21)\n"
     ]
    }
   ],
   "source": [
    "import re # Please, let me use this RE library\n",
    "\n",
    "MY_TEXT = \"you have to pay 126.5€ for all this stuff\"\n",
    "PATTERN = \"[0-9.]+\"\n",
    "#PATTERN = \"have\"   # word \"have\"\n",
    "\n",
    "#result=re.match(PATTERN, MY_TEXT)   \n",
    "          # Answers to the question: Does your text STARTS WITH the supplied pattern\n",
    "\n",
    "result=re.search(PATTERN, MY_TEXT)   \n",
    "          # Answers to the question: Does your text CONTAINS the supplied pattern\n",
    "    \n",
    "print(result.string)  # Returns the whole text\n",
    "print(result.group()) # Returns the part of the whole text that matches the pattern\n",
    "print(result.span())  # Returns the positions (range) where the pattern was matched"
   ]
  },
  {
   "cell_type": "code",
   "execution_count": 20,
   "id": "e4e24c3f-1d76-4801-a718-d0c376c0d467",
   "metadata": {},
   "outputs": [
    {
     "name": "stdout",
     "output_type": "stream",
     "text": [
      "1265\n",
      "$\n",
      "1587.9\n",
      "€\n",
      "1587.9\n",
      "€\n",
      "587.6\n",
      "£\n",
      "587.6\n",
      "£\n"
     ]
    }
   ],
   "source": [
    "AMOUNT_TEXT_DATA = ( \"$1265\" , \"1587.9€\" , \" 1587.9 €\" , \"£587.6\", \"£ 587.6\")\n",
    "\n",
    "import re # Please, let me use this RE library\n",
    "\n",
    "def splitAmount(amount_as_a_text):\n",
    "    NUMERIC_PATTERN = \"[0-9.]+\"\n",
    "    CURRENCY_PATTERN = \"[$€£]\"\n",
    "    number=re.search(NUMERIC_PATTERN, amount_as_a_text).group()\n",
    "    currency=re.search(CURRENCY_PATTERN, amount_as_a_text).group()\n",
    "    return (number, currency)\n",
    "    \n",
    "for each_text in AMOUNT_TEXT_DATA:\n",
    "    quantity, currency = splitAmount(each_text)\n",
    "    print(quantity)\n",
    "    print(currency)"
   ]
  },
  {
   "cell_type": "markdown",
   "id": "96a2f67f-1124-4f14-9f85-ea96b3509921",
   "metadata": {},
   "source": [
    "# Libraries\n",
    "\n",
    "In python we have a bunch of functions out of the box.\n",
    "\n",
    "But python allows me to use third party libraries.\n",
    "\n",
    "A library is a collection of functions, someone has already defined.\n",
    "\n",
    "Actually, python comes with several libraries, that I can use.\n",
    "\n",
    "In order to use a library, we need to tell python, that we want to use that library.\n",
    "\n",
    "We are going to do that by using the IMPORT keyword.\n"
   ]
  },
  {
   "cell_type": "code",
   "execution_count": null,
   "id": "fccbd04a-f5f4-4e2c-8941-c3e2ea279f44",
   "metadata": {},
   "outputs": [],
   "source": []
  }
 ],
 "metadata": {
  "kernelspec": {
   "display_name": "Python 3 (ipykernel)",
   "language": "python",
   "name": "python3"
  },
  "language_info": {
   "codemirror_mode": {
    "name": "ipython",
    "version": 3
   },
   "file_extension": ".py",
   "mimetype": "text/x-python",
   "name": "python",
   "nbconvert_exporter": "python",
   "pygments_lexer": "ipython3",
   "version": "3.9.10"
  }
 },
 "nbformat": 4,
 "nbformat_minor": 5
}
