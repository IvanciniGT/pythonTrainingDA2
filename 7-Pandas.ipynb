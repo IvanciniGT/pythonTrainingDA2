{
 "cells": [
  {
   "cell_type": "markdown",
   "id": "5b5f593e-ca59-444e-8cf2-bd74c235bc4a",
   "metadata": {},
   "source": [
    "# Pandas\n",
    "\n",
    "Pandas is a library written in Python which allows us to transform, analyze, load, and export data.\n",
    "\n",
    "The first thing that we need to do in order to work with Pandas, is to install that library.\n",
    "\n",
    "In our case, this enviroment (Jupyter labs) has this library already installed.\n",
    "\n",
    "To install this library we would need to execute this command on a terminal.\n",
    "\n",
    "```\n",
    "$ pip3 install pandas\n",
    "```"
   ]
  },
  {
   "cell_type": "markdown",
   "id": "0f0e5675-2588-4bb4-9a19-e65156c20a6b",
   "metadata": {},
   "source": [
    "## Serial\n",
    "\n",
    "Is an ordered sequence of values... almost the same as a list.\n",
    "\n",
    "But:\n",
    "\n",
    "- We cannot mix datatypes inside a Serial... All the values need to be of the same nature (datatype)\n",
    "- In addition ... we have a bunch of extra functions \n",
    "\n",
    "It is like a Column in a relational database table.\n",
    "\n",
    "## DataFrame\n",
    "\n",
    "Is a collection of Serials... Like a table in a database"
   ]
  },
  {
   "cell_type": "code",
   "execution_count": 1,
   "id": "b09a0c1f-b690-4867-8986-bca56fce605b",
   "metadata": {},
   "outputs": [],
   "source": [
    "# First thing after installing this library... we need to import it\n",
    "\n",
    "import pandas as pd"
   ]
  },
  {
   "cell_type": "markdown",
   "id": "0157649b-539c-4795-93c8-a40f625696b5",
   "metadata": {},
   "source": [
    "## Creating a Dataframe\n",
    "\n",
    "We could get a Dataframe from a database... or Excel document... but we can create a new/empty one right using pandas."
   ]
  },
  {
   "cell_type": "code",
   "execution_count": 2,
   "id": "8333cf25-fbbe-465c-80c0-6311eb45751c",
   "metadata": {},
   "outputs": [
    {
     "name": "stdout",
     "output_type": "stream",
     "text": [
      "Empty DataFrame\n",
      "Columns: []\n",
      "Index: []\n"
     ]
    }
   ],
   "source": [
    "my_new_empty_dataframe = pd.DataFrame()\n",
    "print(my_new_empty_dataframe)"
   ]
  },
  {
   "cell_type": "code",
   "execution_count": 3,
   "id": "3a54d321-e4e7-42b3-9d26-0902fe344b01",
   "metadata": {},
   "outputs": [
    {
     "name": "stdout",
     "output_type": "stream",
     "text": [
      "           0\n",
      "0       Ivan\n",
      "1  Francisca\n",
      "2  Francisco\n",
      "3     Helena\n",
      "4    Juliana\n"
     ]
    }
   ],
   "source": [
    "names = ( \"Ivan\" , \"Francisca\", \"Francisco\", \"Helena\", \"Juliana\" )\n",
    "names_dataframe = pd.DataFrame(names)\n",
    "print(names_dataframe)"
   ]
  },
  {
   "cell_type": "code",
   "execution_count": 4,
   "id": "8396dbdd-c5e6-4834-af11-2f2e84f73afe",
   "metadata": {},
   "outputs": [
    {
     "data": {
      "text/plain": [
       "RangeIndex(start=0, stop=1, step=1)"
      ]
     },
     "execution_count": 4,
     "metadata": {},
     "output_type": "execute_result"
    }
   ],
   "source": [
    "names_dataframe.columns"
   ]
  },
  {
   "cell_type": "code",
   "execution_count": 6,
   "id": "e27775ba-8ecd-4fc9-9110-948e60f1e647",
   "metadata": {},
   "outputs": [],
   "source": [
    "names_dataframe.columns = [\"Surname\"]"
   ]
  },
  {
   "cell_type": "code",
   "execution_count": 7,
   "id": "7d5cb93d-0bc5-4e5b-93ec-a1c5df40359a",
   "metadata": {},
   "outputs": [
    {
     "data": {
      "text/plain": [
       "Index(['Surname'], dtype='object')"
      ]
     },
     "execution_count": 7,
     "metadata": {},
     "output_type": "execute_result"
    }
   ],
   "source": [
    "names_dataframe.columns"
   ]
  },
  {
   "cell_type": "code",
   "execution_count": 8,
   "id": "2e348712-1d46-4291-99f4-57012b6e9d14",
   "metadata": {},
   "outputs": [
    {
     "data": {
      "text/html": [
       "<div>\n",
       "<style scoped>\n",
       "    .dataframe tbody tr th:only-of-type {\n",
       "        vertical-align: middle;\n",
       "    }\n",
       "\n",
       "    .dataframe tbody tr th {\n",
       "        vertical-align: top;\n",
       "    }\n",
       "\n",
       "    .dataframe thead th {\n",
       "        text-align: right;\n",
       "    }\n",
       "</style>\n",
       "<table border=\"1\" class=\"dataframe\">\n",
       "  <thead>\n",
       "    <tr style=\"text-align: right;\">\n",
       "      <th></th>\n",
       "      <th>Surname</th>\n",
       "    </tr>\n",
       "  </thead>\n",
       "  <tbody>\n",
       "    <tr>\n",
       "      <th>0</th>\n",
       "      <td>Ivan</td>\n",
       "    </tr>\n",
       "    <tr>\n",
       "      <th>1</th>\n",
       "      <td>Francisca</td>\n",
       "    </tr>\n",
       "    <tr>\n",
       "      <th>2</th>\n",
       "      <td>Francisco</td>\n",
       "    </tr>\n",
       "    <tr>\n",
       "      <th>3</th>\n",
       "      <td>Helena</td>\n",
       "    </tr>\n",
       "    <tr>\n",
       "      <th>4</th>\n",
       "      <td>Juliana</td>\n",
       "    </tr>\n",
       "  </tbody>\n",
       "</table>\n",
       "</div>"
      ],
      "text/plain": [
       "     Surname\n",
       "0       Ivan\n",
       "1  Francisca\n",
       "2  Francisco\n",
       "3     Helena\n",
       "4    Juliana"
      ]
     },
     "execution_count": 8,
     "metadata": {},
     "output_type": "execute_result"
    }
   ],
   "source": [
    "names_dataframe"
   ]
  },
  {
   "cell_type": "code",
   "execution_count": 9,
   "id": "787925e7-bbda-4577-ac70-2c0c2af2e46d",
   "metadata": {},
   "outputs": [
    {
     "data": {
      "text/html": [
       "<div>\n",
       "<style scoped>\n",
       "    .dataframe tbody tr th:only-of-type {\n",
       "        vertical-align: middle;\n",
       "    }\n",
       "\n",
       "    .dataframe tbody tr th {\n",
       "        vertical-align: top;\n",
       "    }\n",
       "\n",
       "    .dataframe thead th {\n",
       "        text-align: right;\n",
       "    }\n",
       "</style>\n",
       "<table border=\"1\" class=\"dataframe\">\n",
       "  <thead>\n",
       "    <tr style=\"text-align: right;\">\n",
       "      <th></th>\n",
       "      <th>Surname</th>\n",
       "    </tr>\n",
       "  </thead>\n",
       "  <tbody>\n",
       "    <tr>\n",
       "      <th>0</th>\n",
       "      <td>Ivan</td>\n",
       "    </tr>\n",
       "    <tr>\n",
       "      <th>1</th>\n",
       "      <td>Francisca</td>\n",
       "    </tr>\n",
       "    <tr>\n",
       "      <th>2</th>\n",
       "      <td>Francisco</td>\n",
       "    </tr>\n",
       "    <tr>\n",
       "      <th>3</th>\n",
       "      <td>Helena</td>\n",
       "    </tr>\n",
       "    <tr>\n",
       "      <th>4</th>\n",
       "      <td>Juliana</td>\n",
       "    </tr>\n",
       "  </tbody>\n",
       "</table>\n",
       "</div>"
      ],
      "text/plain": [
       "     Surname\n",
       "0       Ivan\n",
       "1  Francisca\n",
       "2  Francisco\n",
       "3     Helena\n",
       "4    Juliana"
      ]
     },
     "execution_count": 9,
     "metadata": {},
     "output_type": "execute_result"
    }
   ],
   "source": [
    "names = ( \"Ivan\" , \"Francisca\", \"Francisco\", \"Helena\", \"Juliana\" )\n",
    "new_names_dataframe = pd.DataFrame(names, columns = [\"Surname\"])\n",
    "new_names_dataframe"
   ]
  },
  {
   "cell_type": "code",
   "execution_count": 12,
   "id": "9e92eb8c-3a64-4cb6-9aaa-ab703b4478b8",
   "metadata": {},
   "outputs": [
    {
     "data": {
      "text/html": [
       "<div>\n",
       "<style scoped>\n",
       "    .dataframe tbody tr th:only-of-type {\n",
       "        vertical-align: middle;\n",
       "    }\n",
       "\n",
       "    .dataframe tbody tr th {\n",
       "        vertical-align: top;\n",
       "    }\n",
       "\n",
       "    .dataframe thead th {\n",
       "        text-align: right;\n",
       "    }\n",
       "</style>\n",
       "<table border=\"1\" class=\"dataframe\">\n",
       "  <thead>\n",
       "    <tr style=\"text-align: right;\">\n",
       "      <th></th>\n",
       "      <th>Surname</th>\n",
       "      <th>Age</th>\n",
       "    </tr>\n",
       "  </thead>\n",
       "  <tbody>\n",
       "    <tr>\n",
       "      <th>0</th>\n",
       "      <td>Ivan</td>\n",
       "      <td>43</td>\n",
       "    </tr>\n",
       "    <tr>\n",
       "      <th>1</th>\n",
       "      <td>Francisca</td>\n",
       "      <td>28</td>\n",
       "    </tr>\n",
       "    <tr>\n",
       "      <th>2</th>\n",
       "      <td>Francisco</td>\n",
       "      <td>29</td>\n",
       "    </tr>\n",
       "    <tr>\n",
       "      <th>3</th>\n",
       "      <td>Helena</td>\n",
       "      <td>30</td>\n",
       "    </tr>\n",
       "    <tr>\n",
       "      <th>4</th>\n",
       "      <td>Juliana</td>\n",
       "      <td>27</td>\n",
       "    </tr>\n",
       "  </tbody>\n",
       "</table>\n",
       "</div>"
      ],
      "text/plain": [
       "     Surname  Age\n",
       "0       Ivan   43\n",
       "1  Francisca   28\n",
       "2  Francisco   29\n",
       "3     Helena   30\n",
       "4    Juliana   27"
      ]
     },
     "execution_count": 12,
     "metadata": {},
     "output_type": "execute_result"
    }
   ],
   "source": [
    "people = ( (\"Ivan\",43) , (\"Francisca\", 28 ) , (\"Francisco\", 29) , (\"Helena\",30) , (\"Juliana\", 27) )\n",
    "people_dataframe = pd.DataFrame(people , columns = [\"Surname\", \"Age\"])\n",
    "people_dataframe"
   ]
  },
  {
   "cell_type": "code",
   "execution_count": 15,
   "id": "ac678741-6f94-4a19-a28c-700b25e731e1",
   "metadata": {},
   "outputs": [
    {
     "data": {
      "text/plain": [
       "0    43\n",
       "1    28\n",
       "2    29\n",
       "3    30\n",
       "4    27\n",
       "Name: Age, dtype: int64"
      ]
     },
     "execution_count": 15,
     "metadata": {},
     "output_type": "execute_result"
    }
   ],
   "source": [
    "# Retrive 1 single column\n",
    "people_dataframe['Age']"
   ]
  },
  {
   "cell_type": "code",
   "execution_count": 16,
   "id": "774e2d17-c127-4af0-9874-b1cc3d5c7f1b",
   "metadata": {},
   "outputs": [
    {
     "data": {
      "text/plain": [
       "Surname    Francisco\n",
       "Age               29\n",
       "Name: 2, dtype: object"
      ]
     },
     "execution_count": 16,
     "metadata": {},
     "output_type": "execute_result"
    }
   ],
   "source": [
    "people_dataframe.iloc[2]"
   ]
  },
  {
   "cell_type": "code",
   "execution_count": 17,
   "id": "2c61f4f9-f108-4192-8f3f-7f6b0b687acd",
   "metadata": {},
   "outputs": [
    {
     "data": {
      "text/html": [
       "<div>\n",
       "<style scoped>\n",
       "    .dataframe tbody tr th:only-of-type {\n",
       "        vertical-align: middle;\n",
       "    }\n",
       "\n",
       "    .dataframe tbody tr th {\n",
       "        vertical-align: top;\n",
       "    }\n",
       "\n",
       "    .dataframe thead th {\n",
       "        text-align: right;\n",
       "    }\n",
       "</style>\n",
       "<table border=\"1\" class=\"dataframe\">\n",
       "  <thead>\n",
       "    <tr style=\"text-align: right;\">\n",
       "      <th></th>\n",
       "      <th>Surname</th>\n",
       "      <th>Age</th>\n",
       "    </tr>\n",
       "  </thead>\n",
       "  <tbody>\n",
       "    <tr>\n",
       "      <th>0</th>\n",
       "      <td>Ivan</td>\n",
       "      <td>43</td>\n",
       "    </tr>\n",
       "    <tr>\n",
       "      <th>1</th>\n",
       "      <td>Francisca</td>\n",
       "      <td>28</td>\n",
       "    </tr>\n",
       "    <tr>\n",
       "      <th>2</th>\n",
       "      <td>Francisco</td>\n",
       "      <td>29</td>\n",
       "    </tr>\n",
       "    <tr>\n",
       "      <th>3</th>\n",
       "      <td>Helena</td>\n",
       "      <td>30</td>\n",
       "    </tr>\n",
       "    <tr>\n",
       "      <th>4</th>\n",
       "      <td>Juliana</td>\n",
       "      <td>27</td>\n",
       "    </tr>\n",
       "  </tbody>\n",
       "</table>\n",
       "</div>"
      ],
      "text/plain": [
       "     Surname  Age\n",
       "0       Ivan   43\n",
       "1  Francisca   28\n",
       "2  Francisco   29\n",
       "3     Helena   30\n",
       "4    Juliana   27"
      ]
     },
     "execution_count": 17,
     "metadata": {},
     "output_type": "execute_result"
    }
   ],
   "source": [
    "people_dataframe"
   ]
  },
  {
   "cell_type": "code",
   "execution_count": 18,
   "id": "bcec6cf5-722c-4638-8b39-0353a1510636",
   "metadata": {},
   "outputs": [
    {
     "data": {
      "text/html": [
       "<div>\n",
       "<style scoped>\n",
       "    .dataframe tbody tr th:only-of-type {\n",
       "        vertical-align: middle;\n",
       "    }\n",
       "\n",
       "    .dataframe tbody tr th {\n",
       "        vertical-align: top;\n",
       "    }\n",
       "\n",
       "    .dataframe thead th {\n",
       "        text-align: right;\n",
       "    }\n",
       "</style>\n",
       "<table border=\"1\" class=\"dataframe\">\n",
       "  <thead>\n",
       "    <tr style=\"text-align: right;\">\n",
       "      <th></th>\n",
       "      <th>Surname</th>\n",
       "      <th>Age</th>\n",
       "    </tr>\n",
       "    <tr>\n",
       "      <th>Surname</th>\n",
       "      <th></th>\n",
       "      <th></th>\n",
       "    </tr>\n",
       "  </thead>\n",
       "  <tbody>\n",
       "    <tr>\n",
       "      <th>Ivan</th>\n",
       "      <td>Ivan</td>\n",
       "      <td>43</td>\n",
       "    </tr>\n",
       "    <tr>\n",
       "      <th>Francisca</th>\n",
       "      <td>Francisca</td>\n",
       "      <td>28</td>\n",
       "    </tr>\n",
       "    <tr>\n",
       "      <th>Francisco</th>\n",
       "      <td>Francisco</td>\n",
       "      <td>29</td>\n",
       "    </tr>\n",
       "    <tr>\n",
       "      <th>Helena</th>\n",
       "      <td>Helena</td>\n",
       "      <td>30</td>\n",
       "    </tr>\n",
       "    <tr>\n",
       "      <th>Juliana</th>\n",
       "      <td>Juliana</td>\n",
       "      <td>27</td>\n",
       "    </tr>\n",
       "  </tbody>\n",
       "</table>\n",
       "</div>"
      ],
      "text/plain": [
       "             Surname  Age\n",
       "Surname                  \n",
       "Ivan            Ivan   43\n",
       "Francisca  Francisca   28\n",
       "Francisco  Francisco   29\n",
       "Helena        Helena   30\n",
       "Juliana      Juliana   27"
      ]
     },
     "execution_count": 18,
     "metadata": {},
     "output_type": "execute_result"
    }
   ],
   "source": [
    "people_dataframe.index= people_dataframe['Surname']\n",
    "people_dataframe"
   ]
  },
  {
   "cell_type": "code",
   "execution_count": 19,
   "id": "9fd38aed-48b9-4110-851f-048103a94ae4",
   "metadata": {},
   "outputs": [
    {
     "data": {
      "text/plain": [
       "Surname    Francisco\n",
       "Age               29\n",
       "Name: Francisco, dtype: object"
      ]
     },
     "execution_count": 19,
     "metadata": {},
     "output_type": "execute_result"
    }
   ],
   "source": [
    "people_dataframe.loc[\"Francisco\"]"
   ]
  },
  {
   "cell_type": "code",
   "execution_count": 20,
   "id": "0a1e28ac-0cc1-4f30-a77f-ea56c8d76a0c",
   "metadata": {},
   "outputs": [
    {
     "data": {
      "text/plain": [
       "29"
      ]
     },
     "execution_count": 20,
     "metadata": {},
     "output_type": "execute_result"
    }
   ],
   "source": [
    "people_dataframe.loc[\"Francisco\"]['Age']"
   ]
  },
  {
   "cell_type": "code",
   "execution_count": 21,
   "id": "a745abe6-09e4-4447-b7f2-dfbe1c8527c6",
   "metadata": {},
   "outputs": [
    {
     "data": {
      "text/plain": [
       "29"
      ]
     },
     "execution_count": 21,
     "metadata": {},
     "output_type": "execute_result"
    }
   ],
   "source": [
    "people_dataframe['Age'].loc[\"Francisco\"]"
   ]
  },
  {
   "cell_type": "code",
   "execution_count": 22,
   "id": "b69de89e-697b-4894-80b9-496f3eec2e13",
   "metadata": {},
   "outputs": [
    {
     "data": {
      "text/html": [
       "<div>\n",
       "<style scoped>\n",
       "    .dataframe tbody tr th:only-of-type {\n",
       "        vertical-align: middle;\n",
       "    }\n",
       "\n",
       "    .dataframe tbody tr th {\n",
       "        vertical-align: top;\n",
       "    }\n",
       "\n",
       "    .dataframe thead th {\n",
       "        text-align: right;\n",
       "    }\n",
       "</style>\n",
       "<table border=\"1\" class=\"dataframe\">\n",
       "  <thead>\n",
       "    <tr style=\"text-align: right;\">\n",
       "      <th></th>\n",
       "      <th>Surname</th>\n",
       "      <th>Age</th>\n",
       "    </tr>\n",
       "  </thead>\n",
       "  <tbody>\n",
       "    <tr>\n",
       "      <th>0</th>\n",
       "      <td>Ivan</td>\n",
       "      <td>43</td>\n",
       "    </tr>\n",
       "    <tr>\n",
       "      <th>1</th>\n",
       "      <td>Francisca</td>\n",
       "      <td>28</td>\n",
       "    </tr>\n",
       "    <tr>\n",
       "      <th>2</th>\n",
       "      <td>Francisco</td>\n",
       "      <td>29</td>\n",
       "    </tr>\n",
       "    <tr>\n",
       "      <th>3</th>\n",
       "      <td>Helena</td>\n",
       "      <td>30</td>\n",
       "    </tr>\n",
       "    <tr>\n",
       "      <th>4</th>\n",
       "      <td>Juliana</td>\n",
       "      <td>27</td>\n",
       "    </tr>\n",
       "  </tbody>\n",
       "</table>\n",
       "</div>"
      ],
      "text/plain": [
       "     Surname  Age\n",
       "0       Ivan   43\n",
       "1  Francisca   28\n",
       "2  Francisco   29\n",
       "3     Helena   30\n",
       "4    Juliana   27"
      ]
     },
     "execution_count": 22,
     "metadata": {},
     "output_type": "execute_result"
    }
   ],
   "source": [
    "people = {\n",
    "    \"Surname\" : ( \"Ivan\" , \"Francisca\", \"Francisco\", \"Helena\", \"Juliana\" ),\n",
    "    \"Age\":      (43, 28, 29, 30, 27)\n",
    "}\n",
    "\n",
    "people_dataframe = pd.DataFrame(people )\n",
    "people_dataframe"
   ]
  },
  {
   "cell_type": "code",
   "execution_count": 23,
   "id": "00c57d76-e9fd-4c70-9a19-8e9aa85054fb",
   "metadata": {},
   "outputs": [
    {
     "data": {
      "text/plain": [
       "(5, 2)"
      ]
     },
     "execution_count": 23,
     "metadata": {},
     "output_type": "execute_result"
    }
   ],
   "source": [
    "people_dataframe.shape"
   ]
  },
  {
   "cell_type": "code",
   "execution_count": 24,
   "id": "fa09b0a1-119c-4a72-abcb-f62d9fba8b24",
   "metadata": {},
   "outputs": [
    {
     "data": {
      "text/plain": [
       "2"
      ]
     },
     "execution_count": 24,
     "metadata": {},
     "output_type": "execute_result"
    }
   ],
   "source": [
    "people_dataframe.shape[0] # This is the number of rows\n",
    "people_dataframe.shape[1] # This is the number of columns"
   ]
  },
  {
   "cell_type": "code",
   "execution_count": 25,
   "id": "9245d640-6f81-4c11-8187-d0bfb2555ce1",
   "metadata": {},
   "outputs": [
    {
     "data": {
      "text/plain": [
       "10"
      ]
     },
     "execution_count": 25,
     "metadata": {},
     "output_type": "execute_result"
    }
   ],
   "source": [
    "people_dataframe.size    # The total amount of data (values) rows x columns"
   ]
  },
  {
   "cell_type": "code",
   "execution_count": 26,
   "id": "5c180994-be59-4aa4-adff-b136014fc2f6",
   "metadata": {},
   "outputs": [
    {
     "data": {
      "text/html": [
       "<div>\n",
       "<style scoped>\n",
       "    .dataframe tbody tr th:only-of-type {\n",
       "        vertical-align: middle;\n",
       "    }\n",
       "\n",
       "    .dataframe tbody tr th {\n",
       "        vertical-align: top;\n",
       "    }\n",
       "\n",
       "    .dataframe thead th {\n",
       "        text-align: right;\n",
       "    }\n",
       "</style>\n",
       "<table border=\"1\" class=\"dataframe\">\n",
       "  <thead>\n",
       "    <tr style=\"text-align: right;\">\n",
       "      <th></th>\n",
       "      <th>Surname</th>\n",
       "      <th>Age</th>\n",
       "    </tr>\n",
       "  </thead>\n",
       "  <tbody>\n",
       "    <tr>\n",
       "      <th>0</th>\n",
       "      <td>Ivan</td>\n",
       "      <td>43</td>\n",
       "    </tr>\n",
       "    <tr>\n",
       "      <th>1</th>\n",
       "      <td>Francisca</td>\n",
       "      <td>28</td>\n",
       "    </tr>\n",
       "  </tbody>\n",
       "</table>\n",
       "</div>"
      ],
      "text/plain": [
       "     Surname  Age\n",
       "0       Ivan   43\n",
       "1  Francisca   28"
      ]
     },
     "execution_count": 26,
     "metadata": {},
     "output_type": "execute_result"
    }
   ],
   "source": [
    "people_dataframe.head(2)  # The first 2 rows"
   ]
  },
  {
   "cell_type": "code",
   "execution_count": 27,
   "id": "785bfacf-e0b1-4c9a-808b-eb8b06c5d0c5",
   "metadata": {},
   "outputs": [
    {
     "data": {
      "text/html": [
       "<div>\n",
       "<style scoped>\n",
       "    .dataframe tbody tr th:only-of-type {\n",
       "        vertical-align: middle;\n",
       "    }\n",
       "\n",
       "    .dataframe tbody tr th {\n",
       "        vertical-align: top;\n",
       "    }\n",
       "\n",
       "    .dataframe thead th {\n",
       "        text-align: right;\n",
       "    }\n",
       "</style>\n",
       "<table border=\"1\" class=\"dataframe\">\n",
       "  <thead>\n",
       "    <tr style=\"text-align: right;\">\n",
       "      <th></th>\n",
       "      <th>Surname</th>\n",
       "      <th>Age</th>\n",
       "    </tr>\n",
       "  </thead>\n",
       "  <tbody>\n",
       "    <tr>\n",
       "      <th>3</th>\n",
       "      <td>Helena</td>\n",
       "      <td>30</td>\n",
       "    </tr>\n",
       "    <tr>\n",
       "      <th>4</th>\n",
       "      <td>Juliana</td>\n",
       "      <td>27</td>\n",
       "    </tr>\n",
       "  </tbody>\n",
       "</table>\n",
       "</div>"
      ],
      "text/plain": [
       "   Surname  Age\n",
       "3   Helena   30\n",
       "4  Juliana   27"
      ]
     },
     "execution_count": 27,
     "metadata": {},
     "output_type": "execute_result"
    }
   ],
   "source": [
    "people_dataframe.tail(2)  # The last 2 rows"
   ]
  },
  {
   "cell_type": "code",
   "execution_count": 30,
   "id": "241e22c6-5d9c-4c05-8313-dbcf85a7cd68",
   "metadata": {},
   "outputs": [
    {
     "name": "stdout",
     "output_type": "stream",
     "text": [
      "Surname    Ivan\n",
      "Age          43\n",
      "Name: 0, dtype: object\n",
      "Surname    Francisca\n",
      "Age               28\n",
      "Name: 1, dtype: object\n",
      "Surname    Francisco\n",
      "Age               29\n",
      "Name: 2, dtype: object\n",
      "Surname    Helena\n",
      "Age            30\n",
      "Name: 3, dtype: object\n",
      "Surname    Juliana\n",
      "Age             27\n",
      "Name: 4, dtype: object\n"
     ]
    }
   ],
   "source": [
    "# Loop thru all the values in my dataframe\n",
    "\n",
    "for each_index in people_dataframe.index:\n",
    "#    print(each_index)\n",
    "    print(people_dataframe.iloc[each_index])"
   ]
  },
  {
   "cell_type": "code",
   "execution_count": 31,
   "id": "5a2c33fe-5bbf-40f6-823b-cdaefe61e4c1",
   "metadata": {},
   "outputs": [
    {
     "name": "stdout",
     "output_type": "stream",
     "text": [
      "0         Ivan\n",
      "1    Francisca\n",
      "2    Francisco\n",
      "3       Helena\n",
      "4      Juliana\n",
      "Name: Surname, dtype: object\n",
      "0    43\n",
      "1    28\n",
      "2    29\n",
      "3    30\n",
      "4    27\n",
      "Name: Age, dtype: int64\n"
     ]
    }
   ],
   "source": [
    "\n",
    "for each_column in people_dataframe.columns:\n",
    "    print(people_dataframe[each_column])"
   ]
  },
  {
   "cell_type": "code",
   "execution_count": 32,
   "id": "952e4e04-d3c1-4a7d-8538-8118844b3e63",
   "metadata": {},
   "outputs": [
    {
     "name": "stdout",
     "output_type": "stream",
     "text": [
      "Ivan\n",
      "43\n",
      "Francisca\n",
      "28\n",
      "Francisco\n",
      "29\n",
      "Helena\n",
      "30\n",
      "Juliana\n",
      "27\n"
     ]
    }
   ],
   "source": [
    "for each_index in people_dataframe.index:\n",
    "    for each_column in people_dataframe.columns:\n",
    "        print(people_dataframe[each_column].iloc[each_index])"
   ]
  },
  {
   "cell_type": "markdown",
   "id": "62148aa6-8b29-4fda-b041-eb53f67574b9",
   "metadata": {},
   "source": [
    "for each_column in people_dataframe.columns:\n",
    "    for each_index in people_dataframe.index:\n",
    "        print(people_dataframe[each_column].iloc[each_index])"
   ]
  },
  {
   "cell_type": "markdown",
   "id": "8b309270-a38c-4461-a86a-996a7e38f8d8",
   "metadata": {},
   "source": [
    "# Pandas summary\n",
    "\n",
    "## In order to use pandas:\n",
    "\n",
    "- We need to install it `pip3 install pandas`\n",
    "- Then we need to import pandas: `import pandas as pd`\n",
    "\n",
    "## We can create new Dataframes (Like tables):\n",
    "- `my_new_dataframe = pd.DataFrame( some_data )`\n",
    "\n",
    "  Where some_data can be:\n",
    "  - Tuple\n",
    "  - Tuple of tuples\n",
    "  - Dictionary\n",
    "\n",
    "## Properties:\n",
    "\n",
    "- `my_dataframe.shape`. This returns a tuple with the number of rows and columns\n",
    "- `my_dataframe.size`.  This returns the number of cells = number of rows by the number of columns\n",
    "- `my_dataframe.index`.  This returns or assigns the values to be used as ids (for the rows=\n",
    "- `my_dataframe.columns`.  This returns or assigns the names of columns\n",
    "\n",
    "## Recover data\n",
    "\n",
    "- `my_dataframe[ 'name_of_a_column' ]`.        This returns or assigns a column\n",
    "- `my_dataframe.iloc[ numeric_id_of_a_row ]`.  This returns or assigns a row\n",
    "- `my_dataframe.loc[ 'text_id' ]`.             This returns or assigns a row\n",
    "- `my_dataframe[ 'name_of_a_column' ].iloc[ id ]`.  This returns or assigns a data (cell)\n",
    "- `my_dataframe.iloc[ id ][ 'name_of_a_column' ]`.  This returns or assigns a data (cell)\n",
    "\n",
    "## Loop thru all the rows/columns within a dataframe\n",
    "\n",
    "```\n",
    "for each_column in my_dataframe.columns:\n",
    "    my_dataframe[each_column]\n",
    "```\n",
    "```\n",
    "for each_id in my_dataframe.index:\n",
    "    my_dataframe.iloc[each_id]\n",
    "```\n",
    "\n"
   ]
  },
  {
   "cell_type": "code",
   "execution_count": 34,
   "id": "29179d27-6a54-4968-9d64-320ef5ceb652",
   "metadata": {},
   "outputs": [
    {
     "data": {
      "text/html": [
       "<div>\n",
       "<style scoped>\n",
       "    .dataframe tbody tr th:only-of-type {\n",
       "        vertical-align: middle;\n",
       "    }\n",
       "\n",
       "    .dataframe tbody tr th {\n",
       "        vertical-align: top;\n",
       "    }\n",
       "\n",
       "    .dataframe thead th {\n",
       "        text-align: right;\n",
       "    }\n",
       "</style>\n",
       "<table border=\"1\" class=\"dataframe\">\n",
       "  <thead>\n",
       "    <tr style=\"text-align: right;\">\n",
       "      <th></th>\n",
       "      <th>Surname</th>\n",
       "      <th>Age</th>\n",
       "    </tr>\n",
       "  </thead>\n",
       "  <tbody>\n",
       "    <tr>\n",
       "      <th>0</th>\n",
       "      <td>Ivan</td>\n",
       "      <td>43</td>\n",
       "    </tr>\n",
       "    <tr>\n",
       "      <th>1</th>\n",
       "      <td>Francisca</td>\n",
       "      <td>28</td>\n",
       "    </tr>\n",
       "    <tr>\n",
       "      <th>2</th>\n",
       "      <td>Francisco</td>\n",
       "      <td>29</td>\n",
       "    </tr>\n",
       "    <tr>\n",
       "      <th>3</th>\n",
       "      <td>Helena</td>\n",
       "      <td>30</td>\n",
       "    </tr>\n",
       "    <tr>\n",
       "      <th>4</th>\n",
       "      <td>Juliana</td>\n",
       "      <td>27</td>\n",
       "    </tr>\n",
       "  </tbody>\n",
       "</table>\n",
       "</div>"
      ],
      "text/plain": [
       "     Surname  Age\n",
       "0       Ivan   43\n",
       "1  Francisca   28\n",
       "2  Francisco   29\n",
       "3     Helena   30\n",
       "4    Juliana   27"
      ]
     },
     "execution_count": 34,
     "metadata": {},
     "output_type": "execute_result"
    }
   ],
   "source": [
    "people_dataframe"
   ]
  },
  {
   "cell_type": "code",
   "execution_count": 37,
   "id": "2aa2d698-0738-48f0-9a9b-a8e4ae4dbe73",
   "metadata": {},
   "outputs": [
    {
     "data": {
      "text/plain": [
       "Surname    Helena\n",
       "Age            30\n",
       "Name: 3, dtype: object"
      ]
     },
     "execution_count": 37,
     "metadata": {},
     "output_type": "execute_result"
    }
   ],
   "source": [
    "people_dataframe['Age']\n",
    "people_dataframe.iloc[3]"
   ]
  },
  {
   "cell_type": "code",
   "execution_count": 38,
   "id": "48ee0184-ab4f-4d3f-b73b-889f1021219e",
   "metadata": {},
   "outputs": [],
   "source": [
    "people_dataframe.index = people_dataframe['Surname']"
   ]
  },
  {
   "cell_type": "code",
   "execution_count": 39,
   "id": "935283da-4924-46f2-b026-2d116b27f4de",
   "metadata": {},
   "outputs": [
    {
     "data": {
      "text/html": [
       "<div>\n",
       "<style scoped>\n",
       "    .dataframe tbody tr th:only-of-type {\n",
       "        vertical-align: middle;\n",
       "    }\n",
       "\n",
       "    .dataframe tbody tr th {\n",
       "        vertical-align: top;\n",
       "    }\n",
       "\n",
       "    .dataframe thead th {\n",
       "        text-align: right;\n",
       "    }\n",
       "</style>\n",
       "<table border=\"1\" class=\"dataframe\">\n",
       "  <thead>\n",
       "    <tr style=\"text-align: right;\">\n",
       "      <th></th>\n",
       "      <th>Surname</th>\n",
       "      <th>Age</th>\n",
       "    </tr>\n",
       "    <tr>\n",
       "      <th>Surname</th>\n",
       "      <th></th>\n",
       "      <th></th>\n",
       "    </tr>\n",
       "  </thead>\n",
       "  <tbody>\n",
       "    <tr>\n",
       "      <th>Ivan</th>\n",
       "      <td>Ivan</td>\n",
       "      <td>43</td>\n",
       "    </tr>\n",
       "    <tr>\n",
       "      <th>Francisca</th>\n",
       "      <td>Francisca</td>\n",
       "      <td>28</td>\n",
       "    </tr>\n",
       "    <tr>\n",
       "      <th>Francisco</th>\n",
       "      <td>Francisco</td>\n",
       "      <td>29</td>\n",
       "    </tr>\n",
       "    <tr>\n",
       "      <th>Helena</th>\n",
       "      <td>Helena</td>\n",
       "      <td>30</td>\n",
       "    </tr>\n",
       "    <tr>\n",
       "      <th>Juliana</th>\n",
       "      <td>Juliana</td>\n",
       "      <td>27</td>\n",
       "    </tr>\n",
       "  </tbody>\n",
       "</table>\n",
       "</div>"
      ],
      "text/plain": [
       "             Surname  Age\n",
       "Surname                  \n",
       "Ivan            Ivan   43\n",
       "Francisca  Francisca   28\n",
       "Francisco  Francisco   29\n",
       "Helena        Helena   30\n",
       "Juliana      Juliana   27"
      ]
     },
     "execution_count": 39,
     "metadata": {},
     "output_type": "execute_result"
    }
   ],
   "source": [
    "people_dataframe"
   ]
  },
  {
   "cell_type": "code",
   "execution_count": 41,
   "id": "edc34a9c-5163-44a0-afb2-44a57707e63f",
   "metadata": {},
   "outputs": [
    {
     "data": {
      "text/plain": [
       "Surname    Helena\n",
       "Age            30\n",
       "Name: Helena, dtype: object"
      ]
     },
     "execution_count": 41,
     "metadata": {},
     "output_type": "execute_result"
    }
   ],
   "source": [
    "people_dataframe.loc['Helena']"
   ]
  },
  {
   "cell_type": "code",
   "execution_count": 42,
   "id": "7b3dd847-2a6c-4819-b7a2-50f9484ac279",
   "metadata": {},
   "outputs": [
    {
     "data": {
      "text/html": [
       "<div>\n",
       "<style scoped>\n",
       "    .dataframe tbody tr th:only-of-type {\n",
       "        vertical-align: middle;\n",
       "    }\n",
       "\n",
       "    .dataframe tbody tr th {\n",
       "        vertical-align: top;\n",
       "    }\n",
       "\n",
       "    .dataframe thead th {\n",
       "        text-align: right;\n",
       "    }\n",
       "</style>\n",
       "<table border=\"1\" class=\"dataframe\">\n",
       "  <thead>\n",
       "    <tr style=\"text-align: right;\">\n",
       "      <th></th>\n",
       "      <th>Surname</th>\n",
       "      <th>Age</th>\n",
       "    </tr>\n",
       "  </thead>\n",
       "  <tbody>\n",
       "    <tr>\n",
       "      <th>0</th>\n",
       "      <td>Ivan</td>\n",
       "      <td>43</td>\n",
       "    </tr>\n",
       "    <tr>\n",
       "      <th>1</th>\n",
       "      <td>Francisca</td>\n",
       "      <td>28</td>\n",
       "    </tr>\n",
       "    <tr>\n",
       "      <th>2</th>\n",
       "      <td>Francisco</td>\n",
       "      <td>29</td>\n",
       "    </tr>\n",
       "    <tr>\n",
       "      <th>3</th>\n",
       "      <td>Helena</td>\n",
       "      <td>30</td>\n",
       "    </tr>\n",
       "    <tr>\n",
       "      <th>4</th>\n",
       "      <td>Juliana</td>\n",
       "      <td>27</td>\n",
       "    </tr>\n",
       "  </tbody>\n",
       "</table>\n",
       "</div>"
      ],
      "text/plain": [
       "     Surname  Age\n",
       "0       Ivan   43\n",
       "1  Francisca   28\n",
       "2  Francisco   29\n",
       "3     Helena   30\n",
       "4    Juliana   27"
      ]
     },
     "execution_count": 42,
     "metadata": {},
     "output_type": "execute_result"
    }
   ],
   "source": [
    "people = {\n",
    "    \"Surname\" : ( \"Ivan\" , \"Francisca\", \"Francisco\", \"Helena\", \"Juliana\" ),\n",
    "    \"Age\":      (43, 28, 29, 30, 27)\n",
    "}\n",
    "\n",
    "people_dataframe = pd.DataFrame(people )\n",
    "people_dataframe"
   ]
  },
  {
   "cell_type": "code",
   "execution_count": 44,
   "id": "26e09d37-08f1-45b0-b2a4-27b60e6a4496",
   "metadata": {},
   "outputs": [
    {
     "data": {
      "text/plain": [
       "30"
      ]
     },
     "execution_count": 44,
     "metadata": {},
     "output_type": "execute_result"
    }
   ],
   "source": [
    "people_dataframe['Age'].iloc[3]"
   ]
  },
  {
   "cell_type": "code",
   "execution_count": 46,
   "id": "922bd35d-294b-4fbb-87ef-1b77e51410d5",
   "metadata": {},
   "outputs": [
    {
     "data": {
      "text/plain": [
       "30"
      ]
     },
     "execution_count": 46,
     "metadata": {},
     "output_type": "execute_result"
    }
   ],
   "source": [
    "people_dataframe.iloc[3]['Age']"
   ]
  },
  {
   "cell_type": "code",
   "execution_count": 51,
   "id": "8211b9a1-cf0c-4854-956a-5aa201aef704",
   "metadata": {},
   "outputs": [
    {
     "name": "stdout",
     "output_type": "stream",
     "text": [
      "Surname    Ivan\n",
      "Age          43\n",
      "Name: 0, dtype: object\n",
      "Surname    Francisca\n",
      "Age               28\n",
      "Name: 1, dtype: object\n",
      "Surname    Francisco\n",
      "Age               29\n",
      "Name: 2, dtype: object\n",
      "Surname    Helena\n",
      "Age            30\n",
      "Name: 3, dtype: object\n",
      "Surname    Juliana\n",
      "Age             27\n",
      "Name: 4, dtype: object\n"
     ]
    }
   ],
   "source": [
    "for each_id in people_dataframe.index:\n",
    "    print(people_dataframe.iloc[each_id])"
   ]
  },
  {
   "cell_type": "code",
   "execution_count": 53,
   "id": "9fc89fc1-3cd7-4fec-b5aa-608d1c0ddb7e",
   "metadata": {},
   "outputs": [
    {
     "name": "stdout",
     "output_type": "stream",
     "text": [
      "0         Ivan\n",
      "1    Francisca\n",
      "2    Francisco\n",
      "3       Helena\n",
      "4      Juliana\n",
      "Name: Surname, dtype: object\n",
      "0    43\n",
      "1    28\n",
      "2    29\n",
      "3    30\n",
      "4    27\n",
      "Name: Age, dtype: int64\n"
     ]
    }
   ],
   "source": [
    "for each_column_name in people_dataframe.columns:\n",
    "    print(people_dataframe[each_column_name])"
   ]
  },
  {
   "cell_type": "code",
   "execution_count": 57,
   "id": "38de78ff-9385-4d96-8ac4-4012ae274236",
   "metadata": {},
   "outputs": [
    {
     "name": "stdout",
     "output_type": "stream",
     "text": [
      "Value at row: 0 and column: Surname -- Ivan\n",
      "Value at row: 0 and column: Age -- 43\n",
      "Value at row: 1 and column: Surname -- Francisca\n",
      "Value at row: 1 and column: Age -- 28\n",
      "Value at row: 2 and column: Surname -- Francisco\n",
      "Value at row: 2 and column: Age -- 29\n",
      "Value at row: 3 and column: Surname -- Helena\n",
      "Value at row: 3 and column: Age -- 30\n",
      "Value at row: 4 and column: Surname -- Juliana\n",
      "Value at row: 4 and column: Age -- 27\n"
     ]
    }
   ],
   "source": [
    "\n",
    "for each_id in people_dataframe.index:\n",
    "    #each_id   0 1 2 3 4\n",
    "    for each_column_name in people_dataframe.columns:\n",
    "        #each_column_name Surname  Age\n",
    "        #     people_dataframe['Age'].iloc[3]\n",
    "        value = people_dataframe[each_column_name].iloc[each_id]\n",
    "        print(\"Value at row: \" + str(each_id) + \" and column: \" + each_column_name + \" -- \"+ str(value))"
   ]
  },
  {
   "cell_type": "code",
   "execution_count": 58,
   "id": "6b2a31ba-cbe8-41b1-b5d5-851ef1aa2b46",
   "metadata": {},
   "outputs": [
    {
     "data": {
      "text/html": [
       "<div>\n",
       "<style scoped>\n",
       "    .dataframe tbody tr th:only-of-type {\n",
       "        vertical-align: middle;\n",
       "    }\n",
       "\n",
       "    .dataframe tbody tr th {\n",
       "        vertical-align: top;\n",
       "    }\n",
       "\n",
       "    .dataframe thead th {\n",
       "        text-align: right;\n",
       "    }\n",
       "</style>\n",
       "<table border=\"1\" class=\"dataframe\">\n",
       "  <thead>\n",
       "    <tr style=\"text-align: right;\">\n",
       "      <th></th>\n",
       "      <th>Surname</th>\n",
       "      <th>Age</th>\n",
       "    </tr>\n",
       "  </thead>\n",
       "  <tbody>\n",
       "    <tr>\n",
       "      <th>0</th>\n",
       "      <td>Ivan</td>\n",
       "      <td>43</td>\n",
       "    </tr>\n",
       "    <tr>\n",
       "      <th>1</th>\n",
       "      <td>Francisca</td>\n",
       "      <td>28</td>\n",
       "    </tr>\n",
       "    <tr>\n",
       "      <th>2</th>\n",
       "      <td>Francisco</td>\n",
       "      <td>29</td>\n",
       "    </tr>\n",
       "    <tr>\n",
       "      <th>3</th>\n",
       "      <td>Helena</td>\n",
       "      <td>30</td>\n",
       "    </tr>\n",
       "    <tr>\n",
       "      <th>4</th>\n",
       "      <td>Juliana</td>\n",
       "      <td>27</td>\n",
       "    </tr>\n",
       "  </tbody>\n",
       "</table>\n",
       "</div>"
      ],
      "text/plain": [
       "     Surname  Age\n",
       "0       Ivan   43\n",
       "1  Francisca   28\n",
       "2  Francisco   29\n",
       "3     Helena   30\n",
       "4    Juliana   27"
      ]
     },
     "execution_count": 58,
     "metadata": {},
     "output_type": "execute_result"
    }
   ],
   "source": [
    "# SELECT Surname, Age FROM People;\n",
    "people_dataframe\n"
   ]
  },
  {
   "cell_type": "code",
   "execution_count": 63,
   "id": "b1139dac-62a9-41af-911d-48c73166e300",
   "metadata": {},
   "outputs": [],
   "source": [
    "# Age -> OlderThan20\n",
    "\n",
    "def olderThan30(age):\n",
    "    return age >= 30\n",
    "\n",
    "people_dataframe['OlderThan30'] = people_dataframe['Age'].apply(olderThan30)"
   ]
  },
  {
   "cell_type": "code",
   "execution_count": 64,
   "id": "7705e329-335f-44a0-be15-b2613da563dc",
   "metadata": {},
   "outputs": [
    {
     "data": {
      "text/html": [
       "<div>\n",
       "<style scoped>\n",
       "    .dataframe tbody tr th:only-of-type {\n",
       "        vertical-align: middle;\n",
       "    }\n",
       "\n",
       "    .dataframe tbody tr th {\n",
       "        vertical-align: top;\n",
       "    }\n",
       "\n",
       "    .dataframe thead th {\n",
       "        text-align: right;\n",
       "    }\n",
       "</style>\n",
       "<table border=\"1\" class=\"dataframe\">\n",
       "  <thead>\n",
       "    <tr style=\"text-align: right;\">\n",
       "      <th></th>\n",
       "      <th>Surname</th>\n",
       "      <th>Age</th>\n",
       "      <th>OlderThan30</th>\n",
       "    </tr>\n",
       "  </thead>\n",
       "  <tbody>\n",
       "    <tr>\n",
       "      <th>0</th>\n",
       "      <td>Ivan</td>\n",
       "      <td>43</td>\n",
       "      <td>True</td>\n",
       "    </tr>\n",
       "    <tr>\n",
       "      <th>1</th>\n",
       "      <td>Francisca</td>\n",
       "      <td>28</td>\n",
       "      <td>False</td>\n",
       "    </tr>\n",
       "    <tr>\n",
       "      <th>2</th>\n",
       "      <td>Francisco</td>\n",
       "      <td>29</td>\n",
       "      <td>False</td>\n",
       "    </tr>\n",
       "    <tr>\n",
       "      <th>3</th>\n",
       "      <td>Helena</td>\n",
       "      <td>30</td>\n",
       "      <td>True</td>\n",
       "    </tr>\n",
       "    <tr>\n",
       "      <th>4</th>\n",
       "      <td>Juliana</td>\n",
       "      <td>27</td>\n",
       "      <td>False</td>\n",
       "    </tr>\n",
       "  </tbody>\n",
       "</table>\n",
       "</div>"
      ],
      "text/plain": [
       "     Surname  Age  OlderThan30\n",
       "0       Ivan   43         True\n",
       "1  Francisca   28        False\n",
       "2  Francisco   29        False\n",
       "3     Helena   30         True\n",
       "4    Juliana   27        False"
      ]
     },
     "execution_count": 64,
     "metadata": {},
     "output_type": "execute_result"
    }
   ],
   "source": [
    "people_dataframe"
   ]
  },
  {
   "cell_type": "code",
   "execution_count": 65,
   "id": "726c2546-afee-45dd-9715-104352495db9",
   "metadata": {},
   "outputs": [
    {
     "data": {
      "text/html": [
       "<div>\n",
       "<style scoped>\n",
       "    .dataframe tbody tr th:only-of-type {\n",
       "        vertical-align: middle;\n",
       "    }\n",
       "\n",
       "    .dataframe tbody tr th {\n",
       "        vertical-align: top;\n",
       "    }\n",
       "\n",
       "    .dataframe thead th {\n",
       "        text-align: right;\n",
       "    }\n",
       "</style>\n",
       "<table border=\"1\" class=\"dataframe\">\n",
       "  <thead>\n",
       "    <tr style=\"text-align: right;\">\n",
       "      <th></th>\n",
       "      <th>Surname</th>\n",
       "      <th>Age</th>\n",
       "      <th>OlderThan30</th>\n",
       "      <th>OlderThan30_Version2</th>\n",
       "    </tr>\n",
       "  </thead>\n",
       "  <tbody>\n",
       "    <tr>\n",
       "      <th>0</th>\n",
       "      <td>Ivan</td>\n",
       "      <td>43</td>\n",
       "      <td>True</td>\n",
       "      <td>True</td>\n",
       "    </tr>\n",
       "    <tr>\n",
       "      <th>1</th>\n",
       "      <td>Francisca</td>\n",
       "      <td>28</td>\n",
       "      <td>False</td>\n",
       "      <td>False</td>\n",
       "    </tr>\n",
       "    <tr>\n",
       "      <th>2</th>\n",
       "      <td>Francisco</td>\n",
       "      <td>29</td>\n",
       "      <td>False</td>\n",
       "      <td>False</td>\n",
       "    </tr>\n",
       "    <tr>\n",
       "      <th>3</th>\n",
       "      <td>Helena</td>\n",
       "      <td>30</td>\n",
       "      <td>True</td>\n",
       "      <td>True</td>\n",
       "    </tr>\n",
       "    <tr>\n",
       "      <th>4</th>\n",
       "      <td>Juliana</td>\n",
       "      <td>27</td>\n",
       "      <td>False</td>\n",
       "      <td>False</td>\n",
       "    </tr>\n",
       "  </tbody>\n",
       "</table>\n",
       "</div>"
      ],
      "text/plain": [
       "     Surname  Age  OlderThan30  OlderThan30_Version2\n",
       "0       Ivan   43         True                  True\n",
       "1  Francisca   28        False                 False\n",
       "2  Francisco   29        False                 False\n",
       "3     Helena   30         True                  True\n",
       "4    Juliana   27        False                 False"
      ]
     },
     "execution_count": 65,
     "metadata": {},
     "output_type": "execute_result"
    }
   ],
   "source": [
    "\n",
    "\n",
    "people_dataframe['OlderThan30_Version2'] = people_dataframe['Age'].apply(lambda age: age >= 30)\n",
    "people_dataframe"
   ]
  },
  {
   "cell_type": "code",
   "execution_count": 67,
   "id": "c4a218e0-4228-4e6e-94fd-15611198650c",
   "metadata": {},
   "outputs": [
    {
     "data": {
      "text/plain": [
       "0     True\n",
       "1    False\n",
       "2    False\n",
       "3     True\n",
       "4    False\n",
       "Name: Age, dtype: bool"
      ]
     },
     "execution_count": 67,
     "metadata": {},
     "output_type": "execute_result"
    }
   ],
   "source": [
    "people_dataframe['Age'] >= 30"
   ]
  },
  {
   "cell_type": "code",
   "execution_count": 68,
   "id": "ca0aadf5-3e64-46a6-8397-7fe3ccdf1780",
   "metadata": {},
   "outputs": [
    {
     "data": {
      "text/plain": [
       "0     True\n",
       "1    False\n",
       "2    False\n",
       "3     True\n",
       "4    False\n",
       "Name: Age, dtype: bool"
      ]
     },
     "execution_count": 68,
     "metadata": {},
     "output_type": "execute_result"
    }
   ],
   "source": [
    "people_dataframe['Age'].apply(lambda age: age >= 30)"
   ]
  },
  {
   "cell_type": "code",
   "execution_count": 69,
   "id": "7a7504e7-f6c8-44b2-907f-6a2651c7b344",
   "metadata": {},
   "outputs": [
    {
     "data": {
      "text/plain": [
       "0    63\n",
       "1    48\n",
       "2    49\n",
       "3    50\n",
       "4    47\n",
       "Name: Age, dtype: int64"
      ]
     },
     "execution_count": 69,
     "metadata": {},
     "output_type": "execute_result"
    }
   ],
   "source": [
    "people_dataframe['Age'].apply( lambda age: age + 20 )"
   ]
  },
  {
   "cell_type": "code",
   "execution_count": 70,
   "id": "24524fe5-0c51-46a7-99e8-ff5d0d48c446",
   "metadata": {},
   "outputs": [
    {
     "data": {
      "text/plain": [
       "0    63\n",
       "1    48\n",
       "2    49\n",
       "3    50\n",
       "4    47\n",
       "Name: Age, dtype: int64"
      ]
     },
     "execution_count": 70,
     "metadata": {},
     "output_type": "execute_result"
    }
   ],
   "source": [
    "people_dataframe['Age'] + 20"
   ]
  },
  {
   "cell_type": "markdown",
   "id": "e9157df8-5288-481d-85f5-310e58dad011",
   "metadata": {},
   "source": [
    "# Filtering data\n"
   ]
  },
  {
   "cell_type": "code",
   "execution_count": 71,
   "id": "57dd3d29-3125-4abc-a5e4-b52806baf763",
   "metadata": {},
   "outputs": [
    {
     "data": {
      "text/html": [
       "<div>\n",
       "<style scoped>\n",
       "    .dataframe tbody tr th:only-of-type {\n",
       "        vertical-align: middle;\n",
       "    }\n",
       "\n",
       "    .dataframe tbody tr th {\n",
       "        vertical-align: top;\n",
       "    }\n",
       "\n",
       "    .dataframe thead th {\n",
       "        text-align: right;\n",
       "    }\n",
       "</style>\n",
       "<table border=\"1\" class=\"dataframe\">\n",
       "  <thead>\n",
       "    <tr style=\"text-align: right;\">\n",
       "      <th></th>\n",
       "      <th>Surname</th>\n",
       "      <th>Age</th>\n",
       "    </tr>\n",
       "  </thead>\n",
       "  <tbody>\n",
       "    <tr>\n",
       "      <th>0</th>\n",
       "      <td>Ivan</td>\n",
       "      <td>43</td>\n",
       "    </tr>\n",
       "    <tr>\n",
       "      <th>1</th>\n",
       "      <td>Francisca</td>\n",
       "      <td>28</td>\n",
       "    </tr>\n",
       "    <tr>\n",
       "      <th>2</th>\n",
       "      <td>Francisco</td>\n",
       "      <td>29</td>\n",
       "    </tr>\n",
       "    <tr>\n",
       "      <th>3</th>\n",
       "      <td>Helena</td>\n",
       "      <td>30</td>\n",
       "    </tr>\n",
       "    <tr>\n",
       "      <th>4</th>\n",
       "      <td>Juliana</td>\n",
       "      <td>27</td>\n",
       "    </tr>\n",
       "  </tbody>\n",
       "</table>\n",
       "</div>"
      ],
      "text/plain": [
       "     Surname  Age\n",
       "0       Ivan   43\n",
       "1  Francisca   28\n",
       "2  Francisco   29\n",
       "3     Helena   30\n",
       "4    Juliana   27"
      ]
     },
     "execution_count": 71,
     "metadata": {},
     "output_type": "execute_result"
    }
   ],
   "source": [
    "# people_dataframe[ boolean_column ]\n",
    "\n",
    "people = {\n",
    "    \"Surname\" : ( \"Ivan\" , \"Francisca\", \"Francisco\", \"Helena\", \"Juliana\" ),\n",
    "    \"Age\":      (43, 28, 29, 30, 27)\n",
    "}\n",
    "\n",
    "people_dataframe = pd.DataFrame(people )\n",
    "people_dataframe"
   ]
  },
  {
   "cell_type": "code",
   "execution_count": 73,
   "id": "7dd0980b-e583-4598-a670-10204a8f6fac",
   "metadata": {},
   "outputs": [
    {
     "data": {
      "text/plain": [
       "0     True\n",
       "1    False\n",
       "2     True\n",
       "3     True\n",
       "4    False\n",
       "Name: 0, dtype: bool"
      ]
     },
     "execution_count": 73,
     "metadata": {},
     "output_type": "execute_result"
    }
   ],
   "source": [
    "filter = ( True , False , True, True, False )\n",
    "\n",
    "filter_dataframe = pd.DataFrame(filter )\n",
    "filter_dataframe[0]"
   ]
  },
  {
   "cell_type": "code",
   "execution_count": 74,
   "id": "372daeda-b1f2-481b-b84b-dca92b787552",
   "metadata": {},
   "outputs": [
    {
     "data": {
      "text/html": [
       "<div>\n",
       "<style scoped>\n",
       "    .dataframe tbody tr th:only-of-type {\n",
       "        vertical-align: middle;\n",
       "    }\n",
       "\n",
       "    .dataframe tbody tr th {\n",
       "        vertical-align: top;\n",
       "    }\n",
       "\n",
       "    .dataframe thead th {\n",
       "        text-align: right;\n",
       "    }\n",
       "</style>\n",
       "<table border=\"1\" class=\"dataframe\">\n",
       "  <thead>\n",
       "    <tr style=\"text-align: right;\">\n",
       "      <th></th>\n",
       "      <th>Surname</th>\n",
       "      <th>Age</th>\n",
       "    </tr>\n",
       "  </thead>\n",
       "  <tbody>\n",
       "    <tr>\n",
       "      <th>0</th>\n",
       "      <td>Ivan</td>\n",
       "      <td>43</td>\n",
       "    </tr>\n",
       "    <tr>\n",
       "      <th>2</th>\n",
       "      <td>Francisco</td>\n",
       "      <td>29</td>\n",
       "    </tr>\n",
       "    <tr>\n",
       "      <th>3</th>\n",
       "      <td>Helena</td>\n",
       "      <td>30</td>\n",
       "    </tr>\n",
       "  </tbody>\n",
       "</table>\n",
       "</div>"
      ],
      "text/plain": [
       "     Surname  Age\n",
       "0       Ivan   43\n",
       "2  Francisco   29\n",
       "3     Helena   30"
      ]
     },
     "execution_count": 74,
     "metadata": {},
     "output_type": "execute_result"
    }
   ],
   "source": [
    "people_dataframe [ filter_dataframe[0] ] "
   ]
  },
  {
   "cell_type": "code",
   "execution_count": 75,
   "id": "f6fd3976-81a2-4c17-8d95-4363f4f291cd",
   "metadata": {},
   "outputs": [
    {
     "data": {
      "text/html": [
       "<div>\n",
       "<style scoped>\n",
       "    .dataframe tbody tr th:only-of-type {\n",
       "        vertical-align: middle;\n",
       "    }\n",
       "\n",
       "    .dataframe tbody tr th {\n",
       "        vertical-align: top;\n",
       "    }\n",
       "\n",
       "    .dataframe thead th {\n",
       "        text-align: right;\n",
       "    }\n",
       "</style>\n",
       "<table border=\"1\" class=\"dataframe\">\n",
       "  <thead>\n",
       "    <tr style=\"text-align: right;\">\n",
       "      <th></th>\n",
       "      <th>Surname</th>\n",
       "      <th>Age</th>\n",
       "    </tr>\n",
       "  </thead>\n",
       "  <tbody>\n",
       "    <tr>\n",
       "      <th>0</th>\n",
       "      <td>Ivan</td>\n",
       "      <td>43</td>\n",
       "    </tr>\n",
       "    <tr>\n",
       "      <th>1</th>\n",
       "      <td>Francisca</td>\n",
       "      <td>28</td>\n",
       "    </tr>\n",
       "    <tr>\n",
       "      <th>2</th>\n",
       "      <td>Francisco</td>\n",
       "      <td>29</td>\n",
       "    </tr>\n",
       "    <tr>\n",
       "      <th>3</th>\n",
       "      <td>Helena</td>\n",
       "      <td>30</td>\n",
       "    </tr>\n",
       "    <tr>\n",
       "      <th>4</th>\n",
       "      <td>Juliana</td>\n",
       "      <td>27</td>\n",
       "    </tr>\n",
       "  </tbody>\n",
       "</table>\n",
       "</div>"
      ],
      "text/plain": [
       "     Surname  Age\n",
       "0       Ivan   43\n",
       "1  Francisca   28\n",
       "2  Francisco   29\n",
       "3     Helena   30\n",
       "4    Juliana   27"
      ]
     },
     "execution_count": 75,
     "metadata": {},
     "output_type": "execute_result"
    }
   ],
   "source": [
    "people_dataframe"
   ]
  },
  {
   "cell_type": "code",
   "execution_count": 76,
   "id": "ae6e7d5d-5382-478b-8571-cefbbfeb28fa",
   "metadata": {},
   "outputs": [
    {
     "data": {
      "text/plain": [
       "0     True\n",
       "1    False\n",
       "2    False\n",
       "3     True\n",
       "4    False\n",
       "Name: Age, dtype: bool"
      ]
     },
     "execution_count": 76,
     "metadata": {},
     "output_type": "execute_result"
    }
   ],
   "source": [
    "people_dataframe['Age'] >= 30"
   ]
  },
  {
   "cell_type": "code",
   "execution_count": 77,
   "id": "615008cb-ccc2-444c-818d-410d8d9fc1f4",
   "metadata": {},
   "outputs": [
    {
     "data": {
      "text/html": [
       "<div>\n",
       "<style scoped>\n",
       "    .dataframe tbody tr th:only-of-type {\n",
       "        vertical-align: middle;\n",
       "    }\n",
       "\n",
       "    .dataframe tbody tr th {\n",
       "        vertical-align: top;\n",
       "    }\n",
       "\n",
       "    .dataframe thead th {\n",
       "        text-align: right;\n",
       "    }\n",
       "</style>\n",
       "<table border=\"1\" class=\"dataframe\">\n",
       "  <thead>\n",
       "    <tr style=\"text-align: right;\">\n",
       "      <th></th>\n",
       "      <th>Surname</th>\n",
       "      <th>Age</th>\n",
       "    </tr>\n",
       "  </thead>\n",
       "  <tbody>\n",
       "    <tr>\n",
       "      <th>0</th>\n",
       "      <td>Ivan</td>\n",
       "      <td>43</td>\n",
       "    </tr>\n",
       "    <tr>\n",
       "      <th>3</th>\n",
       "      <td>Helena</td>\n",
       "      <td>30</td>\n",
       "    </tr>\n",
       "  </tbody>\n",
       "</table>\n",
       "</div>"
      ],
      "text/plain": [
       "  Surname  Age\n",
       "0    Ivan   43\n",
       "3  Helena   30"
      ]
     },
     "execution_count": 77,
     "metadata": {},
     "output_type": "execute_result"
    }
   ],
   "source": [
    "people_dataframe[ people_dataframe['Age'] >= 30 ]"
   ]
  },
  {
   "cell_type": "code",
   "execution_count": 78,
   "id": "98fcfdc7-5305-49b6-8f39-e0e44cf178da",
   "metadata": {},
   "outputs": [
    {
     "data": {
      "text/html": [
       "<div>\n",
       "<style scoped>\n",
       "    .dataframe tbody tr th:only-of-type {\n",
       "        vertical-align: middle;\n",
       "    }\n",
       "\n",
       "    .dataframe tbody tr th {\n",
       "        vertical-align: top;\n",
       "    }\n",
       "\n",
       "    .dataframe thead th {\n",
       "        text-align: right;\n",
       "    }\n",
       "</style>\n",
       "<table border=\"1\" class=\"dataframe\">\n",
       "  <thead>\n",
       "    <tr style=\"text-align: right;\">\n",
       "      <th></th>\n",
       "      <th>Surname</th>\n",
       "      <th>Age</th>\n",
       "    </tr>\n",
       "  </thead>\n",
       "  <tbody>\n",
       "    <tr>\n",
       "      <th>0</th>\n",
       "      <td>Ivan</td>\n",
       "      <td>43</td>\n",
       "    </tr>\n",
       "    <tr>\n",
       "      <th>1</th>\n",
       "      <td>Francisca</td>\n",
       "      <td>28</td>\n",
       "    </tr>\n",
       "    <tr>\n",
       "      <th>2</th>\n",
       "      <td>Francisco</td>\n",
       "      <td>29</td>\n",
       "    </tr>\n",
       "    <tr>\n",
       "      <th>3</th>\n",
       "      <td>Helena</td>\n",
       "      <td>30</td>\n",
       "    </tr>\n",
       "    <tr>\n",
       "      <th>4</th>\n",
       "      <td>Juliana</td>\n",
       "      <td>27</td>\n",
       "    </tr>\n",
       "  </tbody>\n",
       "</table>\n",
       "</div>"
      ],
      "text/plain": [
       "     Surname  Age\n",
       "0       Ivan   43\n",
       "1  Francisca   28\n",
       "2  Francisco   29\n",
       "3     Helena   30\n",
       "4    Juliana   27"
      ]
     },
     "execution_count": 78,
     "metadata": {},
     "output_type": "execute_result"
    }
   ],
   "source": [
    "# Practice 1\n",
    "\n",
    "people = {\n",
    "    \"Surname\" : ( \"Ivan\" , \"Francisca\", \"Francisco\", \"Helena\", \"Juliana\" ),\n",
    "    \"Age\":      (43, 28, 29, 30, 27)\n",
    "}\n",
    "\n",
    "people_dataframe = pd.DataFrame(people )\n",
    "people_dataframe"
   ]
  },
  {
   "cell_type": "code",
   "execution_count": 81,
   "id": "987b5370-be75-4844-b77f-6370b75e446f",
   "metadata": {},
   "outputs": [],
   "source": [
    "new_column = people_dataframe['Surname'].apply(lambda text: text.upper() )"
   ]
  },
  {
   "cell_type": "code",
   "execution_count": 82,
   "id": "b27d07fd-36d4-471a-9c84-06ae9e411612",
   "metadata": {},
   "outputs": [
    {
     "data": {
      "text/plain": [
       "0         IVAN\n",
       "1    FRANCISCA\n",
       "2    FRANCISCO\n",
       "3       HELENA\n",
       "4      JULIANA\n",
       "Name: Surname, dtype: object"
      ]
     },
     "execution_count": 82,
     "metadata": {},
     "output_type": "execute_result"
    }
   ],
   "source": [
    "new_column"
   ]
  },
  {
   "cell_type": "code",
   "execution_count": 83,
   "id": "3584a6a2-5999-4063-8575-095531b8e264",
   "metadata": {},
   "outputs": [
    {
     "data": {
      "text/html": [
       "<div>\n",
       "<style scoped>\n",
       "    .dataframe tbody tr th:only-of-type {\n",
       "        vertical-align: middle;\n",
       "    }\n",
       "\n",
       "    .dataframe tbody tr th {\n",
       "        vertical-align: top;\n",
       "    }\n",
       "\n",
       "    .dataframe thead th {\n",
       "        text-align: right;\n",
       "    }\n",
       "</style>\n",
       "<table border=\"1\" class=\"dataframe\">\n",
       "  <thead>\n",
       "    <tr style=\"text-align: right;\">\n",
       "      <th></th>\n",
       "      <th>Surname</th>\n",
       "      <th>Age</th>\n",
       "    </tr>\n",
       "  </thead>\n",
       "  <tbody>\n",
       "    <tr>\n",
       "      <th>0</th>\n",
       "      <td>IVAN</td>\n",
       "      <td>43</td>\n",
       "    </tr>\n",
       "    <tr>\n",
       "      <th>1</th>\n",
       "      <td>FRANCISCA</td>\n",
       "      <td>28</td>\n",
       "    </tr>\n",
       "    <tr>\n",
       "      <th>2</th>\n",
       "      <td>FRANCISCO</td>\n",
       "      <td>29</td>\n",
       "    </tr>\n",
       "    <tr>\n",
       "      <th>3</th>\n",
       "      <td>HELENA</td>\n",
       "      <td>30</td>\n",
       "    </tr>\n",
       "    <tr>\n",
       "      <th>4</th>\n",
       "      <td>JULIANA</td>\n",
       "      <td>27</td>\n",
       "    </tr>\n",
       "  </tbody>\n",
       "</table>\n",
       "</div>"
      ],
      "text/plain": [
       "     Surname  Age\n",
       "0       IVAN   43\n",
       "1  FRANCISCA   28\n",
       "2  FRANCISCO   29\n",
       "3     HELENA   30\n",
       "4    JULIANA   27"
      ]
     },
     "execution_count": 83,
     "metadata": {},
     "output_type": "execute_result"
    }
   ],
   "source": [
    "people_dataframe['Surname'] = new_column\n",
    "people_dataframe"
   ]
  },
  {
   "cell_type": "code",
   "execution_count": 84,
   "id": "c04c32ca-f3c2-41b0-b368-7fc47bb64cac",
   "metadata": {},
   "outputs": [
    {
     "data": {
      "text/html": [
       "<div>\n",
       "<style scoped>\n",
       "    .dataframe tbody tr th:only-of-type {\n",
       "        vertical-align: middle;\n",
       "    }\n",
       "\n",
       "    .dataframe tbody tr th {\n",
       "        vertical-align: top;\n",
       "    }\n",
       "\n",
       "    .dataframe thead th {\n",
       "        text-align: right;\n",
       "    }\n",
       "</style>\n",
       "<table border=\"1\" class=\"dataframe\">\n",
       "  <thead>\n",
       "    <tr style=\"text-align: right;\">\n",
       "      <th></th>\n",
       "      <th>Surname</th>\n",
       "      <th>Age</th>\n",
       "    </tr>\n",
       "  </thead>\n",
       "  <tbody>\n",
       "    <tr>\n",
       "      <th>0</th>\n",
       "      <td>Ivan</td>\n",
       "      <td>43</td>\n",
       "    </tr>\n",
       "    <tr>\n",
       "      <th>1</th>\n",
       "      <td>Francisca</td>\n",
       "      <td>28</td>\n",
       "    </tr>\n",
       "    <tr>\n",
       "      <th>2</th>\n",
       "      <td>Francisco</td>\n",
       "      <td>29</td>\n",
       "    </tr>\n",
       "    <tr>\n",
       "      <th>3</th>\n",
       "      <td>Helena</td>\n",
       "      <td>30</td>\n",
       "    </tr>\n",
       "    <tr>\n",
       "      <th>4</th>\n",
       "      <td>Juliana</td>\n",
       "      <td>27</td>\n",
       "    </tr>\n",
       "  </tbody>\n",
       "</table>\n",
       "</div>"
      ],
      "text/plain": [
       "     Surname  Age\n",
       "0       Ivan   43\n",
       "1  Francisca   28\n",
       "2  Francisco   29\n",
       "3     Helena   30\n",
       "4    Juliana   27"
      ]
     },
     "execution_count": 84,
     "metadata": {},
     "output_type": "execute_result"
    }
   ],
   "source": [
    "new_column = people_dataframe['Surname'].apply(lambda text: text.capitalize() )\n",
    "people_dataframe['Surname'] = new_column\n",
    "people_dataframe"
   ]
  },
  {
   "cell_type": "code",
   "execution_count": 87,
   "id": "7b27e6c1-a47b-40fb-bd46-7a237582065c",
   "metadata": {},
   "outputs": [
    {
     "data": {
      "text/html": [
       "<div>\n",
       "<style scoped>\n",
       "    .dataframe tbody tr th:only-of-type {\n",
       "        vertical-align: middle;\n",
       "    }\n",
       "\n",
       "    .dataframe tbody tr th {\n",
       "        vertical-align: top;\n",
       "    }\n",
       "\n",
       "    .dataframe thead th {\n",
       "        text-align: right;\n",
       "    }\n",
       "</style>\n",
       "<table border=\"1\" class=\"dataframe\">\n",
       "  <thead>\n",
       "    <tr style=\"text-align: right;\">\n",
       "      <th></th>\n",
       "      <th>Surname</th>\n",
       "      <th>Age</th>\n",
       "    </tr>\n",
       "  </thead>\n",
       "  <tbody>\n",
       "    <tr>\n",
       "      <th>1</th>\n",
       "      <td>Francisca</td>\n",
       "      <td>28</td>\n",
       "    </tr>\n",
       "    <tr>\n",
       "      <th>2</th>\n",
       "      <td>Francisco</td>\n",
       "      <td>29</td>\n",
       "    </tr>\n",
       "  </tbody>\n",
       "</table>\n",
       "</div>"
      ],
      "text/plain": [
       "     Surname  Age\n",
       "1  Francisca   28\n",
       "2  Francisco   29"
      ]
     },
     "execution_count": 87,
     "metadata": {},
     "output_type": "execute_result"
    }
   ],
   "source": [
    "# Practice 2 : FILTER \n",
    "\n",
    "# I just want the rows ... which surname contains the char 'c'\n",
    "\n",
    "filter = people_dataframe['Surname'].apply(lambda value: value.count(\"c\") > 0 )\n",
    "people_dataframe[filter]"
   ]
  },
  {
   "cell_type": "code",
   "execution_count": null,
   "id": "b13bd774-4770-42c9-a5a3-04cb01dcb755",
   "metadata": {},
   "outputs": [],
   "source": []
  },
  {
   "cell_type": "code",
   "execution_count": null,
   "id": "75073920-9969-4b46-997d-733c262d8e29",
   "metadata": {},
   "outputs": [],
   "source": []
  }
 ],
 "metadata": {
  "kernelspec": {
   "display_name": "Python 3 (ipykernel)",
   "language": "python",
   "name": "python3"
  },
  "language_info": {
   "codemirror_mode": {
    "name": "ipython",
    "version": 3
   },
   "file_extension": ".py",
   "mimetype": "text/x-python",
   "name": "python",
   "nbconvert_exporter": "python",
   "pygments_lexer": "ipython3",
   "version": "3.9.10"
  }
 },
 "nbformat": 4,
 "nbformat_minor": 5
}
