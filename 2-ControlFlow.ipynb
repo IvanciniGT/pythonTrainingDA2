{
 "cells": [
  {
   "cell_type": "markdown",
   "id": "a01c0c15-cc9e-4636-a333-db5ca066164f",
   "metadata": {
    "tags": []
   },
   "source": [
    "# Conditionals\n",
    "\n",
    "A conditional is a line of code (sentence) that allows us to decide during execution time which lines need to be executed by my computer.\n",
    "\n",
    "Conditionals relay on CONDITIONS.\n",
    "\n",
    "A condition is just a Boolean expression: True | False\n",
    "\n",
    "```\n",
    "if CONDITION1:\n",
    "    # code that will be executed if the condition is met\n",
    "elif ALTERNATIVE_CONDITION:\n",
    "    # more code\n",
    "elif ALTERNATIVE_CONDITION2:\n",
    "    # more code\n",
    "else:\n",
    "    # other code...\n",
    "```    "
   ]
  },
  {
   "cell_type": "code",
   "execution_count": 3,
   "id": "c8e019e4-9ee7-4500-9fd5-ef765fcb9828",
   "metadata": {},
   "outputs": [
    {
     "name": "stdout",
     "output_type": "stream",
     "text": [
      "A\n"
     ]
    }
   ],
   "source": [
    "# Connect to a database\n",
    "# Execute a Query\n",
    "# Retrieve some information... Insurance claims\n",
    "# Classify\n",
    "# Amount\n",
    "# Claim types: A, B, C.. depending on the amount\n",
    "# amount < 1000                    -> type = A\n",
    "# amount >= 1000 and amount < 2000 -> type = B\n",
    "# amount >= 2000                   -> type = C\n",
    "\n",
    "amount = 500 # Let's imagine that this is the actual value that I have retrieved from my database\n",
    "if amount < 1000:\n",
    "    claim_type = \"A\"\n",
    "    \n",
    "if amount >= 1000 and amount < 2000:\n",
    "    claim_type = \"B\"\n",
    "if amount >= 2000:\n",
    "    claim_type = \"C\"\n",
    "    \n",
    "print(claim_type)"
   ]
  },
  {
   "cell_type": "code",
   "execution_count": 4,
   "id": "0249612f-2ede-4fc0-97e3-9b7bdbec1d9b",
   "metadata": {},
   "outputs": [
    {
     "name": "stdout",
     "output_type": "stream",
     "text": [
      "A\n"
     ]
    }
   ],
   "source": [
    "amount = 500\n",
    "\n",
    "if amount < 1000:\n",
    "    claim_type = \"A\"\n",
    "elif amount >= 1000 and amount < 2000:\n",
    "    claim_type = \"B\"\n",
    "elif amount >= 2000:\n",
    "    claim_type = \"C\"\n",
    "    \n",
    "print(claim_type)\n"
   ]
  },
  {
   "cell_type": "code",
   "execution_count": 5,
   "id": "bd1b96b3-ac1e-4dec-b6ee-73eab317e73e",
   "metadata": {},
   "outputs": [
    {
     "name": "stdout",
     "output_type": "stream",
     "text": [
      "B\n"
     ]
    }
   ],
   "source": [
    "amount = 1500\n",
    "\n",
    "if amount < 1000:\n",
    "    claim_type = \"A\"\n",
    "elif amount >= 1000 and amount < 2000:\n",
    "    claim_type = \"B\"\n",
    "else:\n",
    "    claim_type = \"C\"\n",
    "    \n",
    "print(claim_type)\n"
   ]
  },
  {
   "cell_type": "code",
   "execution_count": 6,
   "id": "5d0ceedf-7278-4de7-8734-b52cbf4fed7c",
   "metadata": {},
   "outputs": [
    {
     "name": "stdout",
     "output_type": "stream",
     "text": [
      "B\n"
     ]
    }
   ],
   "source": [
    "amount = 1500\n",
    "\n",
    "if amount < 1000:\n",
    "    claim_type = \"A\"\n",
    "else:\n",
    "    if amount >= 2000:\n",
    "        claim_type = \"C\"\n",
    "    else:\n",
    "        claim_type = \"B\"\n",
    "    \n",
    "print(claim_type)\n"
   ]
  },
  {
   "cell_type": "markdown",
   "id": "281842fa-85c8-4542-8fb3-7aff2b0b019d",
   "metadata": {},
   "source": [
    "# Loops\n",
    "\n",
    "A loop is a piece of code (a set of lines of code) that will be executed never or multiple times\n",
    "\n",
    "- Connect to a database\n",
    "- Execute a Query\n",
    "- Retrieve some information... Insurance claims\n",
    "- Classify\n",
    "    - Claim types: A, B, C.. depending on the amount\n",
    "    - amount < 1000                    -> type = A\n",
    "    - amount >= 1000 and amount < 2000 -> type = B\n",
    "    - amount >= 2000                   -> type = C\n",
    "\n",
    "## Conditional based loop\n",
    "\n",
    "Allow us to execute a block of code while a condition is met."
   ]
  },
  {
   "cell_type": "code",
   "execution_count": 11,
   "id": "e94c361d-e59d-46eb-bb2a-925c80cbfb3d",
   "metadata": {},
   "outputs": [
    {
     "name": "stdout",
     "output_type": "stream",
     "text": [
      "I'm counting... Current number is : 0\n",
      "I'm counting... Current number is : 1\n",
      "I'm counting... Current number is : 2\n",
      "I'm counting... Current number is : 3\n",
      "I'm counting... Current number is : 4\n",
      "I'm counting... Current number is : 5\n",
      "I'm counting... Current number is : 6\n",
      "I'm counting... Current number is : 7\n",
      "I'm counting... Current number is : 8\n",
      "I'm counting... Current number is : 9\n",
      "Hey, I'm done!\n"
     ]
    }
   ],
   "source": [
    "count = 0\n",
    "\n",
    "while count < 10:\n",
    "    print(\"I'm counting... Current number is : \" + str(count) )\n",
    "    count += 1\n",
    "\n",
    "print(\"Hey, I'm done!\")\n",
    "\n",
    "count = 10\n",
    "\n",
    "while count > 1:\n",
    "    print(\"I'm counting... Current number is : \" + str(count) )\n",
    "    count -= 1\n",
    "\n",
    "print(\"Hey, I'm done!\")"
   ]
  },
  {
   "cell_type": "markdown",
   "id": "d6459e33-99ce-4d28-b520-5a542a26c4b7",
   "metadata": {},
   "source": [
    "# Collection based loops\n",
    "\n",
    "Allow us to execute a block of code for each value (data) inside a collection."
   ]
  },
  {
   "cell_type": "code",
   "execution_count": 12,
   "id": "b37929c5-6b09-47d5-bc87-866cc778d9d5",
   "metadata": {},
   "outputs": [
    {
     "name": "stdout",
     "output_type": "stream",
     "text": [
      "I'm counting... Current number is : 0\n",
      "I'm counting... Current number is : 1\n",
      "I'm counting... Current number is : 2\n",
      "I'm counting... Current number is : 3\n",
      "I'm counting... Current number is : 4\n",
      "I'm counting... Current number is : 5\n",
      "I'm counting... Current number is : 6\n",
      "I'm counting... Current number is : 7\n",
      "I'm counting... Current number is : 8\n",
      "I'm counting... Current number is : 9\n",
      "Hey, I'm done!\n"
     ]
    }
   ],
   "source": [
    "numbers = (0,1,2,3,4,5,6,7,8,9)\n",
    "\n",
    "for number in numbers:\n",
    "    print(\"I'm counting... Current number is : \" + str(number) )\n",
    "\n",
    "print(\"Hey, I'm done!\")"
   ]
  },
  {
   "cell_type": "code",
   "execution_count": 14,
   "id": "a930a314-84c3-44a8-86f6-927e97a48d33",
   "metadata": {},
   "outputs": [
    {
     "name": "stdout",
     "output_type": "stream",
     "text": [
      "I'm counting... Current number is : 1\n",
      "I'm counting... Current number is : 6\n",
      "I'm counting... Current number is : 11\n",
      "I'm counting... Current number is : 16\n",
      "I'm counting... Current number is : 21\n",
      "I'm counting... Current number is : 26\n",
      "I'm counting... Current number is : 31\n",
      "I'm counting... Current number is : 36\n",
      "I'm counting... Current number is : 41\n",
      "I'm counting... Current number is : 46\n",
      "I'm counting... Current number is : 51\n",
      "I'm counting... Current number is : 56\n",
      "I'm counting... Current number is : 61\n",
      "I'm counting... Current number is : 66\n",
      "I'm counting... Current number is : 71\n",
      "I'm counting... Current number is : 76\n",
      "I'm counting... Current number is : 81\n",
      "I'm counting... Current number is : 86\n",
      "I'm counting... Current number is : 91\n",
      "I'm counting... Current number is : 96\n",
      "I'm counting... Current number is : 101\n",
      "I'm counting... Current number is : 106\n",
      "I'm counting... Current number is : 111\n",
      "I'm counting... Current number is : 116\n",
      "I'm counting... Current number is : 121\n",
      "I'm counting... Current number is : 126\n",
      "I'm counting... Current number is : 131\n",
      "I'm counting... Current number is : 136\n",
      "I'm counting... Current number is : 141\n",
      "I'm counting... Current number is : 146\n",
      "I'm counting... Current number is : 151\n",
      "I'm counting... Current number is : 156\n",
      "I'm counting... Current number is : 161\n",
      "I'm counting... Current number is : 166\n",
      "I'm counting... Current number is : 171\n",
      "I'm counting... Current number is : 176\n",
      "I'm counting... Current number is : 181\n",
      "I'm counting... Current number is : 186\n",
      "I'm counting... Current number is : 191\n",
      "I'm counting... Current number is : 196\n",
      "Hey, I'm done!\n"
     ]
    }
   ],
   "source": [
    "for number in range(1,201, 5):\n",
    "    print(\"I'm counting... Current number is : \" + str(number) )\n",
    "\n",
    "print(\"Hey, I'm done!\")"
   ]
  },
  {
   "cell_type": "code",
   "execution_count": null,
   "id": "220c7902-7e74-4ca0-96a7-1f857d068c64",
   "metadata": {},
   "outputs": [],
   "source": []
  }
 ],
 "metadata": {
  "kernelspec": {
   "display_name": "Python 3 (ipykernel)",
   "language": "python",
   "name": "python3"
  },
  "language_info": {
   "codemirror_mode": {
    "name": "ipython",
    "version": 3
   },
   "file_extension": ".py",
   "mimetype": "text/x-python",
   "name": "python",
   "nbconvert_exporter": "python",
   "pygments_lexer": "ipython3",
   "version": "3.9.10"
  }
 },
 "nbformat": 4,
 "nbformat_minor": 5
}
