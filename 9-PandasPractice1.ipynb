{
 "cells": [
  {
   "cell_type": "code",
   "execution_count": 1,
   "id": "82e0e1ca-0cc5-4c8c-bdd4-3fae484c36ea",
   "metadata": {},
   "outputs": [
    {
     "data": {
      "text/html": [
       "<div>\n",
       "<style scoped>\n",
       "    .dataframe tbody tr th:only-of-type {\n",
       "        vertical-align: middle;\n",
       "    }\n",
       "\n",
       "    .dataframe tbody tr th {\n",
       "        vertical-align: top;\n",
       "    }\n",
       "\n",
       "    .dataframe thead th {\n",
       "        text-align: right;\n",
       "    }\n",
       "</style>\n",
       "<table border=\"1\" class=\"dataframe\">\n",
       "  <thead>\n",
       "    <tr style=\"text-align: right;\">\n",
       "      <th></th>\n",
       "      <th>AcresBurned</th>\n",
       "      <th>Active</th>\n",
       "      <th>AdminUnit</th>\n",
       "      <th>AirTankers</th>\n",
       "      <th>ArchiveYear</th>\n",
       "      <th>CalFireIncident</th>\n",
       "      <th>CanonicalUrl</th>\n",
       "      <th>ConditionStatement</th>\n",
       "      <th>ControlStatement</th>\n",
       "      <th>Counties</th>\n",
       "      <th>...</th>\n",
       "      <th>SearchKeywords</th>\n",
       "      <th>Started</th>\n",
       "      <th>Status</th>\n",
       "      <th>StructuresDamaged</th>\n",
       "      <th>StructuresDestroyed</th>\n",
       "      <th>StructuresEvacuated</th>\n",
       "      <th>StructuresThreatened</th>\n",
       "      <th>UniqueId</th>\n",
       "      <th>Updated</th>\n",
       "      <th>WaterTenders</th>\n",
       "    </tr>\n",
       "  </thead>\n",
       "  <tbody>\n",
       "    <tr>\n",
       "      <th>0</th>\n",
       "      <td>257314.0</td>\n",
       "      <td>False</td>\n",
       "      <td>Stanislaus National Forest/Yosemite National Park</td>\n",
       "      <td>NaN</td>\n",
       "      <td>2013</td>\n",
       "      <td>True</td>\n",
       "      <td>/incidents/2013/8/17/rim-fire/</td>\n",
       "      <td>NaN</td>\n",
       "      <td>NaN</td>\n",
       "      <td>Tuolumne</td>\n",
       "      <td>...</td>\n",
       "      <td>Rim Fire, Stanislaus National Forest, Yosemite...</td>\n",
       "      <td>2013-08-17T15:25:00Z</td>\n",
       "      <td>Finalized</td>\n",
       "      <td>NaN</td>\n",
       "      <td>NaN</td>\n",
       "      <td>NaN</td>\n",
       "      <td>NaN</td>\n",
       "      <td>5fb18d4d-213f-4d83-a179-daaf11939e78</td>\n",
       "      <td>2013-09-06T18:30:00Z</td>\n",
       "      <td>NaN</td>\n",
       "    </tr>\n",
       "    <tr>\n",
       "      <th>1</th>\n",
       "      <td>30274.0</td>\n",
       "      <td>False</td>\n",
       "      <td>USFS Angeles National Forest/Los Angeles Count...</td>\n",
       "      <td>NaN</td>\n",
       "      <td>2013</td>\n",
       "      <td>True</td>\n",
       "      <td>/incidents/2013/5/30/powerhouse-fire/</td>\n",
       "      <td>NaN</td>\n",
       "      <td>NaN</td>\n",
       "      <td>Los Angeles</td>\n",
       "      <td>...</td>\n",
       "      <td>Powerhouse Fire, May 2013, June 2013, Angeles ...</td>\n",
       "      <td>2013-05-30T15:28:00Z</td>\n",
       "      <td>Finalized</td>\n",
       "      <td>NaN</td>\n",
       "      <td>NaN</td>\n",
       "      <td>NaN</td>\n",
       "      <td>NaN</td>\n",
       "      <td>bf37805e-1cc2-4208-9972-753e47874c87</td>\n",
       "      <td>2013-06-08T18:30:00Z</td>\n",
       "      <td>NaN</td>\n",
       "    </tr>\n",
       "    <tr>\n",
       "      <th>2</th>\n",
       "      <td>27531.0</td>\n",
       "      <td>False</td>\n",
       "      <td>CAL FIRE Riverside Unit / San Bernardino Natio...</td>\n",
       "      <td>NaN</td>\n",
       "      <td>2013</td>\n",
       "      <td>True</td>\n",
       "      <td>/incidents/2013/7/15/mountain-fire/</td>\n",
       "      <td>NaN</td>\n",
       "      <td>NaN</td>\n",
       "      <td>Riverside</td>\n",
       "      <td>...</td>\n",
       "      <td>Mountain Fire, July 2013, Highway 243, Highway...</td>\n",
       "      <td>2013-07-15T13:43:00Z</td>\n",
       "      <td>Finalized</td>\n",
       "      <td>NaN</td>\n",
       "      <td>NaN</td>\n",
       "      <td>NaN</td>\n",
       "      <td>NaN</td>\n",
       "      <td>a3149fec-4d48-427c-8b2c-59e8b79d59db</td>\n",
       "      <td>2013-07-30T18:00:00Z</td>\n",
       "      <td>NaN</td>\n",
       "    </tr>\n",
       "    <tr>\n",
       "      <th>3</th>\n",
       "      <td>27440.0</td>\n",
       "      <td>False</td>\n",
       "      <td>Tahoe National Forest</td>\n",
       "      <td>NaN</td>\n",
       "      <td>2013</td>\n",
       "      <td>False</td>\n",
       "      <td>/incidents/2013/8/10/american-fire/</td>\n",
       "      <td>NaN</td>\n",
       "      <td>NaN</td>\n",
       "      <td>Placer</td>\n",
       "      <td>...</td>\n",
       "      <td>American Fire, August 2013, Deadwood Ridge, Fo...</td>\n",
       "      <td>2013-08-10T16:30:00Z</td>\n",
       "      <td>Finalized</td>\n",
       "      <td>NaN</td>\n",
       "      <td>NaN</td>\n",
       "      <td>NaN</td>\n",
       "      <td>NaN</td>\n",
       "      <td>8213f5c7-34fa-403b-a4bc-da2ace6e6625</td>\n",
       "      <td>2013-08-30T08:00:00Z</td>\n",
       "      <td>NaN</td>\n",
       "    </tr>\n",
       "    <tr>\n",
       "      <th>4</th>\n",
       "      <td>24251.0</td>\n",
       "      <td>False</td>\n",
       "      <td>Ventura County Fire/CAL FIRE</td>\n",
       "      <td>NaN</td>\n",
       "      <td>2013</td>\n",
       "      <td>True</td>\n",
       "      <td>/incidents/2013/5/2/springs-fire/</td>\n",
       "      <td>Acreage has been reduced based upon more accur...</td>\n",
       "      <td>NaN</td>\n",
       "      <td>Ventura</td>\n",
       "      <td>...</td>\n",
       "      <td>Springs Fire, May 2013, Highway 101, Camarillo...</td>\n",
       "      <td>2013-05-02T07:01:00Z</td>\n",
       "      <td>Finalized</td>\n",
       "      <td>6.0</td>\n",
       "      <td>10.0</td>\n",
       "      <td>NaN</td>\n",
       "      <td>NaN</td>\n",
       "      <td>46731fb8-3350-4920-bdf7-910ac0eb715c</td>\n",
       "      <td>2013-05-11T06:30:00Z</td>\n",
       "      <td>11.0</td>\n",
       "    </tr>\n",
       "    <tr>\n",
       "      <th>...</th>\n",
       "      <td>...</td>\n",
       "      <td>...</td>\n",
       "      <td>...</td>\n",
       "      <td>...</td>\n",
       "      <td>...</td>\n",
       "      <td>...</td>\n",
       "      <td>...</td>\n",
       "      <td>...</td>\n",
       "      <td>...</td>\n",
       "      <td>...</td>\n",
       "      <td>...</td>\n",
       "      <td>...</td>\n",
       "      <td>...</td>\n",
       "      <td>...</td>\n",
       "      <td>...</td>\n",
       "      <td>...</td>\n",
       "      <td>...</td>\n",
       "      <td>...</td>\n",
       "      <td>...</td>\n",
       "      <td>...</td>\n",
       "      <td>...</td>\n",
       "    </tr>\n",
       "    <tr>\n",
       "      <th>1631</th>\n",
       "      <td>9.0</td>\n",
       "      <td>False</td>\n",
       "      <td>CAL FIRE / Riverside County Fire</td>\n",
       "      <td>NaN</td>\n",
       "      <td>2019</td>\n",
       "      <td>True</td>\n",
       "      <td>/incidents/2019/10/10/eagle-fire/</td>\n",
       "      <td>NaN</td>\n",
       "      <td>NaN</td>\n",
       "      <td>Riverside</td>\n",
       "      <td>...</td>\n",
       "      <td>NaN</td>\n",
       "      <td>2019-10-10T12:08:00Z</td>\n",
       "      <td>Finalized</td>\n",
       "      <td>NaN</td>\n",
       "      <td>NaN</td>\n",
       "      <td>NaN</td>\n",
       "      <td>NaN</td>\n",
       "      <td>6e93b252-99a3-4214-9921-238373b17535</td>\n",
       "      <td>2019-10-10T18:11:59.733Z</td>\n",
       "      <td>NaN</td>\n",
       "    </tr>\n",
       "    <tr>\n",
       "      <th>1632</th>\n",
       "      <td>2.0</td>\n",
       "      <td>False</td>\n",
       "      <td>CAL FIRE Nevada-Yuba-Placer Unit</td>\n",
       "      <td>NaN</td>\n",
       "      <td>2019</td>\n",
       "      <td>True</td>\n",
       "      <td>/incidents/2019/6/28/long-fire/</td>\n",
       "      <td>NaN</td>\n",
       "      <td>NaN</td>\n",
       "      <td>Nevada</td>\n",
       "      <td>...</td>\n",
       "      <td>NaN</td>\n",
       "      <td>2019-06-28T15:03:04Z</td>\n",
       "      <td>Finalized</td>\n",
       "      <td>NaN</td>\n",
       "      <td>NaN</td>\n",
       "      <td>NaN</td>\n",
       "      <td>NaN</td>\n",
       "      <td>b38c0563-b321-431b-9174-6336c5a0d449</td>\n",
       "      <td>2019-06-30T15:52:01.023Z</td>\n",
       "      <td>NaN</td>\n",
       "    </tr>\n",
       "    <tr>\n",
       "      <th>1633</th>\n",
       "      <td>NaN</td>\n",
       "      <td>False</td>\n",
       "      <td>Yolo County Fire Protection District</td>\n",
       "      <td>NaN</td>\n",
       "      <td>2019</td>\n",
       "      <td>False</td>\n",
       "      <td>/incidents/2019/11/25/cashe-fire/</td>\n",
       "      <td>NaN</td>\n",
       "      <td>NaN</td>\n",
       "      <td>Yolo</td>\n",
       "      <td>...</td>\n",
       "      <td>NaN</td>\n",
       "      <td>2019-11-25T12:02:02Z</td>\n",
       "      <td>Finalized</td>\n",
       "      <td>NaN</td>\n",
       "      <td>NaN</td>\n",
       "      <td>NaN</td>\n",
       "      <td>NaN</td>\n",
       "      <td>9c26f915-1b33-422d-b30a-9eb4da6fd729</td>\n",
       "      <td>2019-12-03T16:35:20.93Z</td>\n",
       "      <td>NaN</td>\n",
       "    </tr>\n",
       "    <tr>\n",
       "      <th>1634</th>\n",
       "      <td>NaN</td>\n",
       "      <td>False</td>\n",
       "      <td>Camp Pendleton Marine Corps Base</td>\n",
       "      <td>NaN</td>\n",
       "      <td>2019</td>\n",
       "      <td>False</td>\n",
       "      <td>/incidents/2019/10/22/oak-fire/</td>\n",
       "      <td>NaN</td>\n",
       "      <td>NaN</td>\n",
       "      <td>San Diego</td>\n",
       "      <td>...</td>\n",
       "      <td>NaN</td>\n",
       "      <td>2019-10-22T19:20:44Z</td>\n",
       "      <td>Finalized</td>\n",
       "      <td>NaN</td>\n",
       "      <td>NaN</td>\n",
       "      <td>NaN</td>\n",
       "      <td>NaN</td>\n",
       "      <td>7264a106-e0f4-41de-8fd0-3f9110431e28</td>\n",
       "      <td>2019-11-21T12:21:28.58Z</td>\n",
       "      <td>NaN</td>\n",
       "    </tr>\n",
       "    <tr>\n",
       "      <th>1635</th>\n",
       "      <td>NaN</td>\n",
       "      <td>False</td>\n",
       "      <td>Bureau of Indian Affairs</td>\n",
       "      <td>NaN</td>\n",
       "      <td>2019</td>\n",
       "      <td>False</td>\n",
       "      <td>/incidents/2019/10/14/johnson-fire/</td>\n",
       "      <td>As of 10:00 p.m. on 10/16, the fire is 90% con...</td>\n",
       "      <td>NaN</td>\n",
       "      <td>Riverside</td>\n",
       "      <td>...</td>\n",
       "      <td>NaN</td>\n",
       "      <td>2019-10-14T15:32:20Z</td>\n",
       "      <td>Inactive</td>\n",
       "      <td>NaN</td>\n",
       "      <td>NaN</td>\n",
       "      <td>NaN</td>\n",
       "      <td>NaN</td>\n",
       "      <td>8bf75401-999f-42bd-8c0a-8db508591545</td>\n",
       "      <td>2019-10-30T10:14:19.58Z</td>\n",
       "      <td>NaN</td>\n",
       "    </tr>\n",
       "  </tbody>\n",
       "</table>\n",
       "<p>1636 rows × 40 columns</p>\n",
       "</div>"
      ],
      "text/plain": [
       "      AcresBurned  Active                                          AdminUnit  \\\n",
       "0        257314.0   False  Stanislaus National Forest/Yosemite National Park   \n",
       "1         30274.0   False  USFS Angeles National Forest/Los Angeles Count...   \n",
       "2         27531.0   False  CAL FIRE Riverside Unit / San Bernardino Natio...   \n",
       "3         27440.0   False                              Tahoe National Forest   \n",
       "4         24251.0   False                       Ventura County Fire/CAL FIRE   \n",
       "...           ...     ...                                                ...   \n",
       "1631          9.0   False                   CAL FIRE / Riverside County Fire   \n",
       "1632          2.0   False                  CAL FIRE Nevada-Yuba-Placer Unit    \n",
       "1633          NaN   False               Yolo County Fire Protection District   \n",
       "1634          NaN   False                   Camp Pendleton Marine Corps Base   \n",
       "1635          NaN   False                           Bureau of Indian Affairs   \n",
       "\n",
       "      AirTankers  ArchiveYear  CalFireIncident  \\\n",
       "0            NaN         2013             True   \n",
       "1            NaN         2013             True   \n",
       "2            NaN         2013             True   \n",
       "3            NaN         2013            False   \n",
       "4            NaN         2013             True   \n",
       "...          ...          ...              ...   \n",
       "1631         NaN         2019             True   \n",
       "1632         NaN         2019             True   \n",
       "1633         NaN         2019            False   \n",
       "1634         NaN         2019            False   \n",
       "1635         NaN         2019            False   \n",
       "\n",
       "                               CanonicalUrl  \\\n",
       "0            /incidents/2013/8/17/rim-fire/   \n",
       "1     /incidents/2013/5/30/powerhouse-fire/   \n",
       "2       /incidents/2013/7/15/mountain-fire/   \n",
       "3       /incidents/2013/8/10/american-fire/   \n",
       "4         /incidents/2013/5/2/springs-fire/   \n",
       "...                                     ...   \n",
       "1631      /incidents/2019/10/10/eagle-fire/   \n",
       "1632        /incidents/2019/6/28/long-fire/   \n",
       "1633      /incidents/2019/11/25/cashe-fire/   \n",
       "1634        /incidents/2019/10/22/oak-fire/   \n",
       "1635    /incidents/2019/10/14/johnson-fire/   \n",
       "\n",
       "                                     ConditionStatement ControlStatement  \\\n",
       "0                                                   NaN              NaN   \n",
       "1                                                   NaN              NaN   \n",
       "2                                                   NaN              NaN   \n",
       "3                                                   NaN              NaN   \n",
       "4     Acreage has been reduced based upon more accur...              NaN   \n",
       "...                                                 ...              ...   \n",
       "1631                                                NaN              NaN   \n",
       "1632                                                NaN              NaN   \n",
       "1633                                                NaN              NaN   \n",
       "1634                                                NaN              NaN   \n",
       "1635  As of 10:00 p.m. on 10/16, the fire is 90% con...              NaN   \n",
       "\n",
       "         Counties  ...                                     SearchKeywords  \\\n",
       "0        Tuolumne  ...  Rim Fire, Stanislaus National Forest, Yosemite...   \n",
       "1     Los Angeles  ...  Powerhouse Fire, May 2013, June 2013, Angeles ...   \n",
       "2       Riverside  ...  Mountain Fire, July 2013, Highway 243, Highway...   \n",
       "3          Placer  ...  American Fire, August 2013, Deadwood Ridge, Fo...   \n",
       "4         Ventura  ...  Springs Fire, May 2013, Highway 101, Camarillo...   \n",
       "...           ...  ...                                                ...   \n",
       "1631    Riverside  ...                                                NaN   \n",
       "1632       Nevada  ...                                                NaN   \n",
       "1633         Yolo  ...                                                NaN   \n",
       "1634    San Diego  ...                                                NaN   \n",
       "1635    Riverside  ...                                                NaN   \n",
       "\n",
       "                   Started     Status  StructuresDamaged StructuresDestroyed  \\\n",
       "0     2013-08-17T15:25:00Z  Finalized                NaN                 NaN   \n",
       "1     2013-05-30T15:28:00Z  Finalized                NaN                 NaN   \n",
       "2     2013-07-15T13:43:00Z  Finalized                NaN                 NaN   \n",
       "3     2013-08-10T16:30:00Z  Finalized                NaN                 NaN   \n",
       "4     2013-05-02T07:01:00Z  Finalized                6.0                10.0   \n",
       "...                    ...        ...                ...                 ...   \n",
       "1631  2019-10-10T12:08:00Z  Finalized                NaN                 NaN   \n",
       "1632  2019-06-28T15:03:04Z  Finalized                NaN                 NaN   \n",
       "1633  2019-11-25T12:02:02Z  Finalized                NaN                 NaN   \n",
       "1634  2019-10-22T19:20:44Z  Finalized                NaN                 NaN   \n",
       "1635  2019-10-14T15:32:20Z   Inactive                NaN                 NaN   \n",
       "\n",
       "      StructuresEvacuated  StructuresThreatened  \\\n",
       "0                     NaN                   NaN   \n",
       "1                     NaN                   NaN   \n",
       "2                     NaN                   NaN   \n",
       "3                     NaN                   NaN   \n",
       "4                     NaN                   NaN   \n",
       "...                   ...                   ...   \n",
       "1631                  NaN                   NaN   \n",
       "1632                  NaN                   NaN   \n",
       "1633                  NaN                   NaN   \n",
       "1634                  NaN                   NaN   \n",
       "1635                  NaN                   NaN   \n",
       "\n",
       "                                  UniqueId                   Updated  \\\n",
       "0     5fb18d4d-213f-4d83-a179-daaf11939e78      2013-09-06T18:30:00Z   \n",
       "1     bf37805e-1cc2-4208-9972-753e47874c87      2013-06-08T18:30:00Z   \n",
       "2     a3149fec-4d48-427c-8b2c-59e8b79d59db      2013-07-30T18:00:00Z   \n",
       "3     8213f5c7-34fa-403b-a4bc-da2ace6e6625      2013-08-30T08:00:00Z   \n",
       "4     46731fb8-3350-4920-bdf7-910ac0eb715c      2013-05-11T06:30:00Z   \n",
       "...                                    ...                       ...   \n",
       "1631  6e93b252-99a3-4214-9921-238373b17535  2019-10-10T18:11:59.733Z   \n",
       "1632  b38c0563-b321-431b-9174-6336c5a0d449  2019-06-30T15:52:01.023Z   \n",
       "1633  9c26f915-1b33-422d-b30a-9eb4da6fd729   2019-12-03T16:35:20.93Z   \n",
       "1634  7264a106-e0f4-41de-8fd0-3f9110431e28   2019-11-21T12:21:28.58Z   \n",
       "1635  8bf75401-999f-42bd-8c0a-8db508591545   2019-10-30T10:14:19.58Z   \n",
       "\n",
       "      WaterTenders  \n",
       "0              NaN  \n",
       "1              NaN  \n",
       "2              NaN  \n",
       "3              NaN  \n",
       "4             11.0  \n",
       "...            ...  \n",
       "1631           NaN  \n",
       "1632           NaN  \n",
       "1633           NaN  \n",
       "1634           NaN  \n",
       "1635           NaN  \n",
       "\n",
       "[1636 rows x 40 columns]"
      ]
     },
     "execution_count": 1,
     "metadata": {},
     "output_type": "execute_result"
    }
   ],
   "source": [
    "import pandas as pd\n",
    "\n",
    "incidents=pd.read_csv('California_Fire_Incidents.csv')\n",
    "incidents"
   ]
  },
  {
   "cell_type": "code",
   "execution_count": 3,
   "id": "32c254a9-5deb-43b6-9646-e906fb5a484b",
   "metadata": {},
   "outputs": [],
   "source": [
    "rows=incidents.shape[0]\n",
    "columns=incidents.shape[1]"
   ]
  },
  {
   "cell_type": "code",
   "execution_count": 4,
   "id": "4e742980-9e3b-4589-8a54-11d284c17b68",
   "metadata": {},
   "outputs": [
    {
     "data": {
      "text/plain": [
       "1636"
      ]
     },
     "execution_count": 4,
     "metadata": {},
     "output_type": "execute_result"
    }
   ],
   "source": [
    "rows"
   ]
  },
  {
   "cell_type": "code",
   "execution_count": 5,
   "id": "a020a7a0-3877-44b2-83c2-8d24825a3674",
   "metadata": {},
   "outputs": [
    {
     "data": {
      "text/plain": [
       "40"
      ]
     },
     "execution_count": 5,
     "metadata": {},
     "output_type": "execute_result"
    }
   ],
   "source": [
    "columns"
   ]
  },
  {
   "cell_type": "code",
   "execution_count": 6,
   "id": "67be0418-7da1-48bb-952c-400da56d7754",
   "metadata": {},
   "outputs": [
    {
     "data": {
      "text/plain": [
       "Index(['AcresBurned', 'Active', 'AdminUnit', 'AirTankers', 'ArchiveYear',\n",
       "       'CalFireIncident', 'CanonicalUrl', 'ConditionStatement',\n",
       "       'ControlStatement', 'Counties', 'CountyIds', 'CrewsInvolved', 'Dozers',\n",
       "       'Engines', 'Extinguished', 'Fatalities', 'Featured', 'Final',\n",
       "       'FuelType', 'Helicopters', 'Injuries', 'Latitude', 'Location',\n",
       "       'Longitude', 'MajorIncident', 'Name', 'PercentContained',\n",
       "       'PersonnelInvolved', 'Public', 'SearchDescription', 'SearchKeywords',\n",
       "       'Started', 'Status', 'StructuresDamaged', 'StructuresDestroyed',\n",
       "       'StructuresEvacuated', 'StructuresThreatened', 'UniqueId', 'Updated',\n",
       "       'WaterTenders'],\n",
       "      dtype='object')"
      ]
     },
     "execution_count": 6,
     "metadata": {},
     "output_type": "execute_result"
    }
   ],
   "source": [
    "incidents.columns"
   ]
  },
  {
   "cell_type": "code",
   "execution_count": 7,
   "id": "b0745bb1-9e89-4cbf-8787-91d5e8392a2b",
   "metadata": {},
   "outputs": [
    {
     "data": {
      "text/plain": [
       "AcresBurned             float64\n",
       "Active                     bool\n",
       "AdminUnit                object\n",
       "AirTankers              float64\n",
       "ArchiveYear               int64\n",
       "CalFireIncident            bool\n",
       "CanonicalUrl             object\n",
       "ConditionStatement       object\n",
       "ControlStatement         object\n",
       "Counties                 object\n",
       "CountyIds                object\n",
       "CrewsInvolved           float64\n",
       "Dozers                  float64\n",
       "Engines                 float64\n",
       "Extinguished             object\n",
       "Fatalities              float64\n",
       "Featured                   bool\n",
       "Final                      bool\n",
       "FuelType                 object\n",
       "Helicopters             float64\n",
       "Injuries                float64\n",
       "Latitude                float64\n",
       "Location                 object\n",
       "Longitude               float64\n",
       "MajorIncident              bool\n",
       "Name                     object\n",
       "PercentContained        float64\n",
       "PersonnelInvolved       float64\n",
       "Public                     bool\n",
       "SearchDescription        object\n",
       "SearchKeywords           object\n",
       "Started                  object\n",
       "Status                   object\n",
       "StructuresDamaged       float64\n",
       "StructuresDestroyed     float64\n",
       "StructuresEvacuated     float64\n",
       "StructuresThreatened    float64\n",
       "UniqueId                 object\n",
       "Updated                  object\n",
       "WaterTenders            float64\n",
       "dtype: object"
      ]
     },
     "execution_count": 7,
     "metadata": {},
     "output_type": "execute_result"
    }
   ],
   "source": [
    "incidents.dtypes"
   ]
  },
  {
   "cell_type": "code",
   "execution_count": 8,
   "id": "7294eae9-f52c-487e-8312-e462aa7bf40f",
   "metadata": {},
   "outputs": [
    {
     "data": {
      "text/html": [
       "<div>\n",
       "<style scoped>\n",
       "    .dataframe tbody tr th:only-of-type {\n",
       "        vertical-align: middle;\n",
       "    }\n",
       "\n",
       "    .dataframe tbody tr th {\n",
       "        vertical-align: top;\n",
       "    }\n",
       "\n",
       "    .dataframe thead th {\n",
       "        text-align: right;\n",
       "    }\n",
       "</style>\n",
       "<table border=\"1\" class=\"dataframe\">\n",
       "  <thead>\n",
       "    <tr style=\"text-align: right;\">\n",
       "      <th></th>\n",
       "      <th>AcresBurned</th>\n",
       "      <th>Active</th>\n",
       "      <th>AdminUnit</th>\n",
       "      <th>AirTankers</th>\n",
       "      <th>ArchiveYear</th>\n",
       "      <th>CalFireIncident</th>\n",
       "      <th>CanonicalUrl</th>\n",
       "      <th>ConditionStatement</th>\n",
       "      <th>ControlStatement</th>\n",
       "      <th>Counties</th>\n",
       "      <th>...</th>\n",
       "      <th>SearchKeywords</th>\n",
       "      <th>Started</th>\n",
       "      <th>Status</th>\n",
       "      <th>StructuresDamaged</th>\n",
       "      <th>StructuresDestroyed</th>\n",
       "      <th>StructuresEvacuated</th>\n",
       "      <th>StructuresThreatened</th>\n",
       "      <th>UniqueId</th>\n",
       "      <th>Updated</th>\n",
       "      <th>WaterTenders</th>\n",
       "    </tr>\n",
       "  </thead>\n",
       "  <tbody>\n",
       "    <tr>\n",
       "      <th>0</th>\n",
       "      <td>257314.0</td>\n",
       "      <td>False</td>\n",
       "      <td>Stanislaus National Forest/Yosemite National Park</td>\n",
       "      <td>NaN</td>\n",
       "      <td>2013</td>\n",
       "      <td>True</td>\n",
       "      <td>/incidents/2013/8/17/rim-fire/</td>\n",
       "      <td>NaN</td>\n",
       "      <td>NaN</td>\n",
       "      <td>Tuolumne</td>\n",
       "      <td>...</td>\n",
       "      <td>Rim Fire, Stanislaus National Forest, Yosemite...</td>\n",
       "      <td>2013-08-17T15:25:00Z</td>\n",
       "      <td>Finalized</td>\n",
       "      <td>NaN</td>\n",
       "      <td>NaN</td>\n",
       "      <td>NaN</td>\n",
       "      <td>NaN</td>\n",
       "      <td>5fb18d4d-213f-4d83-a179-daaf11939e78</td>\n",
       "      <td>2013-09-06T18:30:00Z</td>\n",
       "      <td>NaN</td>\n",
       "    </tr>\n",
       "    <tr>\n",
       "      <th>1</th>\n",
       "      <td>30274.0</td>\n",
       "      <td>False</td>\n",
       "      <td>USFS Angeles National Forest/Los Angeles Count...</td>\n",
       "      <td>NaN</td>\n",
       "      <td>2013</td>\n",
       "      <td>True</td>\n",
       "      <td>/incidents/2013/5/30/powerhouse-fire/</td>\n",
       "      <td>NaN</td>\n",
       "      <td>NaN</td>\n",
       "      <td>Los Angeles</td>\n",
       "      <td>...</td>\n",
       "      <td>Powerhouse Fire, May 2013, June 2013, Angeles ...</td>\n",
       "      <td>2013-05-30T15:28:00Z</td>\n",
       "      <td>Finalized</td>\n",
       "      <td>NaN</td>\n",
       "      <td>NaN</td>\n",
       "      <td>NaN</td>\n",
       "      <td>NaN</td>\n",
       "      <td>bf37805e-1cc2-4208-9972-753e47874c87</td>\n",
       "      <td>2013-06-08T18:30:00Z</td>\n",
       "      <td>NaN</td>\n",
       "    </tr>\n",
       "    <tr>\n",
       "      <th>2</th>\n",
       "      <td>27531.0</td>\n",
       "      <td>False</td>\n",
       "      <td>CAL FIRE Riverside Unit / San Bernardino Natio...</td>\n",
       "      <td>NaN</td>\n",
       "      <td>2013</td>\n",
       "      <td>True</td>\n",
       "      <td>/incidents/2013/7/15/mountain-fire/</td>\n",
       "      <td>NaN</td>\n",
       "      <td>NaN</td>\n",
       "      <td>Riverside</td>\n",
       "      <td>...</td>\n",
       "      <td>Mountain Fire, July 2013, Highway 243, Highway...</td>\n",
       "      <td>2013-07-15T13:43:00Z</td>\n",
       "      <td>Finalized</td>\n",
       "      <td>NaN</td>\n",
       "      <td>NaN</td>\n",
       "      <td>NaN</td>\n",
       "      <td>NaN</td>\n",
       "      <td>a3149fec-4d48-427c-8b2c-59e8b79d59db</td>\n",
       "      <td>2013-07-30T18:00:00Z</td>\n",
       "      <td>NaN</td>\n",
       "    </tr>\n",
       "  </tbody>\n",
       "</table>\n",
       "<p>3 rows × 40 columns</p>\n",
       "</div>"
      ],
      "text/plain": [
       "   AcresBurned  Active                                          AdminUnit  \\\n",
       "0     257314.0   False  Stanislaus National Forest/Yosemite National Park   \n",
       "1      30274.0   False  USFS Angeles National Forest/Los Angeles Count...   \n",
       "2      27531.0   False  CAL FIRE Riverside Unit / San Bernardino Natio...   \n",
       "\n",
       "   AirTankers  ArchiveYear  CalFireIncident  \\\n",
       "0         NaN         2013             True   \n",
       "1         NaN         2013             True   \n",
       "2         NaN         2013             True   \n",
       "\n",
       "                            CanonicalUrl ConditionStatement ControlStatement  \\\n",
       "0         /incidents/2013/8/17/rim-fire/                NaN              NaN   \n",
       "1  /incidents/2013/5/30/powerhouse-fire/                NaN              NaN   \n",
       "2    /incidents/2013/7/15/mountain-fire/                NaN              NaN   \n",
       "\n",
       "      Counties  ...                                     SearchKeywords  \\\n",
       "0     Tuolumne  ...  Rim Fire, Stanislaus National Forest, Yosemite...   \n",
       "1  Los Angeles  ...  Powerhouse Fire, May 2013, June 2013, Angeles ...   \n",
       "2    Riverside  ...  Mountain Fire, July 2013, Highway 243, Highway...   \n",
       "\n",
       "                Started     Status  StructuresDamaged StructuresDestroyed  \\\n",
       "0  2013-08-17T15:25:00Z  Finalized                NaN                 NaN   \n",
       "1  2013-05-30T15:28:00Z  Finalized                NaN                 NaN   \n",
       "2  2013-07-15T13:43:00Z  Finalized                NaN                 NaN   \n",
       "\n",
       "   StructuresEvacuated  StructuresThreatened  \\\n",
       "0                  NaN                   NaN   \n",
       "1                  NaN                   NaN   \n",
       "2                  NaN                   NaN   \n",
       "\n",
       "                               UniqueId               Updated  WaterTenders  \n",
       "0  5fb18d4d-213f-4d83-a179-daaf11939e78  2013-09-06T18:30:00Z           NaN  \n",
       "1  bf37805e-1cc2-4208-9972-753e47874c87  2013-06-08T18:30:00Z           NaN  \n",
       "2  a3149fec-4d48-427c-8b2c-59e8b79d59db  2013-07-30T18:00:00Z           NaN  \n",
       "\n",
       "[3 rows x 40 columns]"
      ]
     },
     "execution_count": 8,
     "metadata": {},
     "output_type": "execute_result"
    }
   ],
   "source": [
    "incidents.head(3)"
   ]
  },
  {
   "cell_type": "code",
   "execution_count": 12,
   "id": "b9ba9ac3-2a5a-4540-8b96-51efd0a8ce7e",
   "metadata": {},
   "outputs": [
    {
     "data": {
      "text/plain": [
       "3"
      ]
     },
     "execution_count": 12,
     "metadata": {},
     "output_type": "execute_result"
    }
   ],
   "source": [
    "## How many rows have no information about AcresBurned\n",
    "\n",
    "incidents[ incidents['AcresBurned'].isna() ].shape[0]"
   ]
  },
  {
   "cell_type": "code",
   "execution_count": 16,
   "id": "0c54598f-55c2-4bac-ab79-28bfc726cace",
   "metadata": {},
   "outputs": [
    {
     "data": {
      "text/plain": [
       "3"
      ]
     },
     "execution_count": 16,
     "metadata": {},
     "output_type": "execute_result"
    }
   ],
   "source": [
    "incidents['AcresBurned'].isna().sum()"
   ]
  },
  {
   "cell_type": "code",
   "execution_count": 19,
   "id": "7b4d4b1f-d31f-4632-86b5-40dc486382d4",
   "metadata": {},
   "outputs": [
    {
     "data": {
      "text/plain": [
       "True     1633\n",
       "False       3\n",
       "Name: AcresBurned, dtype: int64"
      ]
     },
     "execution_count": 19,
     "metadata": {},
     "output_type": "execute_result"
    }
   ],
   "source": [
    "incidents['AcresBurned'].notna().value_counts()"
   ]
  },
  {
   "cell_type": "code",
   "execution_count": 24,
   "id": "b45646e5-9cd1-46ec-9186-aa01e3fec514",
   "metadata": {},
   "outputs": [
    {
     "name": "stdout",
     "output_type": "stream",
     "text": [
      "True     1633\n",
      "False       3\n",
      "Name: AcresBurned, dtype: int64\n",
      "True    1636\n",
      "Name: Active, dtype: int64\n",
      "True    1636\n",
      "Name: AdminUnit, dtype: int64\n",
      "False    1608\n",
      "True       28\n",
      "Name: AirTankers, dtype: int64\n",
      "True    1636\n",
      "Name: ArchiveYear, dtype: int64\n",
      "True    1636\n",
      "Name: CalFireIncident, dtype: int64\n",
      "True    1636\n",
      "Name: CanonicalUrl, dtype: int64\n",
      "False    1352\n",
      "True      284\n",
      "Name: ConditionStatement, dtype: int64\n",
      "False    1525\n",
      "True      111\n",
      "Name: ControlStatement, dtype: int64\n",
      "True    1636\n",
      "Name: Counties, dtype: int64\n",
      "True    1636\n",
      "Name: CountyIds, dtype: int64\n",
      "False    1465\n",
      "True      171\n",
      "Name: CrewsInvolved, dtype: int64\n",
      "False    1513\n",
      "True      123\n",
      "Name: Dozers, dtype: int64\n",
      "False    1445\n",
      "True      191\n",
      "Name: Engines, dtype: int64\n",
      "True     1577\n",
      "False      59\n",
      "Name: Extinguished, dtype: int64\n",
      "False    1615\n",
      "True       21\n",
      "Name: Fatalities, dtype: int64\n",
      "True    1636\n",
      "Name: Featured, dtype: int64\n",
      "True    1636\n",
      "Name: Final, dtype: int64\n",
      "False    1624\n",
      "True       12\n",
      "Name: FuelType, dtype: int64\n",
      "False    1552\n",
      "True       84\n",
      "Name: Helicopters, dtype: int64\n",
      "False    1516\n",
      "True      120\n",
      "Name: Injuries, dtype: int64\n",
      "True    1636\n",
      "Name: Latitude, dtype: int64\n",
      "True    1636\n",
      "Name: Location, dtype: int64\n",
      "True    1636\n",
      "Name: Longitude, dtype: int64\n",
      "True    1636\n",
      "Name: MajorIncident, dtype: int64\n",
      "True    1636\n",
      "Name: Name, dtype: int64\n",
      "True     1633\n",
      "False       3\n",
      "Name: PercentContained, dtype: int64\n",
      "False    1432\n",
      "True      204\n",
      "Name: PersonnelInvolved, dtype: int64\n",
      "True    1636\n",
      "Name: Public, dtype: int64\n",
      "True     1619\n",
      "False      17\n",
      "Name: SearchDescription, dtype: int64\n",
      "True     1433\n",
      "False     203\n",
      "Name: SearchKeywords, dtype: int64\n",
      "True    1636\n",
      "Name: Started, dtype: int64\n",
      "True    1636\n",
      "Name: Status, dtype: int64\n",
      "False    1569\n",
      "True       67\n",
      "Name: StructuresDamaged, dtype: int64\n",
      "False    1461\n",
      "True      175\n",
      "Name: StructuresDestroyed, dtype: int64\n",
      "False    1636\n",
      "Name: StructuresEvacuated, dtype: int64\n",
      "False    1606\n",
      "True       30\n",
      "Name: StructuresThreatened, dtype: int64\n",
      "True    1636\n",
      "Name: UniqueId, dtype: int64\n",
      "True    1636\n",
      "Name: Updated, dtype: int64\n",
      "False    1490\n",
      "True      146\n",
      "Name: WaterTenders, dtype: int64\n"
     ]
    }
   ],
   "source": [
    "for each_column in incidents.columns:\n",
    "    print(incidents[each_column].notna().value_counts())"
   ]
  },
  {
   "cell_type": "code",
   "execution_count": 23,
   "id": "e8cffcda-a049-47f8-96be-e81247fb38ec",
   "metadata": {},
   "outputs": [
    {
     "data": {
      "text/plain": [
       "Index(['AcresBurned', 'Active', 'AdminUnit', 'AirTankers', 'ArchiveYear',\n",
       "       'CalFireIncident', 'CanonicalUrl', 'ConditionStatement',\n",
       "       'ControlStatement', 'Counties', 'CountyIds', 'CrewsInvolved', 'Dozers',\n",
       "       'Engines', 'Extinguished', 'Fatalities', 'Featured', 'Final',\n",
       "       'FuelType', 'Helicopters', 'Injuries', 'Latitude', 'Location',\n",
       "       'Longitude', 'MajorIncident', 'Name', 'PercentContained',\n",
       "       'PersonnelInvolved', 'Public', 'SearchDescription', 'SearchKeywords',\n",
       "       'Started', 'Status', 'StructuresDamaged', 'StructuresDestroyed',\n",
       "       'StructuresEvacuated', 'StructuresThreatened', 'UniqueId', 'Updated',\n",
       "       'WaterTenders'],\n",
       "      dtype='object')"
      ]
     },
     "execution_count": 23,
     "metadata": {},
     "output_type": "execute_result"
    }
   ],
   "source": [
    "incidents.columns"
   ]
  },
  {
   "cell_type": "code",
   "execution_count": 25,
   "id": "1c77e66b-252d-4ca3-8959-50c827db29c1",
   "metadata": {},
   "outputs": [
    {
     "data": {
      "text/plain": [
       "False    1636\n",
       "Name: Active, dtype: int64"
      ]
     },
     "execution_count": 25,
     "metadata": {},
     "output_type": "execute_result"
    }
   ],
   "source": [
    "# How many active fires?\n",
    "\n",
    "incidents['Active'].value_counts()"
   ]
  },
  {
   "cell_type": "code",
   "execution_count": 30,
   "id": "3e38fb36-1c06-443c-9991-b630e3202993",
   "metadata": {},
   "outputs": [
    {
     "data": {
      "text/plain": [
       "False    1557\n",
       "True       79\n",
       "Name: Helicopters, dtype: int64"
      ]
     },
     "execution_count": 30,
     "metadata": {},
     "output_type": "execute_result"
    }
   ],
   "source": [
    "# How many fires did require the use of a helicopter?\n",
    "(incidents['Helicopters'] > 0).value_counts()"
   ]
  },
  {
   "cell_type": "code",
   "execution_count": 31,
   "id": "ea0b8dd8-8997-4459-81e5-ec4606dc5fe0",
   "metadata": {},
   "outputs": [
    {
     "data": {
      "text/plain": [
       "450.0"
      ]
     },
     "execution_count": 31,
     "metadata": {},
     "output_type": "execute_result"
    }
   ],
   "source": [
    "# How many times did a helicopter was used?\n",
    "incidents['Helicopters'].sum()"
   ]
  },
  {
   "cell_type": "code",
   "execution_count": 32,
   "id": "e64ba065-65b4-465a-b354-b92bf634aebe",
   "metadata": {},
   "outputs": [
    {
     "data": {
      "text/plain": [
       "array([       nan, 1.0000e+01, 4.0000e+01, 2.0100e+02, 1.4900e+02,\n",
       "       1.0000e+00, 7.0000e+00, 0.0000e+00, 4.0000e+00, 9.0000e+00,\n",
       "       8.0000e+01, 2.1000e+01, 6.0000e+00, 2.0000e+01, 6.7000e+01,\n",
       "       3.0000e+00, 4.7000e+01, 1.6500e+02, 1.1000e+01, 6.9000e+01,\n",
       "       9.6000e+01, 2.7000e+01, 6.8000e+01, 2.0000e+00, 2.3000e+01,\n",
       "       1.6000e+01, 5.0000e+00, 7.0000e+01, 3.2100e+02, 2.8000e+01,\n",
       "       3.0000e+02, 1.0630e+03, 1.3100e+02, 1.3550e+03, 1.2000e+02,\n",
       "       5.6360e+03, 5.4600e+02, 3.7000e+01, 2.6400e+02, 2.5000e+01,\n",
       "       7.4000e+01, 4.1000e+01, 1.5700e+02, 5.4000e+01, 1.6200e+02,\n",
       "       4.8000e+01, 1.3000e+01, 2.4600e+02, 1.6140e+03, 1.8804e+04,\n",
       "       1.6430e+03, 2.9000e+01, 4.2000e+01, 3.5000e+01, 8.3000e+01,\n",
       "       2.4000e+01, 2.2000e+01, 1.2000e+01, 8.0000e+00, 3.7400e+02,\n",
       "       1.9000e+01, 1.4000e+01])"
      ]
     },
     "execution_count": 32,
     "metadata": {},
     "output_type": "execute_result"
    }
   ],
   "source": [
    "# How many different values do we have in this StructuresDestroyed column:\n",
    "\n",
    "incidents['StructuresDestroyed'].unique()"
   ]
  },
  {
   "cell_type": "code",
   "execution_count": 38,
   "id": "49ef633c-db5f-418f-8e86-513d461cdf28",
   "metadata": {},
   "outputs": [],
   "source": [
    "# 1.3100e+02 < 1.31 x 10^2 = 131\n",
    "\n",
    "incidents['StructuresDestroyed']=incidents['StructuresDestroyed'].fillna(-1).apply(lambda number: int(number))"
   ]
  },
  {
   "cell_type": "code",
   "execution_count": 39,
   "id": "7f3c7fdf-c27b-4c49-bc2c-5b7ab450ea82",
   "metadata": {},
   "outputs": [
    {
     "data": {
      "text/plain": [
       "0       -1\n",
       "1       -1\n",
       "2       -1\n",
       "3       -1\n",
       "4       10\n",
       "        ..\n",
       "1631    -1\n",
       "1632    -1\n",
       "1633    -1\n",
       "1634    -1\n",
       "1635    -1\n",
       "Name: StructuresDestroyed, Length: 1636, dtype: int64"
      ]
     },
     "execution_count": 39,
     "metadata": {},
     "output_type": "execute_result"
    }
   ],
   "source": [
    "incidents['StructuresDestroyed']"
   ]
  },
  {
   "cell_type": "code",
   "execution_count": 40,
   "id": "053421cd-19a5-4b18-8b34-c5335f308e5a",
   "metadata": {},
   "outputs": [
    {
     "data": {
      "text/plain": [
       "array([   -1,    10,    40,   201,   149,     1,     7,     0,     4,\n",
       "           9,    80,    21,     6,    20,    67,     3,    47,   165,\n",
       "          11,    69,    96,    27,    68,     2,    23,    16,     5,\n",
       "          70,   321,    28,   300,  1063,   131,  1355,   120,  5636,\n",
       "         546,    37,   264,    25,    74,    41,   157,    54,   162,\n",
       "          48,    13,   246,  1614, 18804,  1643,    29,    42,    35,\n",
       "          83,    24,    22,    12,     8,   374,    19,    14])"
      ]
     },
     "execution_count": 40,
     "metadata": {},
     "output_type": "execute_result"
    }
   ],
   "source": [
    "incidents['StructuresDestroyed'].unique()"
   ]
  },
  {
   "cell_type": "code",
   "execution_count": 41,
   "id": "0187cfce-79e1-4e68-a2f9-dc9a753e0b7c",
   "metadata": {},
   "outputs": [
    {
     "data": {
      "text/plain": [
       "0       Unknown\n",
       "1       Unknown\n",
       "2       Unknown\n",
       "3       Unknown\n",
       "4         Small\n",
       "         ...   \n",
       "1631    Unknown\n",
       "1632    Unknown\n",
       "1633    Unknown\n",
       "1634    Unknown\n",
       "1635    Unknown\n",
       "Name: StructuresDestroyed, Length: 1636, dtype: object"
      ]
     },
     "execution_count": 41,
     "metadata": {},
     "output_type": "execute_result"
    }
   ],
   "source": [
    "# Type of fire:\n",
    "# 10 or less structures were destroyed --- small fire\n",
    "# 11-50 structures were destroyed --- medium fire\n",
    "# 51-500 structures were destroyed --- important incident\n",
    "# +501 structures were destroyed --- really important incident\n",
    "# We want a new column, called: typeOfFire\n",
    "\n",
    "# Whenever you want to calculate or transform data (columns) we could use this apply function\n",
    "\n",
    "def categorizeFires (numberOfStructuresDestroyed):\n",
    "    typeOfFire=\"Unknown\"\n",
    "    if numberOfStructuresDestroyed > 500:\n",
    "        typeOfFire=\"Really important\"\n",
    "    elif numberOfStructuresDestroyed > 50:\n",
    "        typeOfFire=\"Important\"\n",
    "    elif numberOfStructuresDestroyed > 10:\n",
    "        typeOfFire=\"Medium\"\n",
    "    elif numberOfStructuresDestroyed >= 0:\n",
    "        typeOfFire=\"Small\"\n",
    "    return typeOfFire\n",
    "    \n",
    "\n",
    "incidents['StructuresDestroyed'].apply(categorizeFires)"
   ]
  },
  {
   "cell_type": "code",
   "execution_count": 49,
   "id": "8a01cf11-869f-4ab2-b56c-9eba894b479d",
   "metadata": {},
   "outputs": [],
   "source": [
    "incidents['TypeOfFire']=incidents['StructuresDestroyed'].apply(categorizeFires)\n",
    "#incidents.tail(10)"
   ]
  },
  {
   "cell_type": "code",
   "execution_count": 45,
   "id": "6182e506-780e-4210-b113-a446cec090a3",
   "metadata": {},
   "outputs": [
    {
     "data": {
      "text/plain": [
       "Unknown             1461\n",
       "Small                 98\n",
       "Medium                38\n",
       "Important             27\n",
       "Really important      12\n",
       "Name: TypeOfFire, dtype: int64"
      ]
     },
     "execution_count": 45,
     "metadata": {},
     "output_type": "execute_result"
    }
   ],
   "source": [
    "incidents['TypeOfFire'].value_counts()"
   ]
  },
  {
   "cell_type": "code",
   "execution_count": 47,
   "id": "7055974f-1153-43ac-ab62-035f5a8bbc96",
   "metadata": {},
   "outputs": [],
   "source": [
    "incidents['TypeOfFire2']=pd.cut(    \n",
    "           incidents['StructuresDestroyed'].fillna(-1), \n",
    "           (-2,-1,10,50,500,999999), \n",
    "           labels=['Unknown','small','medium','important','really important']\n",
    "      )"
   ]
  },
  {
   "cell_type": "code",
   "execution_count": 48,
   "id": "593fe6ac-89a3-45c5-bedc-690581e349d1",
   "metadata": {},
   "outputs": [
    {
     "data": {
      "text/plain": [
       "Unknown             1461\n",
       "small                 98\n",
       "medium                38\n",
       "important             27\n",
       "really important      12\n",
       "Name: TypeOfFire2, dtype: int64"
      ]
     },
     "execution_count": 48,
     "metadata": {},
     "output_type": "execute_result"
    }
   ],
   "source": [
    "incidents['TypeOfFire2'].value_counts()"
   ]
  },
  {
   "cell_type": "code",
   "execution_count": 51,
   "id": "ba8f3721-fce5-4c51-a85b-3f86cb513e2b",
   "metadata": {},
   "outputs": [
    {
     "data": {
      "text/plain": [
       "TypeOfFire\n",
       "Important            18.0\n",
       "Medium               81.0\n",
       "Really important      2.0\n",
       "Small               132.0\n",
       "Unknown             217.0\n",
       "Name: Helicopters, dtype: float64"
      ]
     },
     "execution_count": 51,
     "metadata": {},
     "output_type": "execute_result"
    }
   ],
   "source": [
    "# What do you think about the amount of helicopters that were used in really important incidents?\n",
    "\n",
    "# how many helicopters were used in each kind of fire?\n",
    "\n",
    "incidents.groupby('TypeOfFire')['Helicopters'].sum()\n"
   ]
  },
  {
   "cell_type": "code",
   "execution_count": 55,
   "id": "eca30666-e30c-4d9f-a05c-1523f929cc60",
   "metadata": {},
   "outputs": [
    {
     "data": {
      "text/plain": [
       "4       Acreage has been reduced based upon more accur...\n",
       "6       Firefighters closed the containment lines toda...\n",
       "9       Fire suppression repair will continue througho...\n",
       "10      California Incident Management Team 5 will tra...\n",
       "12      Firefighters continue to mop up within the fir...\n",
       "                              ...                        \n",
       "1609                            Forward progress stopped.\n",
       "1612                               Forward spread stopped\n",
       "1615    Forward rate of spread has been stopped. CAL F...\n",
       "1626    <p>Great response by fire crews. Forward progr...\n",
       "1635    As of 10:00 p.m. on 10/16, the fire is 90% con...\n",
       "Name: ConditionStatement, Length: 284, dtype: object"
      ]
     },
     "execution_count": 55,
     "metadata": {},
     "output_type": "execute_result"
    }
   ],
   "source": [
    "incidents['ConditionStatement'].dropna()"
   ]
  },
  {
   "cell_type": "code",
   "execution_count": null,
   "id": "0bafbffe-ac78-4019-9af3-be2a91ab6777",
   "metadata": {},
   "outputs": [],
   "source": [
    "Acreage has been reduced based upon more accurate mapping. \\r\\r\\n<p>Continue to mop up in areas \n",
    "very visible to public. Continue demobilization, fire damage inspections, and suppression repair. \n",
    "<p>\\r\\r\\n                                     \\r\\r\\n \\r\\r\\n\\r\\r\\n\\r\\r\\n\\r\\r\\n\n",
    "Firefighters closed the containment lines today. Large scale demobilization of \n",
    "incident resources continues.\\r\\r\\nCommand of the incident will be turned over to Riverside \n",
    "County effective Tuesday August 8th. Silent Valley RV Club remains\\r\\r\\nclosed. For questions \n",
    "regarding the closure, please the Silent Valley RV Club.\n",
    "\n",
    "We want to remove the tags... whatever is inside this tokens: <...>\n",
    "We want to remove whitespaces: \\n \\r '       '"
   ]
  }
 ],
 "metadata": {
  "kernelspec": {
   "display_name": "Python 3 (ipykernel)",
   "language": "python",
   "name": "python3"
  },
  "language_info": {
   "codemirror_mode": {
    "name": "ipython",
    "version": 3
   },
   "file_extension": ".py",
   "mimetype": "text/x-python",
   "name": "python",
   "nbconvert_exporter": "python",
   "pygments_lexer": "ipython3",
   "version": "3.9.10"
  }
 },
 "nbformat": 4,
 "nbformat_minor": 5
}
