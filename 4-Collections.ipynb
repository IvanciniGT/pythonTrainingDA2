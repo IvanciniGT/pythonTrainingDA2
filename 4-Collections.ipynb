{
 "cells": [
  {
   "cell_type": "markdown",
   "id": "e1663b95-eda4-4807-8119-534426e2f5bd",
   "metadata": {},
   "source": [
    "# Tuples\n",
    "\n",
    "A tuple is an ordered sequence of items.\n",
    "\n",
    "Each item is identified by its position inside the tuple."
   ]
  },
  {
   "cell_type": "code",
   "execution_count": 1,
   "id": "f149aee2-22a5-4f15-8103-8609a1933fb0",
   "metadata": {},
   "outputs": [
    {
     "name": "stdout",
     "output_type": "stream",
     "text": [
      "(1, 3, 5, 7, 9, 8, 6, 4, 2)\n"
     ]
    }
   ],
   "source": [
    "my_tuple = ( 1, 3, 5, 7, 9, 8, 6, 4, 2 )  # Items.. values\n",
    "# Positions  0. 1. 2. 3  4. 5  6. 7. 8\n",
    "print(my_tuple)"
   ]
  },
  {
   "cell_type": "code",
   "execution_count": 2,
   "id": "53d10391-60ce-4b5d-9622-4bf023b9aa06",
   "metadata": {},
   "outputs": [
    {
     "data": {
      "text/plain": [
       "3"
      ]
     },
     "execution_count": 2,
     "metadata": {},
     "output_type": "execute_result"
    }
   ],
   "source": [
    "# my_tuple[ <INDEX> ]\n",
    "my_tuple[1]"
   ]
  },
  {
   "cell_type": "code",
   "execution_count": 3,
   "id": "71a5528f-0854-4dc2-97b9-20cada47f549",
   "metadata": {},
   "outputs": [
    {
     "data": {
      "text/plain": [
       "9"
      ]
     },
     "execution_count": 3,
     "metadata": {},
     "output_type": "execute_result"
    }
   ],
   "source": [
    "# Special functions to deal with tuples\n",
    "\n",
    "## len <<<<< length: Returns the number of items in my tuple\n",
    "\n",
    "len(my_tuple) # We have 9 items in this tuple"
   ]
  },
  {
   "cell_type": "code",
   "execution_count": 4,
   "id": "5f083105-3508-41fb-92e1-582db147b48d",
   "metadata": {},
   "outputs": [
    {
     "data": {
      "text/plain": [
       "2"
      ]
     },
     "execution_count": 4,
     "metadata": {},
     "output_type": "execute_result"
    }
   ],
   "source": [
    "# I want to access the very last item within my tuple.\n",
    "\n",
    "my_tuple[8]"
   ]
  },
  {
   "cell_type": "code",
   "execution_count": 5,
   "id": "853afbab-b220-49e5-8cb7-c1a6e325e3ed",
   "metadata": {},
   "outputs": [
    {
     "data": {
      "text/plain": [
       "2"
      ]
     },
     "execution_count": 5,
     "metadata": {},
     "output_type": "execute_result"
    }
   ],
   "source": [
    "my_tuple[ len(my_tuple) - 1 ]"
   ]
  },
  {
   "cell_type": "code",
   "execution_count": 6,
   "id": "41ddb5c2-ce4a-47f0-879e-3374b69667a3",
   "metadata": {},
   "outputs": [
    {
     "data": {
      "text/plain": [
       "2"
      ]
     },
     "execution_count": 6,
     "metadata": {},
     "output_type": "execute_result"
    }
   ],
   "source": [
    "my_tuple[ -1 ] # The last item of my tuple"
   ]
  },
  {
   "cell_type": "code",
   "execution_count": 7,
   "id": "7a903549-1c07-4326-9a70-d37cee8c71f9",
   "metadata": {},
   "outputs": [
    {
     "data": {
      "text/plain": [
       "4"
      ]
     },
     "execution_count": 7,
     "metadata": {},
     "output_type": "execute_result"
    }
   ],
   "source": [
    "my_tuple[ -2 ]"
   ]
  },
  {
   "cell_type": "code",
   "execution_count": 8,
   "id": "da211aea-2193-482d-b634-5bce8515a822",
   "metadata": {},
   "outputs": [
    {
     "data": {
      "text/plain": [
       "(5, 7, 9, 8, 6)"
      ]
     },
     "execution_count": 8,
     "metadata": {},
     "output_type": "execute_result"
    }
   ],
   "source": [
    "# Tuple slicing\n",
    "\n",
    "# To get a sub-tuple from the original one.\n",
    "\n",
    "#                  #############\n",
    "my_tuple = ( 1, 3, 5, 7, 9, 8, 6, 4, 2 ) \n",
    "# Positions  0. 1. 2. 3  4. 5  6. 7. 8\n",
    "\n",
    "            # The upper bound is not included\n",
    "my_tuple[2:7]"
   ]
  },
  {
   "cell_type": "code",
   "execution_count": 11,
   "id": "3fb0ebd4-930d-42e3-a695-92222585a7d9",
   "metadata": {},
   "outputs": [
    {
     "data": {
      "text/plain": [
       "(1, 3, 5, 7, 9)"
      ]
     },
     "execution_count": 11,
     "metadata": {},
     "output_type": "execute_result"
    }
   ],
   "source": [
    "\n",
    "#            #############\n",
    "my_tuple = ( 1, 3, 5, 7, 9, 8, 6, 4, 2 ) \n",
    "# Positions  0. 1. 2. 3  4. 5  6. 7. 8\n",
    "\n",
    "my_tuple[:5]          # my_tuple[0:5]"
   ]
  },
  {
   "cell_type": "code",
   "execution_count": 13,
   "id": "e89d483b-ddc2-4d77-8ec5-dc963337664c",
   "metadata": {},
   "outputs": [
    {
     "data": {
      "text/plain": [
       "(9, 8, 6, 4, 2)"
      ]
     },
     "execution_count": 13,
     "metadata": {},
     "output_type": "execute_result"
    }
   ],
   "source": [
    "\n",
    "#                        ##########\n",
    "my_tuple = ( 1, 3, 5, 7, 9, 8, 6, 4, 2 ) \n",
    "# Positions  0. 1. 2. 3  4. 5  6. 7. 8\n",
    "# Positions  0. 1. 2. 3 -5 -4 -3 -2 -1\n",
    "\n",
    "my_tuple[ -5 : ]         "
   ]
  },
  {
   "cell_type": "code",
   "execution_count": 15,
   "id": "c770a29b-450b-4cc7-be24-035892431ccf",
   "metadata": {},
   "outputs": [
    {
     "data": {
      "text/plain": [
       "(1, 3, 5, 7, 9, 8, 6, 4, 2)"
      ]
     },
     "execution_count": 15,
     "metadata": {},
     "output_type": "execute_result"
    }
   ],
   "source": [
    "my_tuple[:]"
   ]
  },
  {
   "cell_type": "code",
   "execution_count": 17,
   "id": "74f059b4-50bd-41d7-a5a9-30f38fa5efa5",
   "metadata": {},
   "outputs": [
    {
     "name": "stdout",
     "output_type": "stream",
     "text": [
      "1\n",
      "3\n",
      "5\n",
      "7\n",
      "9\n",
      "8\n",
      "6\n",
      "4\n",
      "2\n"
     ]
    }
   ],
   "source": [
    "# In order to loop thru each value inside a tupple we can use a for loop:\n",
    "\n",
    "for each_value in my_tuple:\n",
    "    print(each_value)"
   ]
  },
  {
   "cell_type": "code",
   "execution_count": 18,
   "id": "43418068-5379-47e4-9da7-c8b8c70bdc03",
   "metadata": {},
   "outputs": [
    {
     "data": {
      "text/plain": [
       "('Anne', 'Francisco', 'Francisca', 'Sean', 'Malachi', 'Helena')"
      ]
     },
     "execution_count": 18,
     "metadata": {},
     "output_type": "execute_result"
    }
   ],
   "source": [
    "tuple1 = (\"Anne\", \"Francisco\", \"Francisca\")\n",
    "tuple2 = (\"Sean\", \"Malachi\", \"Helena\")\n",
    "\n",
    "tuple1 + tuple2 # The plus operator when applied over tuples is going to concatenete them\n"
   ]
  },
  {
   "cell_type": "code",
   "execution_count": 19,
   "id": "3b2d77c5-52ab-4f46-afeb-1fa52f6a4117",
   "metadata": {},
   "outputs": [
    {
     "data": {
      "text/plain": [
       "('Anne',\n",
       " 'Francisco',\n",
       " 'Francisca',\n",
       " 'Anne',\n",
       " 'Francisco',\n",
       " 'Francisca',\n",
       " 'Anne',\n",
       " 'Francisco',\n",
       " 'Francisca')"
      ]
     },
     "execution_count": 19,
     "metadata": {},
     "output_type": "execute_result"
    }
   ],
   "source": [
    "tuple1 * 3"
   ]
  },
  {
   "cell_type": "code",
   "execution_count": 20,
   "id": "efb02fd6-267b-4c8c-bbe7-473c6adee20e",
   "metadata": {},
   "outputs": [
    {
     "data": {
      "text/plain": [
       "16"
      ]
     },
     "execution_count": 20,
     "metadata": {},
     "output_type": "execute_result"
    }
   ],
   "source": [
    "# Texts (string) in python are just tuples of chars\n",
    "\n",
    "my_text = \"Hello everybody!\"\n",
    "len(my_text)  # Numer of chars in that text"
   ]
  },
  {
   "cell_type": "code",
   "execution_count": 23,
   "id": "43978fa8-3ffc-4a9e-8f75-a38a029459c0",
   "metadata": {},
   "outputs": [
    {
     "data": {
      "text/plain": [
       "'body!'"
      ]
     },
     "execution_count": 23,
     "metadata": {},
     "output_type": "execute_result"
    }
   ],
   "source": [
    "my_text[-5:]\n"
   ]
  },
  {
   "cell_type": "code",
   "execution_count": 24,
   "id": "37951e67-5943-4bac-96ce-a0c781d3874b",
   "metadata": {},
   "outputs": [
    {
     "data": {
      "text/plain": [
       "'Hello everybody!Hello everybody!Hello everybody!Hello everybody!Hello everybody!'"
      ]
     },
     "execution_count": 24,
     "metadata": {},
     "output_type": "execute_result"
    }
   ],
   "source": [
    "my_text * 5"
   ]
  },
  {
   "cell_type": "code",
   "execution_count": 25,
   "id": "8d090be3-f31c-4df8-bca4-4a42dee3977c",
   "metadata": {},
   "outputs": [
    {
     "name": "stdout",
     "output_type": "stream",
     "text": [
      "H\n",
      "e\n",
      "l\n",
      "l\n",
      "o\n",
      " \n",
      "e\n",
      "v\n",
      "e\n",
      "r\n",
      "y\n",
      "b\n",
      "o\n",
      "d\n",
      "y\n",
      "!\n"
     ]
    }
   ],
   "source": [
    "for each_char in my_text:\n",
    "    print(each_char)"
   ]
  },
  {
   "cell_type": "code",
   "execution_count": 28,
   "id": "3c72bb41-dde7-4716-be05-061c98763622",
   "metadata": {},
   "outputs": [
    {
     "name": "stdout",
     "output_type": "stream",
     "text": [
      "[1, 2, 3]\n",
      "[1, 10, 3]\n"
     ]
    }
   ],
   "source": [
    "my_list = [ 1, 2, 3 ]\n",
    "\n",
    "print(my_list)\n",
    "\n",
    "my_list[1] = 10 # Update a value inside a list\n",
    "\n",
    "print(my_list)\n"
   ]
  },
  {
   "cell_type": "code",
   "execution_count": 35,
   "id": "48ac0769-9b57-41c9-85d6-6297837e3628",
   "metadata": {},
   "outputs": [
    {
     "name": "stdout",
     "output_type": "stream",
     "text": [
      "[10, 40, 2, 30, 14, 30]\n"
     ]
    }
   ],
   "source": [
    "my_list = [ 10, 2, 30 ]\n",
    "my_list += [14]\n",
    "my_list.append(30)\n",
    "my_list.insert(1, 40)\n",
    "print(my_list)\n"
   ]
  },
  {
   "cell_type": "code",
   "execution_count": 32,
   "id": "66bf0925-49c7-4778-9a15-b98a6e196f3d",
   "metadata": {},
   "outputs": [
    {
     "name": "stdout",
     "output_type": "stream",
     "text": [
      "[10, 2]\n"
     ]
    }
   ],
   "source": [
    "my_list = [ 10, 2, 30 ]\n",
    "my_list.remove(30)       # The first occurrence of that value, is going to be removed\n",
    "print(my_list)\n"
   ]
  },
  {
   "cell_type": "code",
   "execution_count": 33,
   "id": "4db40886-5ee3-4f0b-9e2f-9640b3d441fd",
   "metadata": {},
   "outputs": [
    {
     "name": "stdout",
     "output_type": "stream",
     "text": [
      "[10, 2]\n"
     ]
    }
   ],
   "source": [
    "my_list = [ 10, 2, 30 ]\n",
    "my_list.pop(2)       # The item at the given position is going to be removed\n",
    "print(my_list)\n"
   ]
  },
  {
   "cell_type": "code",
   "execution_count": 36,
   "id": "19ad2ee5-3194-4506-bfa8-40113285c57a",
   "metadata": {},
   "outputs": [
    {
     "data": {
      "text/plain": [
       "2"
      ]
     },
     "execution_count": 36,
     "metadata": {},
     "output_type": "execute_result"
    }
   ],
   "source": [
    "my_list = [ 10, 2, 30, 10, 20, 9, 98 ]\n",
    "my_list.count(10)\n"
   ]
  },
  {
   "cell_type": "code",
   "execution_count": 38,
   "id": "c160ffce-8732-48a1-b177-ecd3d4e71986",
   "metadata": {},
   "outputs": [
    {
     "data": {
      "text/plain": [
       "[2, 9, 10, 10, 20, 30, 98]"
      ]
     },
     "execution_count": 38,
     "metadata": {},
     "output_type": "execute_result"
    }
   ],
   "source": [
    "my_list = [ 10, 2, 30, 10, 20, 9, 98 ]\n",
    "my_list.sort()\n",
    "my_list"
   ]
  },
  {
   "cell_type": "code",
   "execution_count": 39,
   "id": "c3ccf044-f9d9-4d44-b098-270ed90ec3a7",
   "metadata": {},
   "outputs": [],
   "source": [
    "my_list.reverse()"
   ]
  },
  {
   "cell_type": "code",
   "execution_count": 40,
   "id": "8565dd6a-2181-4d69-86a1-e2641491ab0d",
   "metadata": {},
   "outputs": [
    {
     "data": {
      "text/plain": [
       "[98, 30, 20, 10, 10, 9, 2]"
      ]
     },
     "execution_count": 40,
     "metadata": {},
     "output_type": "execute_result"
    }
   ],
   "source": [
    "my_list"
   ]
  },
  {
   "cell_type": "markdown",
   "id": "7576c9b8-b4a9-4cb7-8ae9-143954f1446a",
   "metadata": {},
   "source": [
    "# Dictionaries\n",
    "\n",
    "Is an ordered sequence of items... where each item has an associated id (key).\n",
    "\n",
    "Whenever we need to access one single item within a dictionary we need to use its key, instead of its position."
   ]
  },
  {
   "cell_type": "code",
   "execution_count": 44,
   "id": "1d9c37da-098a-40fb-a1a5-2ec21eb55c63",
   "metadata": {},
   "outputs": [
    {
     "data": {
      "text/plain": [
       "43"
      ]
     },
     "execution_count": 44,
     "metadata": {},
     "output_type": "execute_result"
    }
   ],
   "source": [
    "# Information about a person\n",
    "\n",
    "person1 = { \"name\": \"Ivan\", \"age\": 43, \"email\": \"ivan.osuna.ayuste@gmail.com\" }\n",
    "person2 = { \"name\": \"Anne\", \"age\": 27, \"email\": \"anne@gmail.com\" }\n",
    "\n",
    "person1[\"age\"]\n"
   ]
  },
  {
   "cell_type": "code",
   "execution_count": 45,
   "id": "5d51133c-1c96-4f70-987a-5c174726fbf9",
   "metadata": {},
   "outputs": [
    {
     "data": {
      "text/plain": [
       "'anne@gmail.com'"
      ]
     },
     "execution_count": 45,
     "metadata": {},
     "output_type": "execute_result"
    }
   ],
   "source": [
    "person2[\"email\"]\n"
   ]
  },
  {
   "cell_type": "code",
   "execution_count": 46,
   "id": "23c00250-fbd2-494f-8841-90825de47601",
   "metadata": {},
   "outputs": [],
   "source": [
    "person2[\"email\"] = 'anne.sexton@gmail.com'"
   ]
  },
  {
   "cell_type": "code",
   "execution_count": 47,
   "id": "6d7a4478-1e5c-4567-a40d-87587dbd9ac5",
   "metadata": {},
   "outputs": [
    {
     "data": {
      "text/plain": [
       "{'name': 'Anne', 'age': 27, 'email': 'anne.sexton@gmail.com'}"
      ]
     },
     "execution_count": 47,
     "metadata": {},
     "output_type": "execute_result"
    }
   ],
   "source": [
    "person2"
   ]
  },
  {
   "cell_type": "code",
   "execution_count": 51,
   "id": "b2ebd598-5fcd-4863-aa7b-84cbea2a9305",
   "metadata": {},
   "outputs": [
    {
     "name": "stdout",
     "output_type": "stream",
     "text": [
      "name - Ivan\n",
      "age - 43\n",
      "email - ivan.osuna.ayuste@gmail.com\n"
     ]
    }
   ],
   "source": [
    "person1 = { \"name\": \"Ivan\", \"age\": 43, \"email\": \"ivan.osuna.ayuste@gmail.com\" }\n",
    "\n",
    "for each_key in person1:\n",
    "    print(each_key + \" - \" + str(person1[each_key]) )"
   ]
  },
  {
   "cell_type": "code",
   "execution_count": 56,
   "id": "ee15005c-98bc-4b2f-b84d-c0eafa9b3987",
   "metadata": {},
   "outputs": [
    {
     "name": "stdout",
     "output_type": "stream",
     "text": [
      "name\n",
      "Ivan\n",
      "age\n",
      "43\n",
      "email\n",
      "ivan.osuna.ayuste@gmail.com\n"
     ]
    }
   ],
   "source": [
    "for key,value in person1.items():\n",
    "    print(key)\n",
    "    print(value)"
   ]
  },
  {
   "cell_type": "code",
   "execution_count": null,
   "id": "bbe995a2-76c2-4d5f-bf20-f6b3b4ddd139",
   "metadata": {},
   "outputs": [],
   "source": []
  }
 ],
 "metadata": {
  "kernelspec": {
   "display_name": "Python 3 (ipykernel)",
   "language": "python",
   "name": "python3"
  },
  "language_info": {
   "codemirror_mode": {
    "name": "ipython",
    "version": 3
   },
   "file_extension": ".py",
   "mimetype": "text/x-python",
   "name": "python",
   "nbconvert_exporter": "python",
   "pygments_lexer": "ipython3",
   "version": "3.9.10"
  }
 },
 "nbformat": 4,
 "nbformat_minor": 5
}
